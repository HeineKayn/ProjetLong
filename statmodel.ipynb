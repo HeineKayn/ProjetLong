{
 "cells": [
  {
   "cell_type": "code",
   "execution_count": 1,
   "metadata": {},
   "outputs": [
    {
     "name": "stdout",
     "output_type": "stream",
     "text": [
      "Defaulting to user installation because normal site-packages is not writeable\n",
      "Requirement already satisfied: matplotlib in /usr/local/insa/anaconda/lib/python3.9/site-packages (from -r requirements.txt (line 1)) (3.5.2)\n",
      "Requirement already satisfied: numpy in /home/vmouton/.local/lib/python3.9/site-packages (from -r requirements.txt (line 2)) (1.23.0)\n",
      "Requirement already satisfied: Pillow in /usr/local/insa/anaconda/lib/python3.9/site-packages (from -r requirements.txt (line 3)) (9.2.0)\n",
      "Requirement already satisfied: tqdm in /usr/local/insa/anaconda/lib/python3.9/site-packages (from -r requirements.txt (line 4)) (4.64.0)\n",
      "Requirement already satisfied: py7zr in /home/vmouton/.local/lib/python3.9/site-packages (from -r requirements.txt (line 5)) (0.20.4)\n",
      "Requirement already satisfied: torchvision in /home/vmouton/.local/lib/python3.9/site-packages (from -r requirements.txt (line 6)) (0.14.1)\n",
      "Requirement already satisfied: python-dotenv in /home/vmouton/.local/lib/python3.9/site-packages (from -r requirements.txt (line 7)) (0.21.1)\n",
      "Requirement already satisfied: torchmetrics in /home/vmouton/.local/lib/python3.9/site-packages (from -r requirements.txt (line 8)) (0.11.1)\n",
      "Requirement already satisfied: pefile in /home/vmouton/.local/lib/python3.9/site-packages (from -r requirements.txt (line 9)) (2023.2.7)\n",
      "Requirement already satisfied: capstone in /usr/local/insa/anaconda/lib/python3.9/site-packages (from -r requirements.txt (line 10)) (4.0.0)\n",
      "Requirement already satisfied: tensorboard in /usr/local/insa/anaconda/lib/python3.9/site-packages (from -r requirements.txt (line 11)) (2.10.0)\n",
      "Requirement already satisfied: pyparsing>=2.2.1 in /usr/local/insa/anaconda/lib/python3.9/site-packages (from matplotlib->-r requirements.txt (line 1)) (3.0.9)\n",
      "Requirement already satisfied: cycler>=0.10 in /usr/local/insa/anaconda/lib/python3.9/site-packages (from matplotlib->-r requirements.txt (line 1)) (0.11.0)\n",
      "Requirement already satisfied: packaging>=20.0 in /home/vmouton/.local/lib/python3.9/site-packages (from matplotlib->-r requirements.txt (line 1)) (23.0)\n",
      "Requirement already satisfied: fonttools>=4.22.0 in /usr/local/insa/anaconda/lib/python3.9/site-packages (from matplotlib->-r requirements.txt (line 1)) (4.25.0)\n",
      "Requirement already satisfied: python-dateutil>=2.7 in /home/vmouton/.local/lib/python3.9/site-packages (from matplotlib->-r requirements.txt (line 1)) (2.8.2)\n",
      "Requirement already satisfied: kiwisolver>=1.0.1 in /usr/local/insa/anaconda/lib/python3.9/site-packages (from matplotlib->-r requirements.txt (line 1)) (1.4.2)\n",
      "Requirement already satisfied: multivolumefile>=0.2.3 in /home/vmouton/.local/lib/python3.9/site-packages (from py7zr->-r requirements.txt (line 5)) (0.2.3)\n",
      "Requirement already satisfied: inflate64>=0.3.1 in /home/vmouton/.local/lib/python3.9/site-packages (from py7zr->-r requirements.txt (line 5)) (0.3.1)\n",
      "Requirement already satisfied: pybcj>=0.6.0 in /home/vmouton/.local/lib/python3.9/site-packages (from py7zr->-r requirements.txt (line 5)) (1.0.1)\n",
      "Requirement already satisfied: texttable in /home/vmouton/.local/lib/python3.9/site-packages (from py7zr->-r requirements.txt (line 5)) (1.6.7)\n",
      "Requirement already satisfied: brotli>=1.0.9 in /home/vmouton/.local/lib/python3.9/site-packages (from py7zr->-r requirements.txt (line 5)) (1.0.9)\n",
      "Requirement already satisfied: psutil in /home/vmouton/.local/lib/python3.9/site-packages (from py7zr->-r requirements.txt (line 5)) (5.9.4)\n",
      "Requirement already satisfied: pycryptodomex>=3.6.6 in /home/vmouton/.local/lib/python3.9/site-packages (from py7zr->-r requirements.txt (line 5)) (3.17)\n",
      "Requirement already satisfied: pyzstd>=0.14.4 in /home/vmouton/.local/lib/python3.9/site-packages (from py7zr->-r requirements.txt (line 5)) (0.15.3)\n",
      "Requirement already satisfied: pyppmd<1.1.0,>=0.18.1 in /home/vmouton/.local/lib/python3.9/site-packages (from py7zr->-r requirements.txt (line 5)) (1.0.0)\n",
      "Requirement already satisfied: typing-extensions in /usr/local/insa/anaconda/lib/python3.9/site-packages (from torchvision->-r requirements.txt (line 6)) (4.3.0)\n",
      "Requirement already satisfied: torch==1.13.1 in /home/vmouton/.local/lib/python3.9/site-packages (from torchvision->-r requirements.txt (line 6)) (1.13.1)\n",
      "Requirement already satisfied: requests in /usr/local/insa/anaconda/lib/python3.9/site-packages (from torchvision->-r requirements.txt (line 6)) (2.28.1)\n",
      "Requirement already satisfied: nvidia-cudnn-cu11==8.5.0.96 in /home/vmouton/.local/lib/python3.9/site-packages (from torch==1.13.1->torchvision->-r requirements.txt (line 6)) (8.5.0.96)\n",
      "Requirement already satisfied: nvidia-cublas-cu11==11.10.3.66 in /home/vmouton/.local/lib/python3.9/site-packages (from torch==1.13.1->torchvision->-r requirements.txt (line 6)) (11.10.3.66)\n",
      "Requirement already satisfied: nvidia-cuda-runtime-cu11==11.7.99 in /home/vmouton/.local/lib/python3.9/site-packages (from torch==1.13.1->torchvision->-r requirements.txt (line 6)) (11.7.99)\n",
      "Requirement already satisfied: nvidia-cuda-nvrtc-cu11==11.7.99 in /home/vmouton/.local/lib/python3.9/site-packages (from torch==1.13.1->torchvision->-r requirements.txt (line 6)) (11.7.99)\n",
      "Requirement already satisfied: wheel in /usr/local/insa/anaconda/lib/python3.9/site-packages (from nvidia-cublas-cu11==11.10.3.66->torch==1.13.1->torchvision->-r requirements.txt (line 6)) (0.37.1)\n",
      "Requirement already satisfied: setuptools in /usr/local/insa/anaconda/lib/python3.9/site-packages (from nvidia-cublas-cu11==11.10.3.66->torch==1.13.1->torchvision->-r requirements.txt (line 6)) (63.4.1)\n",
      "Requirement already satisfied: tensorboard-data-server<0.7.0,>=0.6.0 in /usr/local/insa/anaconda/lib/python3.9/site-packages (from tensorboard->-r requirements.txt (line 11)) (0.6.0)\n",
      "Requirement already satisfied: google-auth-oauthlib<0.5,>=0.4.1 in /usr/local/insa/anaconda/lib/python3.9/site-packages (from tensorboard->-r requirements.txt (line 11)) (0.4.6)\n",
      "Requirement already satisfied: google-auth<3,>=1.6.3 in /usr/local/insa/anaconda/lib/python3.9/site-packages (from tensorboard->-r requirements.txt (line 11)) (2.6.0)\n",
      "Requirement already satisfied: werkzeug>=1.0.1 in /usr/local/insa/anaconda/lib/python3.9/site-packages (from tensorboard->-r requirements.txt (line 11)) (2.0.3)\n",
      "Requirement already satisfied: protobuf<3.20,>=3.9.2 in /usr/local/insa/anaconda/lib/python3.9/site-packages (from tensorboard->-r requirements.txt (line 11)) (3.16.0)\n",
      "Requirement already satisfied: absl-py>=0.4 in /usr/local/insa/anaconda/lib/python3.9/site-packages (from tensorboard->-r requirements.txt (line 11)) (1.2.0)\n",
      "Requirement already satisfied: grpcio>=1.24.3 in /usr/local/insa/anaconda/lib/python3.9/site-packages (from tensorboard->-r requirements.txt (line 11)) (1.42.0)\n",
      "Requirement already satisfied: markdown>=2.6.8 in /usr/local/insa/anaconda/lib/python3.9/site-packages (from tensorboard->-r requirements.txt (line 11)) (3.3.4)\n",
      "Requirement already satisfied: tensorboard-plugin-wit>=1.6.0 in /usr/local/insa/anaconda/lib/python3.9/site-packages (from tensorboard->-r requirements.txt (line 11)) (1.8.1)\n",
      "Requirement already satisfied: cachetools<6.0,>=2.0.0 in /usr/local/insa/anaconda/lib/python3.9/site-packages (from google-auth<3,>=1.6.3->tensorboard->-r requirements.txt (line 11)) (4.2.2)\n",
      "Requirement already satisfied: pyasn1-modules>=0.2.1 in /usr/local/insa/anaconda/lib/python3.9/site-packages (from google-auth<3,>=1.6.3->tensorboard->-r requirements.txt (line 11)) (0.2.8)\n",
      "Requirement already satisfied: six>=1.9.0 in /home/vmouton/.local/lib/python3.9/site-packages (from google-auth<3,>=1.6.3->tensorboard->-r requirements.txt (line 11)) (1.16.0)\n",
      "Requirement already satisfied: rsa<5,>=3.1.4 in /usr/local/insa/anaconda/lib/python3.9/site-packages (from google-auth<3,>=1.6.3->tensorboard->-r requirements.txt (line 11)) (4.7.2)\n",
      "Requirement already satisfied: requests-oauthlib>=0.7.0 in /usr/local/insa/anaconda/lib/python3.9/site-packages (from google-auth-oauthlib<0.5,>=0.4.1->tensorboard->-r requirements.txt (line 11)) (1.3.1)\n",
      "Requirement already satisfied: idna<4,>=2.5 in /usr/local/insa/anaconda/lib/python3.9/site-packages (from requests->torchvision->-r requirements.txt (line 6)) (3.3)\n",
      "Requirement already satisfied: certifi>=2017.4.17 in /usr/local/insa/anaconda/lib/python3.9/site-packages (from requests->torchvision->-r requirements.txt (line 6)) (2022.9.24)\n",
      "Requirement already satisfied: urllib3<1.27,>=1.21.1 in /usr/local/insa/anaconda/lib/python3.9/site-packages (from requests->torchvision->-r requirements.txt (line 6)) (1.26.11)\n",
      "Requirement already satisfied: charset-normalizer<3,>=2 in /usr/local/insa/anaconda/lib/python3.9/site-packages (from requests->torchvision->-r requirements.txt (line 6)) (2.0.4)\n",
      "Requirement already satisfied: pyasn1<0.5.0,>=0.4.6 in /usr/local/insa/anaconda/lib/python3.9/site-packages (from pyasn1-modules>=0.2.1->google-auth<3,>=1.6.3->tensorboard->-r requirements.txt (line 11)) (0.4.8)\n",
      "Requirement already satisfied: oauthlib>=3.0.0 in /usr/local/insa/anaconda/lib/python3.9/site-packages (from requests-oauthlib>=0.7.0->google-auth-oauthlib<0.5,>=0.4.1->tensorboard->-r requirements.txt (line 11)) (3.2.0)\n"
     ]
    }
   ],
   "source": [
    "!pip3 install -r requirements.txt"
   ]
  },
  {
   "cell_type": "code",
   "execution_count": 46,
   "metadata": {},
   "outputs": [],
   "source": [
    "import projetLib as proj\n",
    "import torch\n",
    "from tqdm import tqdm\n",
    "import sys\n",
    "from statistics import mean\n",
    "from torch import nn\n",
    "from torchmetrics import ConfusionMatrix,Accuracy\n",
    "import os\n",
    "from torch.utils.data import DataLoader\n",
    "from torch.nn import BCEWithLogitsLoss, HingeEmbeddingLoss\n",
    "import numpy as np"
   ]
  },
  {
   "cell_type": "code",
   "execution_count": 5,
   "metadata": {},
   "outputs": [
    {
     "name": "stdout",
     "output_type": "stream",
     "text": [
      "Extracting features: 100%|██████████| 10681/10681 [11:40<00:00, 15.24it/s] \n"
     ]
    }
   ],
   "source": [
    "base = \"./data\" + \"/images/\"\n",
    "unzipped = \"./Virusshare.00457/\"\n",
    "proj.extract_features(unzipped,base)"
   ]
  },
  {
   "cell_type": "code",
   "execution_count": 3,
   "metadata": {},
   "outputs": [],
   "source": [
    "runName = \"smallpe_2\"\n",
    "batch_size = 16\n",
    "limit = 10000\n",
    "device = torch.device('cuda' if torch.cuda.is_available() else 'cpu')\n",
    "\n",
    "epochs = 1\n",
    "\n",
    "trainDataset, testDataset = proj.image.getTrainTest(\n",
    "    resize=(224,224), batch_size=batch_size, seed=1, limit=limit,\n",
    "    test_proportion=0.2, extensions=[\"other\"])\n",
    "\n",
    "model =  proj.model.getCNNresnet().to(device)\n",
    "trainloader = DataLoader(trainDataset, num_workers=2, batch_size=batch_size, shuffle=True)\n",
    "testloader = DataLoader(testDataset, num_workers=2, batch_size=batch_size, shuffle=True)\n",
    "optimizer = torch.optim.Adam(model.parameters(), lr=1e-3, weight_decay=0.001)\n",
    "\n",
    "# tuples de loss et leur coef\n",
    "losses = [\n",
    "    #(imp.loss.perceptualVGG,1),\n",
    "    #(imp.loss.totalVariation,1),\n",
    "    (BCEWithLogitsLoss(),1)\n",
    "    # (HingeEmbeddingLoss(),1)\n",
    "]"
   ]
  },
  {
   "cell_type": "code",
   "execution_count": 4,
   "metadata": {},
   "outputs": [
    {
     "name": "stdout",
     "output_type": "stream",
     "text": [
      "Training progress:   0%|\u001b[38;2;0;255;0m                                  \u001b[0m| 0/1 [00:00<?, ?it/s]\u001b[0m\n",
      "  0%|\u001b[38;2;0;85;0m                                                   \u001b[0m| 0/298 [00:00<?, ?it/s]\u001b[0m\u001b[A\n",
      "Training loss: 8.49670:   0%|\u001b[38;2;0;85;0m                           \u001b[0m| 0/298 [00:13<?, ?it/s]\u001b[0m\u001b[A\n",
      "Training loss: 8.49670:   0%|\u001b[38;2;0;85;0m                 \u001b[0m| 1/298 [00:13<1:06:54, 13.52s/it]\u001b[0m\u001b[A\n",
      "Training loss: 8.44028:   0%|\u001b[38;2;0;85;0m                 \u001b[0m| 1/298 [00:13<1:06:54, 13.52s/it]\u001b[0m\u001b[A\n",
      "Training loss: 8.44028:   1%|\u001b[38;2;0;85;0m▏                  \u001b[0m| 2/298 [00:13<28:34,  5.79s/it]\u001b[0m\u001b[A\n",
      "Training loss: 8.50696:   1%|\u001b[38;2;0;85;0m▏                  \u001b[0m| 2/298 [00:14<28:34,  5.79s/it]\u001b[0m\u001b[A\n",
      "Training loss: 8.50696:   1%|\u001b[38;2;0;85;0m▏                  \u001b[0m| 3/298 [00:14<16:20,  3.32s/it]\u001b[0m\u001b[A\n",
      "Training loss: 8.46819:   1%|\u001b[38;2;0;85;0m▏                  \u001b[0m| 3/298 [00:14<16:20,  3.32s/it]\u001b[0m\u001b[A\n",
      "Training loss: 8.46819:   1%|\u001b[38;2;0;85;0m▎                  \u001b[0m| 4/298 [00:14<10:35,  2.16s/it]\u001b[0m\u001b[A\n",
      "Training loss: 8.46090:   1%|\u001b[38;2;0;85;0m▎                  \u001b[0m| 4/298 [00:15<10:35,  2.16s/it]\u001b[0m\u001b[A\n",
      "Training loss: 8.46090:   2%|\u001b[38;2;0;85;0m▎                  \u001b[0m| 5/298 [00:15<07:25,  1.52s/it]\u001b[0m\u001b[A\n",
      "Training loss: 8.45500:   2%|\u001b[38;2;0;85;0m▎                  \u001b[0m| 5/298 [00:15<07:25,  1.52s/it]\u001b[0m\u001b[A\n",
      "Training loss: 8.45500:   2%|\u001b[38;2;0;85;0m▍                  \u001b[0m| 6/298 [00:15<05:30,  1.13s/it]\u001b[0m\u001b[A\n",
      "Training loss: 8.48187:   2%|\u001b[38;2;0;85;0m▍                  \u001b[0m| 6/298 [00:15<05:30,  1.13s/it]\u001b[0m\u001b[A\n",
      "Training loss: 8.48187:   2%|\u001b[38;2;0;85;0m▍                  \u001b[0m| 7/298 [00:15<04:18,  1.13it/s]\u001b[0m\u001b[A\n",
      "Training loss: 8.47785:   2%|\u001b[38;2;0;85;0m▍                  \u001b[0m| 7/298 [00:16<04:18,  1.13it/s]\u001b[0m\u001b[A\n",
      "Training loss: 8.47785:   3%|\u001b[38;2;0;85;0m▌                  \u001b[0m| 8/298 [00:16<03:30,  1.37it/s]\u001b[0m\u001b[A\n",
      "Training loss: 8.48938:   3%|\u001b[38;2;0;85;0m▌                  \u001b[0m| 8/298 [00:16<03:30,  1.37it/s]\u001b[0m\u001b[A\n",
      "Training loss: 8.48938:   3%|\u001b[38;2;0;85;0m▌                  \u001b[0m| 9/298 [00:16<02:59,  1.61it/s]\u001b[0m\u001b[A\n",
      "Training loss: 8.49713:   3%|\u001b[38;2;0;85;0m▌                  \u001b[0m| 9/298 [00:16<02:59,  1.61it/s]\u001b[0m\u001b[A\n",
      "Training loss: 8.49713:   3%|\u001b[38;2;0;85;0m▌                 \u001b[0m| 10/298 [00:16<02:37,  1.83it/s]\u001b[0m\u001b[A\n",
      "Training loss: 8.49796:   3%|\u001b[38;2;0;85;0m▌                 \u001b[0m| 10/298 [00:17<02:37,  1.83it/s]\u001b[0m\u001b[A\n",
      "Training loss: 8.49796:   4%|\u001b[38;2;0;85;0m▋                 \u001b[0m| 11/298 [00:17<02:22,  2.01it/s]\u001b[0m\u001b[A\n",
      "Training loss: 8.51127:   4%|\u001b[38;2;0;85;0m▋                 \u001b[0m| 11/298 [00:17<02:22,  2.01it/s]\u001b[0m\u001b[A\n",
      "Training loss: 8.51127:   4%|\u001b[38;2;0;85;0m▋                 \u001b[0m| 12/298 [00:17<02:12,  2.16it/s]\u001b[0m\u001b[A\n",
      "Training loss: 8.53699:   4%|\u001b[38;2;0;85;0m▋                 \u001b[0m| 12/298 [00:18<02:12,  2.16it/s]\u001b[0m\u001b[A\n",
      "Training loss: 8.53699:   4%|\u001b[38;2;0;85;0m▊                 \u001b[0m| 13/298 [00:18<02:04,  2.28it/s]\u001b[0m\u001b[A\n",
      "Training loss: 8.54243:   4%|\u001b[38;2;0;85;0m▊                 \u001b[0m| 13/298 [00:18<02:04,  2.28it/s]\u001b[0m\u001b[A\n",
      "Training loss: 8.54243:   5%|\u001b[38;2;0;85;0m▊                 \u001b[0m| 14/298 [00:18<01:59,  2.37it/s]\u001b[0m\u001b[A\n",
      "Training loss: 8.54569:   5%|\u001b[38;2;0;85;0m▊                 \u001b[0m| 14/298 [00:18<01:59,  2.37it/s]\u001b[0m\u001b[A\n",
      "Training loss: 8.54569:   5%|\u001b[38;2;0;85;0m▉                 \u001b[0m| 15/298 [00:18<01:56,  2.44it/s]\u001b[0m\u001b[A\n",
      "Training loss: 8.53696:   5%|\u001b[38;2;0;85;0m▉                 \u001b[0m| 15/298 [00:19<01:56,  2.44it/s]\u001b[0m\u001b[A\n",
      "Training loss: 8.53696:   5%|\u001b[38;2;0;85;0m▉                 \u001b[0m| 16/298 [00:19<01:53,  2.49it/s]\u001b[0m\u001b[A\n",
      "Training loss: 8.52877:   5%|\u001b[38;2;0;85;0m▉                 \u001b[0m| 16/298 [00:19<01:53,  2.49it/s]\u001b[0m\u001b[A\n",
      "Training loss: 8.52877:   6%|\u001b[38;2;0;85;0m█                 \u001b[0m| 17/298 [00:19<01:51,  2.52it/s]\u001b[0m\u001b[A\n",
      "Training loss: 8.51252:   6%|\u001b[38;2;0;85;0m█                 \u001b[0m| 17/298 [00:20<01:51,  2.52it/s]\u001b[0m\u001b[A\n",
      "Training loss: 8.51252:   6%|\u001b[38;2;0;85;0m█                 \u001b[0m| 18/298 [00:20<01:49,  2.55it/s]\u001b[0m\u001b[A\n",
      "Training loss: 8.49961:   6%|\u001b[38;2;0;85;0m█                 \u001b[0m| 18/298 [00:20<01:49,  2.55it/s]\u001b[0m\u001b[A\n",
      "Training loss: 8.49961:   6%|\u001b[38;2;0;85;0m█▏                \u001b[0m| 19/298 [00:20<01:48,  2.56it/s]\u001b[0m\u001b[A\n",
      "Training loss: 8.50482:   6%|\u001b[38;2;0;85;0m█▏                \u001b[0m| 19/298 [00:20<01:48,  2.56it/s]\u001b[0m\u001b[A\n",
      "Training loss: 8.50482:   7%|\u001b[38;2;0;85;0m█▏                \u001b[0m| 20/298 [00:20<01:47,  2.58it/s]\u001b[0m\u001b[A\n",
      "Training loss: 8.50941:   7%|\u001b[38;2;0;85;0m█▏                \u001b[0m| 20/298 [00:21<01:47,  2.58it/s]\u001b[0m\u001b[A\n",
      "Training loss: 8.50941:   7%|\u001b[38;2;0;85;0m█▎                \u001b[0m| 21/298 [00:21<01:47,  2.58it/s]\u001b[0m\u001b[A\n",
      "Training loss: 8.52116:   7%|\u001b[38;2;0;85;0m█▎                \u001b[0m| 21/298 [00:21<01:47,  2.58it/s]\u001b[0m\u001b[A\n",
      "Training loss: 8.52116:   7%|\u001b[38;2;0;85;0m█▎                \u001b[0m| 22/298 [00:21<01:46,  2.59it/s]\u001b[0m\u001b[A\n",
      "Training loss: 8.50936:   7%|\u001b[38;2;0;85;0m█▎                \u001b[0m| 22/298 [00:21<01:46,  2.59it/s]\u001b[0m\u001b[A\n",
      "Training loss: 8.50936:   8%|\u001b[38;2;0;85;0m█▍                \u001b[0m| 23/298 [00:21<01:46,  2.59it/s]\u001b[0m\u001b[A\n",
      "Training loss: 8.51308:   8%|\u001b[38;2;0;85;0m█▍                \u001b[0m| 23/298 [00:22<01:46,  2.59it/s]\u001b[0m\u001b[A\n",
      "Training loss: 8.51308:   8%|\u001b[38;2;0;85;0m█▍                \u001b[0m| 24/298 [00:22<01:45,  2.60it/s]\u001b[0m\u001b[A\n",
      "Training loss: 8.51623:   8%|\u001b[38;2;0;85;0m█▍                \u001b[0m| 24/298 [00:22<01:45,  2.60it/s]\u001b[0m\u001b[A\n",
      "Training loss: 8.51623:   8%|\u001b[38;2;0;85;0m█▌                \u001b[0m| 25/298 [00:22<01:45,  2.60it/s]\u001b[0m\u001b[A\n",
      "Training loss: 8.51125:   8%|\u001b[38;2;0;85;0m█▌                \u001b[0m| 25/298 [00:23<01:45,  2.60it/s]\u001b[0m\u001b[A\n",
      "Training loss: 8.51125:   9%|\u001b[38;2;0;85;0m█▌                \u001b[0m| 26/298 [00:23<01:44,  2.60it/s]\u001b[0m\u001b[A\n",
      "Training loss: 8.51184:   9%|\u001b[38;2;0;85;0m█▌                \u001b[0m| 26/298 [00:23<01:44,  2.60it/s]\u001b[0m\u001b[A\n",
      "Training loss: 8.51184:   9%|\u001b[38;2;0;85;0m█▋                \u001b[0m| 27/298 [00:23<01:44,  2.60it/s]\u001b[0m\u001b[A\n",
      "Training loss: 8.51299:   9%|\u001b[38;2;0;85;0m█▋                \u001b[0m| 27/298 [00:23<01:44,  2.60it/s]\u001b[0m\u001b[A\n",
      "Training loss: 8.51299:   9%|\u001b[38;2;0;85;0m█▋                \u001b[0m| 28/298 [00:23<01:44,  2.60it/s]\u001b[0m\u001b[A\n",
      "Training loss: 8.51569:   9%|\u001b[38;2;0;85;0m█▋                \u001b[0m| 28/298 [00:24<01:44,  2.60it/s]\u001b[0m\u001b[A\n",
      "Training loss: 8.51569:  10%|\u001b[38;2;0;85;0m█▊                \u001b[0m| 29/298 [00:24<01:43,  2.60it/s]\u001b[0m\u001b[A\n",
      "Training loss: 8.50645:  10%|\u001b[38;2;0;85;0m█▊                \u001b[0m| 29/298 [00:24<01:43,  2.60it/s]\u001b[0m\u001b[A\n",
      "Training loss: 8.50645:  10%|\u001b[38;2;0;85;0m█▊                \u001b[0m| 30/298 [00:24<01:42,  2.60it/s]\u001b[0m\u001b[A\n",
      "Training loss: 8.49774:  10%|\u001b[38;2;0;85;0m█▊                \u001b[0m| 30/298 [00:25<01:42,  2.60it/s]\u001b[0m\u001b[A\n",
      "Training loss: 8.49774:  10%|\u001b[38;2;0;85;0m█▊                \u001b[0m| 31/298 [00:25<01:42,  2.60it/s]\u001b[0m\u001b[A\n",
      "Training loss: 8.49984:  10%|\u001b[38;2;0;85;0m█▊                \u001b[0m| 31/298 [00:25<01:42,  2.60it/s]\u001b[0m\u001b[A\n",
      "Training loss: 8.49984:  11%|\u001b[38;2;0;85;0m█▉                \u001b[0m| 32/298 [00:25<01:42,  2.60it/s]\u001b[0m\u001b[A\n",
      "Training loss: 8.50707:  11%|\u001b[38;2;0;85;0m█▉                \u001b[0m| 32/298 [00:25<01:42,  2.60it/s]\u001b[0m\u001b[A\n",
      "Training loss: 8.50707:  11%|\u001b[38;2;0;85;0m█▉                \u001b[0m| 33/298 [00:25<01:41,  2.60it/s]\u001b[0m\u001b[A\n",
      "Training loss: 8.50775:  11%|\u001b[38;2;0;85;0m█▉                \u001b[0m| 33/298 [00:26<01:41,  2.60it/s]\u001b[0m\u001b[A\n",
      "Training loss: 8.50775:  11%|\u001b[38;2;0;85;0m██                \u001b[0m| 34/298 [00:26<01:41,  2.60it/s]\u001b[0m\u001b[A\n",
      "Training loss: 8.51597:  11%|\u001b[38;2;0;85;0m██                \u001b[0m| 34/298 [00:26<01:41,  2.60it/s]\u001b[0m\u001b[A\n",
      "Training loss: 8.51597:  12%|\u001b[38;2;0;85;0m██                \u001b[0m| 35/298 [00:26<01:41,  2.59it/s]\u001b[0m\u001b[A\n",
      "Training loss: 8.51288:  12%|\u001b[38;2;0;85;0m██                \u001b[0m| 35/298 [00:26<01:41,  2.59it/s]\u001b[0m\u001b[A\n",
      "Training loss: 8.51288:  12%|\u001b[38;2;0;85;0m██▏               \u001b[0m| 36/298 [00:26<01:41,  2.59it/s]\u001b[0m\u001b[A\n",
      "Training loss: 8.51310:  12%|\u001b[38;2;0;85;0m██▏               \u001b[0m| 36/298 [00:27<01:41,  2.59it/s]\u001b[0m\u001b[A\n",
      "Training loss: 8.51310:  12%|\u001b[38;2;0;85;0m██▏               \u001b[0m| 37/298 [00:27<01:40,  2.60it/s]\u001b[0m\u001b[A\n",
      "Training loss: 8.50557:  12%|\u001b[38;2;0;85;0m██▏               \u001b[0m| 37/298 [00:27<01:40,  2.60it/s]\u001b[0m\u001b[A\n"
     ]
    },
    {
     "name": "stdout",
     "output_type": "stream",
     "text": [
      "Training loss: 8.50557:  13%|\u001b[38;2;0;85;0m██▎               \u001b[0m| 38/298 [00:27<01:40,  2.59it/s]\u001b[0m\u001b[A\n",
      "Training loss: 8.50677:  13%|\u001b[38;2;0;85;0m██▎               \u001b[0m| 38/298 [00:28<01:40,  2.59it/s]\u001b[0m\u001b[A\n",
      "Training loss: 8.50677:  13%|\u001b[38;2;0;85;0m██▎               \u001b[0m| 39/298 [00:28<01:39,  2.60it/s]\u001b[0m\u001b[A\n",
      "Training loss: 8.50799:  13%|\u001b[38;2;0;85;0m██▎               \u001b[0m| 39/298 [00:28<01:39,  2.60it/s]\u001b[0m\u001b[A\n",
      "Training loss: 8.50799:  13%|\u001b[38;2;0;85;0m██▍               \u001b[0m| 40/298 [00:28<01:39,  2.60it/s]\u001b[0m\u001b[A\n",
      "Training loss: 8.50580:  13%|\u001b[38;2;0;85;0m██▍               \u001b[0m| 40/298 [00:28<01:39,  2.60it/s]\u001b[0m\u001b[A\n",
      "Training loss: 8.50580:  14%|\u001b[38;2;0;85;0m██▍               \u001b[0m| 41/298 [00:28<01:39,  2.60it/s]\u001b[0m\u001b[A\n",
      "Training loss: 8.50742:  14%|\u001b[38;2;0;85;0m██▍               \u001b[0m| 41/298 [00:29<01:39,  2.60it/s]\u001b[0m\u001b[A\n",
      "Training loss: 8.50742:  14%|\u001b[38;2;0;85;0m██▌               \u001b[0m| 42/298 [00:29<01:38,  2.59it/s]\u001b[0m\u001b[A\n",
      "Training loss: 8.50875:  14%|\u001b[38;2;0;85;0m██▌               \u001b[0m| 42/298 [00:29<01:38,  2.59it/s]\u001b[0m\u001b[A\n",
      "Training loss: 8.50875:  14%|\u001b[38;2;0;85;0m██▌               \u001b[0m| 43/298 [00:29<01:38,  2.60it/s]\u001b[0m\u001b[A\n",
      "Training loss: 8.50350:  14%|\u001b[38;2;0;85;0m██▌               \u001b[0m| 43/298 [00:30<01:38,  2.60it/s]\u001b[0m\u001b[A\n",
      "Training loss: 8.50350:  15%|\u001b[38;2;0;85;0m██▋               \u001b[0m| 44/298 [00:30<01:37,  2.59it/s]\u001b[0m\u001b[A\n",
      "Training loss: 8.50584:  15%|\u001b[38;2;0;85;0m██▋               \u001b[0m| 44/298 [00:30<01:37,  2.59it/s]\u001b[0m\u001b[A\n",
      "Training loss: 8.50584:  15%|\u001b[38;2;0;85;0m██▋               \u001b[0m| 45/298 [00:30<01:37,  2.60it/s]\u001b[0m\u001b[A\n",
      "Training loss: 8.51348:  15%|\u001b[38;2;0;85;0m██▋               \u001b[0m| 45/298 [00:30<01:37,  2.60it/s]\u001b[0m\u001b[A\n",
      "Training loss: 8.51348:  15%|\u001b[38;2;0;85;0m██▊               \u001b[0m| 46/298 [00:30<01:37,  2.60it/s]\u001b[0m\u001b[A\n",
      "Training loss: 8.51510:  15%|\u001b[38;2;0;85;0m██▊               \u001b[0m| 46/298 [00:31<01:37,  2.60it/s]\u001b[0m\u001b[A\n",
      "Training loss: 8.51510:  16%|\u001b[38;2;0;85;0m██▊               \u001b[0m| 47/298 [00:31<01:36,  2.60it/s]\u001b[0m\u001b[A\n",
      "Training loss: 8.51263:  16%|\u001b[38;2;0;85;0m██▊               \u001b[0m| 47/298 [00:31<01:36,  2.60it/s]\u001b[0m\u001b[A\n",
      "Training loss: 8.51263:  16%|\u001b[38;2;0;85;0m██▉               \u001b[0m| 48/298 [00:31<01:36,  2.59it/s]\u001b[0m\u001b[A\n",
      "Training loss: 8.51262:  16%|\u001b[38;2;0;85;0m██▉               \u001b[0m| 48/298 [00:31<01:36,  2.59it/s]\u001b[0m\u001b[A\n",
      "Training loss: 8.51262:  16%|\u001b[38;2;0;85;0m██▉               \u001b[0m| 49/298 [00:31<01:36,  2.59it/s]\u001b[0m\u001b[A\n",
      "Training loss: 8.51000:  16%|\u001b[38;2;0;85;0m██▉               \u001b[0m| 49/298 [00:32<01:36,  2.59it/s]\u001b[0m\u001b[A\n",
      "Training loss: 8.51000:  17%|\u001b[38;2;0;85;0m███               \u001b[0m| 50/298 [00:32<01:35,  2.59it/s]\u001b[0m\u001b[A\n",
      "Training loss: 8.50916:  17%|\u001b[38;2;0;85;0m███               \u001b[0m| 50/298 [00:32<01:35,  2.59it/s]\u001b[0m\u001b[A\n",
      "Training loss: 8.50916:  17%|\u001b[38;2;0;85;0m███               \u001b[0m| 51/298 [00:32<01:35,  2.60it/s]\u001b[0m\u001b[A\n",
      "Training loss: 8.50822:  17%|\u001b[38;2;0;85;0m███               \u001b[0m| 51/298 [00:33<01:35,  2.60it/s]\u001b[0m\u001b[A\n",
      "Training loss: 8.50822:  17%|\u001b[38;2;0;85;0m███▏              \u001b[0m| 52/298 [00:33<01:34,  2.59it/s]\u001b[0m\u001b[A\n",
      "Training loss: 8.50764:  17%|\u001b[38;2;0;85;0m███▏              \u001b[0m| 52/298 [00:33<01:34,  2.59it/s]\u001b[0m\u001b[A\n",
      "Training loss: 8.50764:  18%|\u001b[38;2;0;85;0m███▏              \u001b[0m| 53/298 [00:33<01:34,  2.59it/s]\u001b[0m\u001b[A\n",
      "Training loss: 8.50954:  18%|\u001b[38;2;0;85;0m███▏              \u001b[0m| 53/298 [00:33<01:34,  2.59it/s]\u001b[0m\u001b[A\n",
      "Training loss: 8.50954:  18%|\u001b[38;2;0;85;0m███▎              \u001b[0m| 54/298 [00:33<01:34,  2.59it/s]\u001b[0m\u001b[A\n",
      "Training loss: 8.51250:  18%|\u001b[38;2;0;85;0m███▎              \u001b[0m| 54/298 [00:34<01:34,  2.59it/s]\u001b[0m\u001b[A\n",
      "Training loss: 8.51250:  18%|\u001b[38;2;0;85;0m███▎              \u001b[0m| 55/298 [00:34<01:33,  2.59it/s]\u001b[0m\u001b[A\n",
      "Training loss: 8.50741:  18%|\u001b[38;2;0;85;0m███▎              \u001b[0m| 55/298 [00:34<01:33,  2.59it/s]\u001b[0m\u001b[A\n",
      "Training loss: 8.50741:  19%|\u001b[38;2;0;85;0m███▍              \u001b[0m| 56/298 [00:34<01:33,  2.59it/s]\u001b[0m\u001b[A\n",
      "Training loss: 8.51195:  19%|\u001b[38;2;0;85;0m███▍              \u001b[0m| 56/298 [00:35<01:33,  2.59it/s]\u001b[0m\u001b[A\n",
      "Training loss: 8.51195:  19%|\u001b[38;2;0;85;0m███▍              \u001b[0m| 57/298 [00:35<01:33,  2.59it/s]\u001b[0m\u001b[A\n",
      "Training loss: 8.51375:  19%|\u001b[38;2;0;85;0m███▍              \u001b[0m| 57/298 [00:35<01:33,  2.59it/s]\u001b[0m\u001b[A\n",
      "Training loss: 8.51375:  19%|\u001b[38;2;0;85;0m███▌              \u001b[0m| 58/298 [00:35<01:32,  2.59it/s]\u001b[0m\u001b[A\n",
      "Training loss: 8.51391:  19%|\u001b[38;2;0;85;0m███▌              \u001b[0m| 58/298 [00:35<01:32,  2.59it/s]\u001b[0m\u001b[A\n",
      "Training loss: 8.51391:  20%|\u001b[38;2;0;85;0m███▌              \u001b[0m| 59/298 [00:35<01:32,  2.59it/s]\u001b[0m\u001b[A\n",
      "Training loss: 8.51815:  20%|\u001b[38;2;0;85;0m███▌              \u001b[0m| 59/298 [00:36<01:32,  2.59it/s]\u001b[0m\u001b[A\n",
      "Training loss: 8.51815:  20%|\u001b[38;2;0;85;0m███▌              \u001b[0m| 60/298 [00:36<01:31,  2.59it/s]\u001b[0m\u001b[A\n",
      "Training loss: 8.51966:  20%|\u001b[38;2;0;85;0m███▌              \u001b[0m| 60/298 [00:36<01:31,  2.59it/s]\u001b[0m\u001b[A\n",
      "Training loss: 8.51966:  20%|\u001b[38;2;0;85;0m███▋              \u001b[0m| 61/298 [00:36<01:31,  2.59it/s]\u001b[0m\u001b[A\n",
      "Training loss: 8.52100:  20%|\u001b[38;2;0;85;0m███▋              \u001b[0m| 61/298 [00:36<01:31,  2.59it/s]\u001b[0m\u001b[A\n",
      "Training loss: 8.52100:  21%|\u001b[38;2;0;85;0m███▋              \u001b[0m| 62/298 [00:36<01:31,  2.59it/s]\u001b[0m\u001b[A\n",
      "Training loss: 8.51922:  21%|\u001b[38;2;0;85;0m███▋              \u001b[0m| 62/298 [00:37<01:31,  2.59it/s]\u001b[0m\u001b[A\n",
      "Training loss: 8.51922:  21%|\u001b[38;2;0;85;0m███▊              \u001b[0m| 63/298 [00:37<01:30,  2.59it/s]\u001b[0m\u001b[A\n",
      "Training loss: 8.52079:  21%|\u001b[38;2;0;85;0m███▊              \u001b[0m| 63/298 [00:37<01:30,  2.59it/s]\u001b[0m\u001b[A\n",
      "Training loss: 8.52079:  21%|\u001b[38;2;0;85;0m███▊              \u001b[0m| 64/298 [00:37<01:30,  2.59it/s]\u001b[0m\u001b[A\n",
      "Training loss: 8.51953:  21%|\u001b[38;2;0;85;0m███▊              \u001b[0m| 64/298 [00:38<01:30,  2.59it/s]\u001b[0m\u001b[A\n",
      "Training loss: 8.51953:  22%|\u001b[38;2;0;85;0m███▉              \u001b[0m| 65/298 [00:38<01:30,  2.59it/s]\u001b[0m\u001b[A\n",
      "Training loss: 8.52185:  22%|\u001b[38;2;0;85;0m███▉              \u001b[0m| 65/298 [00:38<01:30,  2.59it/s]\u001b[0m\u001b[A\n",
      "Training loss: 8.52185:  22%|\u001b[38;2;0;85;0m███▉              \u001b[0m| 66/298 [00:38<01:29,  2.58it/s]\u001b[0m\u001b[A\n",
      "Training loss: 8.51851:  22%|\u001b[38;2;0;85;0m███▉              \u001b[0m| 66/298 [00:38<01:29,  2.58it/s]\u001b[0m\u001b[A\n",
      "Training loss: 8.51851:  22%|\u001b[38;2;0;85;0m████              \u001b[0m| 67/298 [00:38<01:29,  2.59it/s]\u001b[0m\u001b[A\n",
      "Training loss: 8.52362:  22%|\u001b[38;2;0;85;0m████              \u001b[0m| 67/298 [00:39<01:29,  2.59it/s]\u001b[0m\u001b[A\n",
      "Training loss: 8.52362:  23%|\u001b[38;2;0;85;0m████              \u001b[0m| 68/298 [00:39<01:28,  2.59it/s]\u001b[0m\u001b[A\n",
      "Training loss: 8.52175:  23%|\u001b[38;2;0;85;0m████              \u001b[0m| 68/298 [00:39<01:28,  2.59it/s]\u001b[0m\u001b[A\n",
      "Training loss: 8.52175:  23%|\u001b[38;2;0;85;0m████▏             \u001b[0m| 69/298 [00:39<01:28,  2.59it/s]\u001b[0m\u001b[A\n",
      "Training loss: 8.52246:  23%|\u001b[38;2;0;85;0m████▏             \u001b[0m| 69/298 [00:40<01:28,  2.59it/s]\u001b[0m\u001b[A\n",
      "Training loss: 8.52246:  23%|\u001b[38;2;0;85;0m████▏             \u001b[0m| 70/298 [00:40<01:28,  2.59it/s]\u001b[0m\u001b[A\n",
      "Training loss: 8.52462:  23%|\u001b[38;2;0;85;0m████▏             \u001b[0m| 70/298 [00:40<01:28,  2.59it/s]\u001b[0m\u001b[A\n",
      "Training loss: 8.52462:  24%|\u001b[38;2;0;85;0m████▎             \u001b[0m| 71/298 [00:40<01:27,  2.59it/s]\u001b[0m\u001b[A\n",
      "Training loss: 8.52669:  24%|\u001b[38;2;0;85;0m████▎             \u001b[0m| 71/298 [00:40<01:27,  2.59it/s]\u001b[0m\u001b[A\n",
      "Training loss: 8.52669:  24%|\u001b[38;2;0;85;0m████▎             \u001b[0m| 72/298 [00:40<01:27,  2.59it/s]\u001b[0m\u001b[A\n",
      "Training loss: 8.53068:  24%|\u001b[38;2;0;85;0m████▎             \u001b[0m| 72/298 [00:41<01:27,  2.59it/s]\u001b[0m\u001b[A\n",
      "Training loss: 8.53068:  24%|\u001b[38;2;0;85;0m████▍             \u001b[0m| 73/298 [00:41<01:27,  2.59it/s]\u001b[0m\u001b[A\n",
      "Training loss: 8.52724:  24%|\u001b[38;2;0;85;0m████▍             \u001b[0m| 73/298 [00:41<01:27,  2.59it/s]\u001b[0m\u001b[A\n",
      "Training loss: 8.52724:  25%|\u001b[38;2;0;85;0m████▍             \u001b[0m| 74/298 [00:41<01:26,  2.59it/s]\u001b[0m\u001b[A\n",
      "Training loss: 8.52831:  25%|\u001b[38;2;0;85;0m████▍             \u001b[0m| 74/298 [00:42<01:26,  2.59it/s]\u001b[0m\u001b[A\n",
      "Training loss: 8.52831:  25%|\u001b[38;2;0;85;0m████▌             \u001b[0m| 75/298 [00:42<01:26,  2.58it/s]\u001b[0m\u001b[A\n",
      "Training loss: 8.52817:  25%|\u001b[38;2;0;85;0m████▌             \u001b[0m| 75/298 [00:42<01:26,  2.58it/s]\u001b[0m\u001b[A\n",
      "Training loss: 8.52817:  26%|\u001b[38;2;0;85;0m████▌             \u001b[0m| 76/298 [00:42<01:25,  2.58it/s]\u001b[0m\u001b[A\n"
     ]
    },
    {
     "name": "stdout",
     "output_type": "stream",
     "text": [
      "Training loss: 8.53117:  26%|\u001b[38;2;0;85;0m████▌             \u001b[0m| 76/298 [00:42<01:25,  2.58it/s]\u001b[0m\u001b[A\n",
      "Training loss: 8.53117:  26%|\u001b[38;2;0;85;0m████▋             \u001b[0m| 77/298 [00:42<01:25,  2.58it/s]\u001b[0m\u001b[A\n",
      "Training loss: 8.52919:  26%|\u001b[38;2;0;85;0m████▋             \u001b[0m| 77/298 [00:43<01:25,  2.58it/s]\u001b[0m\u001b[A\n",
      "Training loss: 8.52919:  26%|\u001b[38;2;0;85;0m████▋             \u001b[0m| 78/298 [00:43<01:25,  2.58it/s]\u001b[0m\u001b[A\n",
      "Training loss: 8.52883:  26%|\u001b[38;2;0;85;0m████▋             \u001b[0m| 78/298 [00:43<01:25,  2.58it/s]\u001b[0m\u001b[A\n",
      "Training loss: 8.52883:  27%|\u001b[38;2;0;85;0m████▊             \u001b[0m| 79/298 [00:43<01:25,  2.57it/s]\u001b[0m\u001b[A\n",
      "Training loss: 8.53150:  27%|\u001b[38;2;0;85;0m████▊             \u001b[0m| 79/298 [00:43<01:25,  2.57it/s]\u001b[0m\u001b[A\n",
      "Training loss: 8.53150:  27%|\u001b[38;2;0;85;0m████▊             \u001b[0m| 80/298 [00:43<01:24,  2.58it/s]\u001b[0m\u001b[A\n",
      "Training loss: 8.52842:  27%|\u001b[38;2;0;85;0m████▊             \u001b[0m| 80/298 [00:44<01:24,  2.58it/s]\u001b[0m\u001b[A\n",
      "Training loss: 8.52842:  27%|\u001b[38;2;0;85;0m████▉             \u001b[0m| 81/298 [00:44<01:24,  2.57it/s]\u001b[0m\u001b[A\n",
      "Training loss: 8.53023:  27%|\u001b[38;2;0;85;0m████▉             \u001b[0m| 81/298 [00:44<01:24,  2.57it/s]\u001b[0m\u001b[A\n",
      "Training loss: 8.53023:  28%|\u001b[38;2;0;85;0m████▉             \u001b[0m| 82/298 [00:44<01:23,  2.57it/s]\u001b[0m\u001b[A\n",
      "Training loss: 8.52615:  28%|\u001b[38;2;0;85;0m████▉             \u001b[0m| 82/298 [00:45<01:23,  2.57it/s]\u001b[0m\u001b[A\n",
      "Training loss: 8.52615:  28%|\u001b[38;2;0;85;0m█████             \u001b[0m| 83/298 [00:45<01:23,  2.58it/s]\u001b[0m\u001b[A\n",
      "Training loss: 8.52550:  28%|\u001b[38;2;0;85;0m█████             \u001b[0m| 83/298 [00:45<01:23,  2.58it/s]\u001b[0m\u001b[A\n",
      "Training loss: 8.52550:  28%|\u001b[38;2;0;85;0m█████             \u001b[0m| 84/298 [00:45<01:23,  2.57it/s]\u001b[0m\u001b[A\n",
      "Training loss: 8.52323:  28%|\u001b[38;2;0;85;0m█████             \u001b[0m| 84/298 [00:45<01:23,  2.57it/s]\u001b[0m\u001b[A\n",
      "Training loss: 8.52323:  29%|\u001b[38;2;0;85;0m█████▏            \u001b[0m| 85/298 [00:45<01:22,  2.57it/s]\u001b[0m\u001b[A\n",
      "Training loss: 8.52524:  29%|\u001b[38;2;0;85;0m█████▏            \u001b[0m| 85/298 [00:46<01:22,  2.57it/s]\u001b[0m\u001b[A\n",
      "Training loss: 8.52524:  29%|\u001b[38;2;0;85;0m█████▏            \u001b[0m| 86/298 [00:46<01:22,  2.58it/s]\u001b[0m\u001b[A\n",
      "Training loss: 8.52651:  29%|\u001b[38;2;0;85;0m█████▏            \u001b[0m| 86/298 [00:46<01:22,  2.58it/s]\u001b[0m\u001b[A\n",
      "Training loss: 8.52651:  29%|\u001b[38;2;0;85;0m█████▎            \u001b[0m| 87/298 [00:46<01:21,  2.57it/s]\u001b[0m\u001b[A\n",
      "Training loss: 8.52385:  29%|\u001b[38;2;0;85;0m█████▎            \u001b[0m| 87/298 [00:47<01:21,  2.57it/s]\u001b[0m\u001b[A\n",
      "Training loss: 8.52385:  30%|\u001b[38;2;0;85;0m█████▎            \u001b[0m| 88/298 [00:47<01:21,  2.58it/s]\u001b[0m\u001b[A\n",
      "Training loss: 8.52461:  30%|\u001b[38;2;0;85;0m█████▎            \u001b[0m| 88/298 [00:47<01:21,  2.58it/s]\u001b[0m\u001b[A\n",
      "Training loss: 8.52461:  30%|\u001b[38;2;0;85;0m█████▍            \u001b[0m| 89/298 [00:47<01:21,  2.58it/s]\u001b[0m\u001b[A\n",
      "Training loss: 8.52427:  30%|\u001b[38;2;0;85;0m█████▍            \u001b[0m| 89/298 [00:47<01:21,  2.58it/s]\u001b[0m\u001b[A\n",
      "Training loss: 8.52427:  30%|\u001b[38;2;0;85;0m█████▍            \u001b[0m| 90/298 [00:47<01:20,  2.57it/s]\u001b[0m\u001b[A\n",
      "Training loss: 8.52412:  30%|\u001b[38;2;0;85;0m█████▍            \u001b[0m| 90/298 [00:48<01:20,  2.57it/s]\u001b[0m\u001b[A\n",
      "Training loss: 8.52412:  31%|\u001b[38;2;0;85;0m█████▍            \u001b[0m| 91/298 [00:48<01:20,  2.57it/s]\u001b[0m\u001b[A\n",
      "Training loss: 8.52285:  31%|\u001b[38;2;0;85;0m█████▍            \u001b[0m| 91/298 [00:48<01:20,  2.57it/s]\u001b[0m\u001b[A\n",
      "Training loss: 8.52285:  31%|\u001b[38;2;0;85;0m█████▌            \u001b[0m| 92/298 [00:48<01:20,  2.57it/s]\u001b[0m\u001b[A\n",
      "Training loss: 8.52134:  31%|\u001b[38;2;0;85;0m█████▌            \u001b[0m| 92/298 [00:49<01:20,  2.57it/s]\u001b[0m\u001b[A\n",
      "Training loss: 8.52134:  31%|\u001b[38;2;0;85;0m█████▌            \u001b[0m| 93/298 [00:49<01:19,  2.57it/s]\u001b[0m\u001b[A\n",
      "Training loss: 8.52234:  31%|\u001b[38;2;0;85;0m█████▌            \u001b[0m| 93/298 [00:49<01:19,  2.57it/s]\u001b[0m\u001b[A\n",
      "Training loss: 8.52234:  32%|\u001b[38;2;0;85;0m█████▋            \u001b[0m| 94/298 [00:49<01:19,  2.57it/s]\u001b[0m\u001b[A\n",
      "Training loss: 8.52296:  32%|\u001b[38;2;0;85;0m█████▋            \u001b[0m| 94/298 [00:49<01:19,  2.57it/s]\u001b[0m\u001b[A\n",
      "Training loss: 8.52296:  32%|\u001b[38;2;0;85;0m█████▋            \u001b[0m| 95/298 [00:49<01:18,  2.57it/s]\u001b[0m\u001b[A\n",
      "Training loss: 8.52280:  32%|\u001b[38;2;0;85;0m█████▋            \u001b[0m| 95/298 [00:50<01:18,  2.57it/s]\u001b[0m\u001b[A\n",
      "Training loss: 8.52280:  32%|\u001b[38;2;0;85;0m█████▊            \u001b[0m| 96/298 [00:50<01:18,  2.57it/s]\u001b[0m\u001b[A\n",
      "Training loss: 8.52053:  32%|\u001b[38;2;0;85;0m█████▊            \u001b[0m| 96/298 [00:50<01:18,  2.57it/s]\u001b[0m\u001b[A\n",
      "Training loss: 8.52053:  33%|\u001b[38;2;0;85;0m█████▊            \u001b[0m| 97/298 [00:50<01:18,  2.57it/s]\u001b[0m\u001b[A\n",
      "Training loss: 8.52090:  33%|\u001b[38;2;0;85;0m█████▊            \u001b[0m| 97/298 [00:50<01:18,  2.57it/s]\u001b[0m\u001b[A\n",
      "Training loss: 8.52090:  33%|\u001b[38;2;0;85;0m█████▉            \u001b[0m| 98/298 [00:50<01:17,  2.57it/s]\u001b[0m\u001b[A\n",
      "Training loss: 8.52128:  33%|\u001b[38;2;0;85;0m█████▉            \u001b[0m| 98/298 [00:51<01:17,  2.57it/s]\u001b[0m\u001b[A\n",
      "Training loss: 8.52128:  33%|\u001b[38;2;0;85;0m█████▉            \u001b[0m| 99/298 [00:51<01:17,  2.57it/s]\u001b[0m\u001b[A\n",
      "Training loss: 8.52072:  33%|\u001b[38;2;0;85;0m█████▉            \u001b[0m| 99/298 [00:51<01:17,  2.57it/s]\u001b[0m\u001b[A\n",
      "Training loss: 8.52072:  34%|\u001b[38;2;0;85;0m█████▋           \u001b[0m| 100/298 [00:51<01:29,  2.21it/s]\u001b[0m\u001b[A\n",
      "Training loss: 8.51139:  34%|\u001b[38;2;0;85;0m█████▋           \u001b[0m| 100/298 [00:52<01:29,  2.21it/s]\u001b[0m\u001b[A\n",
      "Training loss: 8.51139:  34%|\u001b[38;2;0;85;0m█████▊           \u001b[0m| 101/298 [00:52<01:16,  2.57it/s]\u001b[0m\u001b[A\n",
      "Training loss: 8.49824:  34%|\u001b[38;2;0;85;0m█████▊           \u001b[0m| 101/298 [00:52<01:16,  2.57it/s]\u001b[0m\u001b[A\n",
      "Training loss: 8.49824:  34%|\u001b[38;2;0;85;0m█████▊           \u001b[0m| 102/298 [00:52<01:16,  2.57it/s]\u001b[0m\u001b[A\n",
      "Training loss: 8.49290:  34%|\u001b[38;2;0;85;0m█████▊           \u001b[0m| 102/298 [00:52<01:16,  2.57it/s]\u001b[0m\u001b[A\n",
      "Training loss: 8.49290:  35%|\u001b[38;2;0;85;0m█████▉           \u001b[0m| 103/298 [00:52<01:15,  2.57it/s]\u001b[0m\u001b[A\n",
      "Training loss: 8.48177:  35%|\u001b[38;2;0;85;0m█████▉           \u001b[0m| 103/298 [00:53<01:15,  2.57it/s]\u001b[0m\u001b[A\n",
      "Training loss: 8.48177:  35%|\u001b[38;2;0;85;0m█████▉           \u001b[0m| 104/298 [00:53<01:15,  2.57it/s]\u001b[0m\u001b[A\n",
      "Training loss: 8.47018:  35%|\u001b[38;2;0;85;0m█████▉           \u001b[0m| 104/298 [00:53<01:15,  2.57it/s]\u001b[0m\u001b[A\n",
      "Training loss: 8.47018:  35%|\u001b[38;2;0;85;0m█████▉           \u001b[0m| 105/298 [00:53<01:15,  2.57it/s]\u001b[0m\u001b[A\n",
      "Training loss: 8.46630:  35%|\u001b[38;2;0;85;0m█████▉           \u001b[0m| 105/298 [00:54<01:15,  2.57it/s]\u001b[0m\u001b[A\n",
      "Training loss: 8.46630:  36%|\u001b[38;2;0;85;0m██████           \u001b[0m| 106/298 [00:54<01:14,  2.57it/s]\u001b[0m\u001b[A\n",
      "Training loss: 8.46483:  36%|\u001b[38;2;0;85;0m██████           \u001b[0m| 106/298 [00:54<01:14,  2.57it/s]\u001b[0m\u001b[A\n",
      "Training loss: 8.46483:  36%|\u001b[38;2;0;85;0m██████           \u001b[0m| 107/298 [00:54<01:14,  2.57it/s]\u001b[0m\u001b[A\n",
      "Training loss: 8.44623:  36%|\u001b[38;2;0;85;0m██████           \u001b[0m| 107/298 [00:54<01:14,  2.57it/s]\u001b[0m\u001b[A\n",
      "Training loss: 8.44623:  36%|\u001b[38;2;0;85;0m██████▏          \u001b[0m| 108/298 [00:54<01:13,  2.57it/s]\u001b[0m\u001b[A\n",
      "Training loss: 8.43767:  36%|\u001b[38;2;0;85;0m██████▏          \u001b[0m| 108/298 [00:55<01:13,  2.57it/s]\u001b[0m\u001b[A\n",
      "Training loss: 8.43767:  37%|\u001b[38;2;0;85;0m██████▏          \u001b[0m| 109/298 [00:55<01:13,  2.57it/s]\u001b[0m\u001b[A\n",
      "Training loss: 8.42740:  37%|\u001b[38;2;0;85;0m██████▏          \u001b[0m| 109/298 [00:55<01:13,  2.57it/s]\u001b[0m\u001b[A\n",
      "Training loss: 8.42740:  37%|\u001b[38;2;0;85;0m██████▎          \u001b[0m| 110/298 [00:55<01:13,  2.57it/s]\u001b[0m\u001b[A\n",
      "Training loss: 8.41407:  37%|\u001b[38;2;0;85;0m██████▎          \u001b[0m| 110/298 [00:56<01:13,  2.57it/s]\u001b[0m\u001b[A\n",
      "Training loss: 8.41407:  37%|\u001b[38;2;0;85;0m██████▎          \u001b[0m| 111/298 [00:56<01:12,  2.56it/s]\u001b[0m\u001b[A\n",
      "Training loss: 8.39654:  37%|\u001b[38;2;0;85;0m██████▎          \u001b[0m| 111/298 [00:56<01:12,  2.56it/s]\u001b[0m\u001b[A\n",
      "Training loss: 8.39654:  38%|\u001b[38;2;0;85;0m██████▍          \u001b[0m| 112/298 [00:56<01:12,  2.57it/s]\u001b[0m\u001b[A\n",
      "Training loss: 8.38925:  38%|\u001b[38;2;0;85;0m██████▍          \u001b[0m| 112/298 [00:56<01:12,  2.57it/s]\u001b[0m\u001b[A\n",
      "Training loss: 8.38925:  38%|\u001b[38;2;0;85;0m██████▍          \u001b[0m| 113/298 [00:56<01:12,  2.57it/s]\u001b[0m\u001b[A\n",
      "Training loss: 8.37455:  38%|\u001b[38;2;0;85;0m██████▍          \u001b[0m| 113/298 [00:57<01:12,  2.57it/s]\u001b[0m\u001b[A\n",
      "Training loss: 8.37455:  38%|\u001b[38;2;0;85;0m██████▌          \u001b[0m| 114/298 [00:57<01:11,  2.56it/s]\u001b[0m\u001b[A\n",
      "Training loss: 8.36664:  38%|\u001b[38;2;0;85;0m██████▌          \u001b[0m| 114/298 [00:57<01:11,  2.56it/s]\u001b[0m\u001b[A\n"
     ]
    },
    {
     "name": "stdout",
     "output_type": "stream",
     "text": [
      "Training loss: 8.36664:  39%|\u001b[38;2;0;85;0m██████▌          \u001b[0m| 115/298 [00:57<01:11,  2.57it/s]\u001b[0m\u001b[A\n",
      "Training loss: 8.36058:  39%|\u001b[38;2;0;85;0m██████▌          \u001b[0m| 115/298 [00:58<01:11,  2.57it/s]\u001b[0m\u001b[A\n",
      "Training loss: 8.36058:  39%|\u001b[38;2;0;85;0m██████▌          \u001b[0m| 116/298 [00:58<01:10,  2.57it/s]\u001b[0m\u001b[A\n",
      "Training loss: 8.35865:  39%|\u001b[38;2;0;85;0m██████▌          \u001b[0m| 116/298 [00:58<01:10,  2.57it/s]\u001b[0m\u001b[A\n",
      "Training loss: 8.35865:  39%|\u001b[38;2;0;85;0m██████▋          \u001b[0m| 117/298 [00:58<01:10,  2.56it/s]\u001b[0m\u001b[A\n",
      "Training loss: 8.34894:  39%|\u001b[38;2;0;85;0m██████▋          \u001b[0m| 117/298 [00:58<01:10,  2.56it/s]\u001b[0m\u001b[A\n",
      "Training loss: 8.34894:  40%|\u001b[38;2;0;85;0m██████▋          \u001b[0m| 118/298 [00:58<01:10,  2.56it/s]\u001b[0m\u001b[A\n",
      "Training loss: 8.33905:  40%|\u001b[38;2;0;85;0m██████▋          \u001b[0m| 118/298 [00:59<01:10,  2.56it/s]\u001b[0m\u001b[A\n",
      "Training loss: 8.33905:  40%|\u001b[38;2;0;85;0m██████▊          \u001b[0m| 119/298 [00:59<01:09,  2.56it/s]\u001b[0m\u001b[A\n",
      "Training loss: 8.32746:  40%|\u001b[38;2;0;85;0m██████▊          \u001b[0m| 119/298 [00:59<01:09,  2.56it/s]\u001b[0m\u001b[A\n",
      "Training loss: 8.32746:  40%|\u001b[38;2;0;85;0m██████▊          \u001b[0m| 120/298 [00:59<01:09,  2.56it/s]\u001b[0m\u001b[A\n",
      "Training loss: 8.31878:  40%|\u001b[38;2;0;85;0m██████▊          \u001b[0m| 120/298 [00:59<01:09,  2.56it/s]\u001b[0m\u001b[A\n",
      "Training loss: 8.31878:  41%|\u001b[38;2;0;85;0m██████▉          \u001b[0m| 121/298 [00:59<01:09,  2.56it/s]\u001b[0m\u001b[A\n",
      "Training loss: 8.31759:  41%|\u001b[38;2;0;85;0m██████▉          \u001b[0m| 121/298 [01:00<01:09,  2.56it/s]\u001b[0m\u001b[A\n",
      "Training loss: 8.31759:  41%|\u001b[38;2;0;85;0m██████▉          \u001b[0m| 122/298 [01:00<01:08,  2.56it/s]\u001b[0m\u001b[A\n",
      "Training loss: 8.31533:  41%|\u001b[38;2;0;85;0m██████▉          \u001b[0m| 122/298 [01:00<01:08,  2.56it/s]\u001b[0m\u001b[A\n",
      "Training loss: 8.31533:  41%|\u001b[38;2;0;85;0m███████          \u001b[0m| 123/298 [01:00<01:08,  2.56it/s]\u001b[0m\u001b[A\n",
      "Training loss: 8.30724:  41%|\u001b[38;2;0;85;0m███████          \u001b[0m| 123/298 [01:01<01:08,  2.56it/s]\u001b[0m\u001b[A\n",
      "Training loss: 8.30724:  42%|\u001b[38;2;0;85;0m███████          \u001b[0m| 124/298 [01:01<01:07,  2.56it/s]\u001b[0m\u001b[A\n",
      "Training loss: 8.30391:  42%|\u001b[38;2;0;85;0m███████          \u001b[0m| 124/298 [01:01<01:07,  2.56it/s]\u001b[0m\u001b[A\n",
      "Training loss: 8.30391:  42%|\u001b[38;2;0;85;0m███████▏         \u001b[0m| 125/298 [01:01<01:07,  2.56it/s]\u001b[0m\u001b[A\n",
      "Training loss: 8.29403:  42%|\u001b[38;2;0;85;0m███████▏         \u001b[0m| 125/298 [01:01<01:07,  2.56it/s]\u001b[0m\u001b[A\n",
      "Training loss: 8.29403:  42%|\u001b[38;2;0;85;0m███████▏         \u001b[0m| 126/298 [01:01<01:07,  2.56it/s]\u001b[0m\u001b[A\n",
      "Training loss: 8.28477:  42%|\u001b[38;2;0;85;0m███████▏         \u001b[0m| 126/298 [01:02<01:07,  2.56it/s]\u001b[0m\u001b[A\n",
      "Training loss: 8.28477:  43%|\u001b[38;2;0;85;0m███████▏         \u001b[0m| 127/298 [01:02<01:06,  2.56it/s]\u001b[0m\u001b[A\n",
      "Training loss: 8.28167:  43%|\u001b[38;2;0;85;0m███████▏         \u001b[0m| 127/298 [01:02<01:06,  2.56it/s]\u001b[0m\u001b[A\n",
      "Training loss: 8.28167:  43%|\u001b[38;2;0;85;0m███████▎         \u001b[0m| 128/298 [01:02<01:06,  2.56it/s]\u001b[0m\u001b[A\n",
      "Training loss: 8.27355:  43%|\u001b[38;2;0;85;0m███████▎         \u001b[0m| 128/298 [01:03<01:06,  2.56it/s]\u001b[0m\u001b[A\n",
      "Training loss: 8.27355:  43%|\u001b[38;2;0;85;0m███████▎         \u001b[0m| 129/298 [01:03<01:05,  2.56it/s]\u001b[0m\u001b[A\n",
      "Training loss: 8.26751:  43%|\u001b[38;2;0;85;0m███████▎         \u001b[0m| 129/298 [01:03<01:05,  2.56it/s]\u001b[0m\u001b[A\n",
      "Training loss: 8.26751:  44%|\u001b[38;2;0;85;0m███████▍         \u001b[0m| 130/298 [01:03<01:05,  2.56it/s]\u001b[0m\u001b[A\n",
      "Training loss: 8.26013:  44%|\u001b[38;2;0;85;0m███████▍         \u001b[0m| 130/298 [01:03<01:05,  2.56it/s]\u001b[0m\u001b[A\n",
      "Training loss: 8.26013:  44%|\u001b[38;2;0;85;0m███████▍         \u001b[0m| 131/298 [01:03<01:05,  2.56it/s]\u001b[0m\u001b[A\n",
      "Training loss: 8.24662:  44%|\u001b[38;2;0;85;0m███████▍         \u001b[0m| 131/298 [01:04<01:05,  2.56it/s]\u001b[0m\u001b[A\n",
      "Training loss: 8.24662:  44%|\u001b[38;2;0;85;0m███████▌         \u001b[0m| 132/298 [01:04<01:04,  2.57it/s]\u001b[0m\u001b[A\n",
      "Training loss: 8.23820:  44%|\u001b[38;2;0;85;0m███████▌         \u001b[0m| 132/298 [01:04<01:04,  2.57it/s]\u001b[0m\u001b[A\n",
      "Training loss: 8.23820:  45%|\u001b[38;2;0;85;0m███████▌         \u001b[0m| 133/298 [01:04<01:04,  2.56it/s]\u001b[0m\u001b[A\n",
      "Training loss: 8.22930:  45%|\u001b[38;2;0;85;0m███████▌         \u001b[0m| 133/298 [01:05<01:04,  2.56it/s]\u001b[0m\u001b[A\n",
      "Training loss: 8.22930:  45%|\u001b[38;2;0;85;0m███████▋         \u001b[0m| 134/298 [01:05<01:03,  2.57it/s]\u001b[0m\u001b[A\n",
      "Training loss: 8.22491:  45%|\u001b[38;2;0;85;0m███████▋         \u001b[0m| 134/298 [01:05<01:03,  2.57it/s]\u001b[0m\u001b[A\n",
      "Training loss: 8.22491:  45%|\u001b[38;2;0;85;0m███████▋         \u001b[0m| 135/298 [01:05<01:03,  2.57it/s]\u001b[0m\u001b[A\n",
      "Training loss: 8.22318:  45%|\u001b[38;2;0;85;0m███████▋         \u001b[0m| 135/298 [01:05<01:03,  2.57it/s]\u001b[0m\u001b[A\n",
      "Training loss: 8.22318:  46%|\u001b[38;2;0;85;0m███████▊         \u001b[0m| 136/298 [01:05<01:03,  2.56it/s]\u001b[0m\u001b[A\n",
      "Training loss: 8.21753:  46%|\u001b[38;2;0;85;0m███████▊         \u001b[0m| 136/298 [01:06<01:03,  2.56it/s]\u001b[0m\u001b[A\n",
      "Training loss: 8.21753:  46%|\u001b[38;2;0;85;0m███████▊         \u001b[0m| 137/298 [01:06<01:02,  2.56it/s]\u001b[0m\u001b[A\n",
      "Training loss: 8.21705:  46%|\u001b[38;2;0;85;0m███████▊         \u001b[0m| 137/298 [01:06<01:02,  2.56it/s]\u001b[0m\u001b[A\n",
      "Training loss: 8.21705:  46%|\u001b[38;2;0;85;0m███████▊         \u001b[0m| 138/298 [01:06<01:02,  2.57it/s]\u001b[0m\u001b[A\n",
      "Training loss: 8.21581:  46%|\u001b[38;2;0;85;0m███████▊         \u001b[0m| 138/298 [01:07<01:02,  2.57it/s]\u001b[0m\u001b[A\n",
      "Training loss: 8.21581:  47%|\u001b[38;2;0;85;0m███████▉         \u001b[0m| 139/298 [01:07<01:02,  2.56it/s]\u001b[0m\u001b[A\n",
      "Training loss: 8.21182:  47%|\u001b[38;2;0;85;0m███████▉         \u001b[0m| 139/298 [01:07<01:02,  2.56it/s]\u001b[0m\u001b[A\n",
      "Training loss: 8.21182:  47%|\u001b[38;2;0;85;0m███████▉         \u001b[0m| 140/298 [01:07<01:01,  2.56it/s]\u001b[0m\u001b[A\n",
      "Training loss: 8.20765:  47%|\u001b[38;2;0;85;0m███████▉         \u001b[0m| 140/298 [01:07<01:01,  2.56it/s]\u001b[0m\u001b[A\n",
      "Training loss: 8.20765:  47%|\u001b[38;2;0;85;0m████████         \u001b[0m| 141/298 [01:07<01:01,  2.56it/s]\u001b[0m\u001b[A\n",
      "Training loss: 8.20476:  47%|\u001b[38;2;0;85;0m████████         \u001b[0m| 141/298 [01:08<01:01,  2.56it/s]\u001b[0m\u001b[A\n",
      "Training loss: 8.20476:  48%|\u001b[38;2;0;85;0m████████         \u001b[0m| 142/298 [01:08<01:00,  2.56it/s]\u001b[0m\u001b[A\n",
      "Training loss: 8.19877:  48%|\u001b[38;2;0;85;0m████████         \u001b[0m| 142/298 [01:08<01:00,  2.56it/s]\u001b[0m\u001b[A\n",
      "Training loss: 8.19877:  48%|\u001b[38;2;0;85;0m████████▏        \u001b[0m| 143/298 [01:08<01:00,  2.56it/s]\u001b[0m\u001b[A\n",
      "Training loss: 8.19501:  48%|\u001b[38;2;0;85;0m████████▏        \u001b[0m| 143/298 [01:08<01:00,  2.56it/s]\u001b[0m\u001b[A\n",
      "Training loss: 8.19501:  48%|\u001b[38;2;0;85;0m████████▏        \u001b[0m| 144/298 [01:08<01:00,  2.56it/s]\u001b[0m\u001b[A\n",
      "Training loss: 8.19159:  48%|\u001b[38;2;0;85;0m████████▏        \u001b[0m| 144/298 [01:09<01:00,  2.56it/s]\u001b[0m\u001b[A\n",
      "Training loss: 8.19159:  49%|\u001b[38;2;0;85;0m████████▎        \u001b[0m| 145/298 [01:09<00:59,  2.56it/s]\u001b[0m\u001b[A\n",
      "Training loss: 8.18626:  49%|\u001b[38;2;0;85;0m████████▎        \u001b[0m| 145/298 [01:09<00:59,  2.56it/s]\u001b[0m\u001b[A\n",
      "Training loss: 8.18626:  49%|\u001b[38;2;0;85;0m████████▎        \u001b[0m| 146/298 [01:09<00:59,  2.56it/s]\u001b[0m\u001b[A\n",
      "Training loss: 8.18622:  49%|\u001b[38;2;0;85;0m████████▎        \u001b[0m| 146/298 [01:10<00:59,  2.56it/s]\u001b[0m\u001b[A\n",
      "Training loss: 8.18622:  49%|\u001b[38;2;0;85;0m████████▍        \u001b[0m| 147/298 [01:10<00:59,  2.55it/s]\u001b[0m\u001b[A\n",
      "Training loss: 8.18307:  49%|\u001b[38;2;0;85;0m████████▍        \u001b[0m| 147/298 [01:10<00:59,  2.55it/s]\u001b[0m\u001b[A\n",
      "Training loss: 8.18307:  50%|\u001b[38;2;0;85;0m████████▍        \u001b[0m| 148/298 [01:10<00:58,  2.56it/s]\u001b[0m\u001b[A\n",
      "Training loss: 8.17763:  50%|\u001b[38;2;0;85;0m████████▍        \u001b[0m| 148/298 [01:10<00:58,  2.56it/s]\u001b[0m\u001b[A\n",
      "Training loss: 8.17763:  50%|\u001b[38;2;0;85;0m████████▌        \u001b[0m| 149/298 [01:10<00:58,  2.56it/s]\u001b[0m\u001b[A\n",
      "Training loss: 8.16494:  50%|\u001b[38;2;0;85;0m████████▌        \u001b[0m| 149/298 [01:11<00:58,  2.56it/s]\u001b[0m\u001b[A\n",
      "Training loss: 8.16494:  50%|\u001b[38;2;0;85;0m████████▌        \u001b[0m| 150/298 [01:11<00:57,  2.56it/s]\u001b[0m\u001b[A\n",
      "Training loss: 8.15982:  50%|\u001b[38;2;0;85;0m████████▌        \u001b[0m| 150/298 [01:11<00:57,  2.56it/s]\u001b[0m\u001b[A\n",
      "Training loss: 8.15982:  51%|\u001b[38;2;0;85;0m████████▌        \u001b[0m| 151/298 [01:11<00:57,  2.56it/s]\u001b[0m\u001b[A\n",
      "Training loss: 8.15859:  51%|\u001b[38;2;0;85;0m████████▌        \u001b[0m| 151/298 [01:12<00:57,  2.56it/s]\u001b[0m\u001b[A\n",
      "Training loss: 8.15859:  51%|\u001b[38;2;0;85;0m████████▋        \u001b[0m| 152/298 [01:12<00:57,  2.56it/s]\u001b[0m\u001b[A\n",
      "Training loss: 8.15435:  51%|\u001b[38;2;0;85;0m████████▋        \u001b[0m| 152/298 [01:12<00:57,  2.56it/s]\u001b[0m\u001b[A\n",
      "Training loss: 8.15435:  51%|\u001b[38;2;0;85;0m████████▋        \u001b[0m| 153/298 [01:12<00:56,  2.56it/s]\u001b[0m\u001b[A\n"
     ]
    },
    {
     "name": "stdout",
     "output_type": "stream",
     "text": [
      "Training loss: 8.14938:  51%|\u001b[38;2;0;85;0m████████▋        \u001b[0m| 153/298 [01:12<00:56,  2.56it/s]\u001b[0m\u001b[A\n",
      "Training loss: 8.14938:  52%|\u001b[38;2;0;85;0m████████▊        \u001b[0m| 154/298 [01:12<00:56,  2.56it/s]\u001b[0m\u001b[A\n",
      "Training loss: 8.14195:  52%|\u001b[38;2;0;85;0m████████▊        \u001b[0m| 154/298 [01:13<00:56,  2.56it/s]\u001b[0m\u001b[A\n",
      "Training loss: 8.14195:  52%|\u001b[38;2;0;85;0m████████▊        \u001b[0m| 155/298 [01:13<00:55,  2.56it/s]\u001b[0m\u001b[A\n",
      "Training loss: 8.13575:  52%|\u001b[38;2;0;85;0m████████▊        \u001b[0m| 155/298 [01:13<00:55,  2.56it/s]\u001b[0m\u001b[A\n",
      "Training loss: 8.13575:  52%|\u001b[38;2;0;85;0m████████▉        \u001b[0m| 156/298 [01:13<00:55,  2.56it/s]\u001b[0m\u001b[A\n",
      "Training loss: 8.13499:  52%|\u001b[38;2;0;85;0m████████▉        \u001b[0m| 156/298 [01:14<00:55,  2.56it/s]\u001b[0m\u001b[A\n",
      "Training loss: 8.13499:  53%|\u001b[38;2;0;85;0m████████▉        \u001b[0m| 157/298 [01:14<00:55,  2.55it/s]\u001b[0m\u001b[A\n",
      "Training loss: 8.13303:  53%|\u001b[38;2;0;85;0m████████▉        \u001b[0m| 157/298 [01:14<00:55,  2.55it/s]\u001b[0m\u001b[A\n",
      "Training loss: 8.13303:  53%|\u001b[38;2;0;85;0m█████████        \u001b[0m| 158/298 [01:14<00:54,  2.55it/s]\u001b[0m\u001b[A\n",
      "Training loss: 8.12585:  53%|\u001b[38;2;0;85;0m█████████        \u001b[0m| 158/298 [01:14<00:54,  2.55it/s]\u001b[0m\u001b[A\n",
      "Training loss: 8.12585:  53%|\u001b[38;2;0;85;0m█████████        \u001b[0m| 159/298 [01:14<00:54,  2.56it/s]\u001b[0m\u001b[A\n",
      "Training loss: 8.12028:  53%|\u001b[38;2;0;85;0m█████████        \u001b[0m| 159/298 [01:15<00:54,  2.56it/s]\u001b[0m\u001b[A\n",
      "Training loss: 8.12028:  54%|\u001b[38;2;0;85;0m█████████▏       \u001b[0m| 160/298 [01:15<00:53,  2.56it/s]\u001b[0m\u001b[A\n",
      "Training loss: 8.11725:  54%|\u001b[38;2;0;85;0m█████████▏       \u001b[0m| 160/298 [01:15<00:53,  2.56it/s]\u001b[0m\u001b[A\n",
      "Training loss: 8.11725:  54%|\u001b[38;2;0;85;0m█████████▏       \u001b[0m| 161/298 [01:15<00:53,  2.55it/s]\u001b[0m\u001b[A\n",
      "Training loss: 8.11374:  54%|\u001b[38;2;0;85;0m█████████▏       \u001b[0m| 161/298 [01:15<00:53,  2.55it/s]\u001b[0m\u001b[A\n",
      "Training loss: 8.11374:  54%|\u001b[38;2;0;85;0m█████████▏       \u001b[0m| 162/298 [01:15<00:53,  2.56it/s]\u001b[0m\u001b[A\n",
      "Training loss: 8.10542:  54%|\u001b[38;2;0;85;0m█████████▏       \u001b[0m| 162/298 [01:16<00:53,  2.56it/s]\u001b[0m\u001b[A\n",
      "Training loss: 8.10542:  55%|\u001b[38;2;0;85;0m█████████▎       \u001b[0m| 163/298 [01:16<00:52,  2.56it/s]\u001b[0m\u001b[A\n",
      "Training loss: 8.10082:  55%|\u001b[38;2;0;85;0m█████████▎       \u001b[0m| 163/298 [01:16<00:52,  2.56it/s]\u001b[0m\u001b[A\n",
      "Training loss: 8.10082:  55%|\u001b[38;2;0;85;0m█████████▎       \u001b[0m| 164/298 [01:16<00:52,  2.56it/s]\u001b[0m\u001b[A\n",
      "Training loss: 8.09485:  55%|\u001b[38;2;0;85;0m█████████▎       \u001b[0m| 164/298 [01:17<00:52,  2.56it/s]\u001b[0m\u001b[A\n",
      "Training loss: 8.09485:  55%|\u001b[38;2;0;85;0m█████████▍       \u001b[0m| 165/298 [01:17<00:52,  2.56it/s]\u001b[0m\u001b[A\n",
      "Training loss: 8.09165:  55%|\u001b[38;2;0;85;0m█████████▍       \u001b[0m| 165/298 [01:17<00:52,  2.56it/s]\u001b[0m\u001b[A\n",
      "Training loss: 8.09165:  56%|\u001b[38;2;0;85;0m█████████▍       \u001b[0m| 166/298 [01:17<00:51,  2.56it/s]\u001b[0m\u001b[A\n",
      "Training loss: 8.08227:  56%|\u001b[38;2;0;85;0m█████████▍       \u001b[0m| 166/298 [01:17<00:51,  2.56it/s]\u001b[0m\u001b[A\n",
      "Training loss: 8.08227:  56%|\u001b[38;2;0;85;0m█████████▌       \u001b[0m| 167/298 [01:17<00:51,  2.55it/s]\u001b[0m\u001b[A\n",
      "Training loss: 8.07874:  56%|\u001b[38;2;0;85;0m█████████▌       \u001b[0m| 167/298 [01:18<00:51,  2.55it/s]\u001b[0m\u001b[A\n",
      "Training loss: 8.07874:  56%|\u001b[38;2;0;85;0m█████████▌       \u001b[0m| 168/298 [01:18<00:50,  2.56it/s]\u001b[0m\u001b[A\n",
      "Training loss: 8.07358:  56%|\u001b[38;2;0;85;0m█████████▌       \u001b[0m| 168/298 [01:18<00:50,  2.56it/s]\u001b[0m\u001b[A\n",
      "Training loss: 8.07358:  57%|\u001b[38;2;0;85;0m█████████▋       \u001b[0m| 169/298 [01:18<00:50,  2.56it/s]\u001b[0m\u001b[A\n",
      "Training loss: 8.06924:  57%|\u001b[38;2;0;85;0m█████████▋       \u001b[0m| 169/298 [01:19<00:50,  2.56it/s]\u001b[0m\u001b[A\n",
      "Training loss: 8.06924:  57%|\u001b[38;2;0;85;0m█████████▋       \u001b[0m| 170/298 [01:19<00:50,  2.56it/s]\u001b[0m\u001b[A\n",
      "Training loss: 8.06548:  57%|\u001b[38;2;0;85;0m█████████▋       \u001b[0m| 170/298 [01:19<00:50,  2.56it/s]\u001b[0m\u001b[A\n",
      "Training loss: 8.06548:  57%|\u001b[38;2;0;85;0m█████████▊       \u001b[0m| 171/298 [01:19<00:49,  2.56it/s]\u001b[0m\u001b[A\n",
      "Training loss: 8.06273:  57%|\u001b[38;2;0;85;0m█████████▊       \u001b[0m| 171/298 [01:19<00:49,  2.56it/s]\u001b[0m\u001b[A\n",
      "Training loss: 8.06273:  58%|\u001b[38;2;0;85;0m█████████▊       \u001b[0m| 172/298 [01:19<00:49,  2.55it/s]\u001b[0m\u001b[A\n",
      "Training loss: 8.05865:  58%|\u001b[38;2;0;85;0m█████████▊       \u001b[0m| 172/298 [01:20<00:49,  2.55it/s]\u001b[0m\u001b[A\n",
      "Training loss: 8.05865:  58%|\u001b[38;2;0;85;0m█████████▊       \u001b[0m| 173/298 [01:20<00:48,  2.56it/s]\u001b[0m\u001b[A\n",
      "Training loss: 8.05793:  58%|\u001b[38;2;0;85;0m█████████▊       \u001b[0m| 173/298 [01:20<00:48,  2.56it/s]\u001b[0m\u001b[A\n",
      "Training loss: 8.05793:  58%|\u001b[38;2;0;85;0m█████████▉       \u001b[0m| 174/298 [01:20<00:48,  2.56it/s]\u001b[0m\u001b[A\n",
      "Training loss: 8.05596:  58%|\u001b[38;2;0;85;0m█████████▉       \u001b[0m| 174/298 [01:21<00:48,  2.56it/s]\u001b[0m\u001b[A\n",
      "Training loss: 8.05596:  59%|\u001b[38;2;0;85;0m█████████▉       \u001b[0m| 175/298 [01:21<00:48,  2.56it/s]\u001b[0m\u001b[A\n",
      "Training loss: 8.05705:  59%|\u001b[38;2;0;85;0m█████████▉       \u001b[0m| 175/298 [01:21<00:48,  2.56it/s]\u001b[0m\u001b[A\n",
      "Training loss: 8.05705:  59%|\u001b[38;2;0;85;0m██████████       \u001b[0m| 176/298 [01:21<00:47,  2.55it/s]\u001b[0m\u001b[A\n",
      "Training loss: 8.05305:  59%|\u001b[38;2;0;85;0m██████████       \u001b[0m| 176/298 [01:21<00:47,  2.55it/s]\u001b[0m\u001b[A\n",
      "Training loss: 8.05305:  59%|\u001b[38;2;0;85;0m██████████       \u001b[0m| 177/298 [01:21<00:47,  2.56it/s]\u001b[0m\u001b[A\n",
      "Training loss: 8.04937:  59%|\u001b[38;2;0;85;0m██████████       \u001b[0m| 177/298 [01:22<00:47,  2.56it/s]\u001b[0m\u001b[A\n",
      "Training loss: 8.04937:  60%|\u001b[38;2;0;85;0m██████████▏      \u001b[0m| 178/298 [01:22<00:47,  2.55it/s]\u001b[0m\u001b[A\n",
      "Training loss: 8.04679:  60%|\u001b[38;2;0;85;0m██████████▏      \u001b[0m| 178/298 [01:22<00:47,  2.55it/s]\u001b[0m\u001b[A\n",
      "Training loss: 8.04679:  60%|\u001b[38;2;0;85;0m██████████▏      \u001b[0m| 179/298 [01:22<00:46,  2.55it/s]\u001b[0m\u001b[A\n",
      "Training loss: 8.04493:  60%|\u001b[38;2;0;85;0m██████████▏      \u001b[0m| 179/298 [01:23<00:46,  2.55it/s]\u001b[0m\u001b[A\n",
      "Training loss: 8.04493:  60%|\u001b[38;2;0;85;0m██████████▎      \u001b[0m| 180/298 [01:23<00:46,  2.55it/s]\u001b[0m\u001b[A\n",
      "Training loss: 8.04274:  60%|\u001b[38;2;0;85;0m██████████▎      \u001b[0m| 180/298 [01:23<00:46,  2.55it/s]\u001b[0m\u001b[A\n",
      "Training loss: 8.04274:  61%|\u001b[38;2;0;85;0m██████████▎      \u001b[0m| 181/298 [01:23<00:45,  2.55it/s]\u001b[0m\u001b[A\n",
      "Training loss: 8.04038:  61%|\u001b[38;2;0;85;0m██████████▎      \u001b[0m| 181/298 [01:23<00:45,  2.55it/s]\u001b[0m\u001b[A\n",
      "Training loss: 8.04038:  61%|\u001b[38;2;0;85;0m██████████▍      \u001b[0m| 182/298 [01:23<00:45,  2.55it/s]\u001b[0m\u001b[A\n",
      "Training loss: 8.03792:  61%|\u001b[38;2;0;85;0m██████████▍      \u001b[0m| 182/298 [01:24<00:45,  2.55it/s]\u001b[0m\u001b[A\n",
      "Training loss: 8.03792:  61%|\u001b[38;2;0;85;0m██████████▍      \u001b[0m| 183/298 [01:24<00:45,  2.55it/s]\u001b[0m\u001b[A\n",
      "Training loss: 8.03330:  61%|\u001b[38;2;0;85;0m██████████▍      \u001b[0m| 183/298 [01:24<00:45,  2.55it/s]\u001b[0m\u001b[A\n",
      "Training loss: 8.03330:  62%|\u001b[38;2;0;85;0m██████████▍      \u001b[0m| 184/298 [01:24<00:44,  2.55it/s]\u001b[0m\u001b[A\n",
      "Training loss: 8.02502:  62%|\u001b[38;2;0;85;0m██████████▍      \u001b[0m| 184/298 [01:25<00:44,  2.55it/s]\u001b[0m\u001b[A\n",
      "Training loss: 8.02502:  62%|\u001b[38;2;0;85;0m██████████▌      \u001b[0m| 185/298 [01:25<00:44,  2.55it/s]\u001b[0m\u001b[A\n",
      "Training loss: 8.02189:  62%|\u001b[38;2;0;85;0m██████████▌      \u001b[0m| 185/298 [01:25<00:44,  2.55it/s]\u001b[0m\u001b[A\n",
      "Training loss: 8.02189:  62%|\u001b[38;2;0;85;0m██████████▌      \u001b[0m| 186/298 [01:25<00:43,  2.55it/s]\u001b[0m\u001b[A\n",
      "Training loss: 8.02086:  62%|\u001b[38;2;0;85;0m██████████▌      \u001b[0m| 186/298 [01:25<00:43,  2.55it/s]\u001b[0m\u001b[A\n",
      "Training loss: 8.02086:  63%|\u001b[38;2;0;85;0m██████████▋      \u001b[0m| 187/298 [01:25<00:43,  2.55it/s]\u001b[0m\u001b[A\n",
      "Training loss: 8.01258:  63%|\u001b[38;2;0;85;0m██████████▋      \u001b[0m| 187/298 [01:26<00:43,  2.55it/s]\u001b[0m\u001b[A\n",
      "Training loss: 8.01258:  63%|\u001b[38;2;0;85;0m██████████▋      \u001b[0m| 188/298 [01:26<00:43,  2.55it/s]\u001b[0m\u001b[A\n",
      "Training loss: 8.00985:  63%|\u001b[38;2;0;85;0m██████████▋      \u001b[0m| 188/298 [01:26<00:43,  2.55it/s]\u001b[0m\u001b[A\n",
      "Training loss: 8.00985:  63%|\u001b[38;2;0;85;0m██████████▊      \u001b[0m| 189/298 [01:26<00:42,  2.55it/s]\u001b[0m\u001b[A\n",
      "Training loss: 8.00570:  63%|\u001b[38;2;0;85;0m██████████▊      \u001b[0m| 189/298 [01:26<00:42,  2.55it/s]\u001b[0m\u001b[A\n",
      "Training loss: 8.00570:  64%|\u001b[38;2;0;85;0m██████████▊      \u001b[0m| 190/298 [01:26<00:42,  2.55it/s]\u001b[0m\u001b[A\n",
      "Training loss: 8.00353:  64%|\u001b[38;2;0;85;0m██████████▊      \u001b[0m| 190/298 [01:27<00:42,  2.55it/s]\u001b[0m\u001b[A\n",
      "Training loss: 8.00353:  64%|\u001b[38;2;0;85;0m██████████▉      \u001b[0m| 191/298 [01:27<00:42,  2.55it/s]\u001b[0m\u001b[A\n",
      "Training loss: 7.99916:  64%|\u001b[38;2;0;85;0m██████████▉      \u001b[0m| 191/298 [01:27<00:42,  2.55it/s]\u001b[0m\u001b[A\n"
     ]
    },
    {
     "name": "stdout",
     "output_type": "stream",
     "text": [
      "Training loss: 7.99916:  64%|\u001b[38;2;0;85;0m██████████▉      \u001b[0m| 192/298 [01:27<00:41,  2.55it/s]\u001b[0m\u001b[A\n",
      "Training loss: 7.99820:  64%|\u001b[38;2;0;85;0m██████████▉      \u001b[0m| 192/298 [01:28<00:41,  2.55it/s]\u001b[0m\u001b[A\n",
      "Training loss: 7.99820:  65%|\u001b[38;2;0;85;0m███████████      \u001b[0m| 193/298 [01:28<00:41,  2.55it/s]\u001b[0m\u001b[A\n",
      "Training loss: 7.99505:  65%|\u001b[38;2;0;85;0m███████████      \u001b[0m| 193/298 [01:28<00:41,  2.55it/s]\u001b[0m\u001b[A\n",
      "Training loss: 7.99505:  65%|\u001b[38;2;0;85;0m███████████      \u001b[0m| 194/298 [01:28<00:40,  2.55it/s]\u001b[0m\u001b[A\n",
      "Training loss: 7.99402:  65%|\u001b[38;2;0;85;0m███████████      \u001b[0m| 194/298 [01:28<00:40,  2.55it/s]\u001b[0m\u001b[A\n",
      "Training loss: 7.99402:  65%|\u001b[38;2;0;85;0m███████████      \u001b[0m| 195/298 [01:28<00:40,  2.55it/s]\u001b[0m\u001b[A\n",
      "Training loss: 7.98895:  65%|\u001b[38;2;0;85;0m███████████      \u001b[0m| 195/298 [01:29<00:40,  2.55it/s]\u001b[0m\u001b[A\n",
      "Training loss: 7.98895:  66%|\u001b[38;2;0;85;0m███████████▏     \u001b[0m| 196/298 [01:29<00:40,  2.55it/s]\u001b[0m\u001b[A\n",
      "Training loss: 7.98799:  66%|\u001b[38;2;0;85;0m███████████▏     \u001b[0m| 196/298 [01:29<00:40,  2.55it/s]\u001b[0m\u001b[A\n",
      "Training loss: 7.98799:  66%|\u001b[38;2;0;85;0m███████████▏     \u001b[0m| 197/298 [01:29<00:39,  2.55it/s]\u001b[0m\u001b[A\n",
      "Training loss: 7.98964:  66%|\u001b[38;2;0;85;0m███████████▏     \u001b[0m| 197/298 [01:30<00:39,  2.55it/s]\u001b[0m\u001b[A\n",
      "Training loss: 7.98964:  66%|\u001b[38;2;0;85;0m███████████▎     \u001b[0m| 198/298 [01:30<00:39,  2.55it/s]\u001b[0m\u001b[A\n",
      "Training loss: 7.98779:  66%|\u001b[38;2;0;85;0m███████████▎     \u001b[0m| 198/298 [01:30<00:39,  2.55it/s]\u001b[0m\u001b[A\n",
      "Training loss: 7.98779:  67%|\u001b[38;2;0;85;0m███████████▎     \u001b[0m| 199/298 [01:30<00:38,  2.55it/s]\u001b[0m\u001b[A\n",
      "Training loss: 7.98836:  67%|\u001b[38;2;0;85;0m███████████▎     \u001b[0m| 199/298 [01:31<00:38,  2.55it/s]\u001b[0m\u001b[A\n",
      "Training loss: 7.98836:  67%|\u001b[38;2;0;85;0m███████████▍     \u001b[0m| 200/298 [01:31<00:44,  2.22it/s]\u001b[0m\u001b[A\n",
      "Training loss: 7.94897:  67%|\u001b[38;2;0;85;0m███████████▍     \u001b[0m| 200/298 [01:31<00:44,  2.22it/s]\u001b[0m\u001b[A\n",
      "Training loss: 7.94897:  67%|\u001b[38;2;0;85;0m███████████▍     \u001b[0m| 201/298 [01:31<00:37,  2.58it/s]\u001b[0m\u001b[A\n",
      "Training loss: 7.90999:  67%|\u001b[38;2;0;85;0m███████████▍     \u001b[0m| 201/298 [01:31<00:37,  2.58it/s]\u001b[0m\u001b[A\n",
      "Training loss: 7.90999:  68%|\u001b[38;2;0;85;0m███████████▌     \u001b[0m| 202/298 [01:31<00:37,  2.58it/s]\u001b[0m\u001b[A\n",
      "Training loss: 7.87124:  68%|\u001b[38;2;0;85;0m███████████▌     \u001b[0m| 202/298 [01:32<00:37,  2.58it/s]\u001b[0m\u001b[A\n",
      "Training loss: 7.87124:  68%|\u001b[38;2;0;85;0m███████████▌     \u001b[0m| 203/298 [01:32<00:36,  2.57it/s]\u001b[0m\u001b[A\n",
      "Training loss: 7.83363:  68%|\u001b[38;2;0;85;0m███████████▌     \u001b[0m| 203/298 [01:32<00:36,  2.57it/s]\u001b[0m\u001b[A\n",
      "Training loss: 7.83363:  68%|\u001b[38;2;0;85;0m███████████▋     \u001b[0m| 204/298 [01:32<00:36,  2.56it/s]\u001b[0m\u001b[A\n",
      "Training loss: 7.79617:  68%|\u001b[38;2;0;85;0m███████████▋     \u001b[0m| 204/298 [01:32<00:36,  2.56it/s]\u001b[0m\u001b[A\n",
      "Training loss: 7.79617:  69%|\u001b[38;2;0;85;0m███████████▋     \u001b[0m| 205/298 [01:32<00:36,  2.55it/s]\u001b[0m\u001b[A\n",
      "Training loss: 7.75865:  69%|\u001b[38;2;0;85;0m███████████▋     \u001b[0m| 205/298 [01:33<00:36,  2.55it/s]\u001b[0m\u001b[A\n",
      "Training loss: 7.75865:  69%|\u001b[38;2;0;85;0m███████████▊     \u001b[0m| 206/298 [01:33<00:36,  2.55it/s]\u001b[0m\u001b[A\n",
      "Training loss: 7.72277:  69%|\u001b[38;2;0;85;0m███████████▊     \u001b[0m| 206/298 [01:33<00:36,  2.55it/s]\u001b[0m\u001b[A\n",
      "Training loss: 7.72277:  69%|\u001b[38;2;0;85;0m███████████▊     \u001b[0m| 207/298 [01:33<00:35,  2.55it/s]\u001b[0m\u001b[A\n",
      "Training loss: 7.68705:  69%|\u001b[38;2;0;85;0m███████████▊     \u001b[0m| 207/298 [01:34<00:35,  2.55it/s]\u001b[0m\u001b[A\n",
      "Training loss: 7.68705:  70%|\u001b[38;2;0;85;0m███████████▊     \u001b[0m| 208/298 [01:34<00:35,  2.55it/s]\u001b[0m\u001b[A\n",
      "Training loss: 7.65076:  70%|\u001b[38;2;0;85;0m███████████▊     \u001b[0m| 208/298 [01:34<00:35,  2.55it/s]\u001b[0m\u001b[A\n",
      "Training loss: 7.65076:  70%|\u001b[38;2;0;85;0m███████████▉     \u001b[0m| 209/298 [01:34<00:34,  2.55it/s]\u001b[0m\u001b[A\n",
      "Training loss: 7.61468:  70%|\u001b[38;2;0;85;0m███████████▉     \u001b[0m| 209/298 [01:34<00:34,  2.55it/s]\u001b[0m\u001b[A\n",
      "Training loss: 7.61468:  70%|\u001b[38;2;0;85;0m███████████▉     \u001b[0m| 210/298 [01:34<00:34,  2.55it/s]\u001b[0m\u001b[A\n",
      "Training loss: 7.57962:  70%|\u001b[38;2;0;85;0m███████████▉     \u001b[0m| 210/298 [01:35<00:34,  2.55it/s]\u001b[0m\u001b[A\n",
      "Training loss: 7.57962:  71%|\u001b[38;2;0;85;0m████████████     \u001b[0m| 211/298 [01:35<00:34,  2.54it/s]\u001b[0m\u001b[A\n",
      "Training loss: 7.54510:  71%|\u001b[38;2;0;85;0m████████████     \u001b[0m| 211/298 [01:35<00:34,  2.54it/s]\u001b[0m\u001b[A\n",
      "Training loss: 7.54510:  71%|\u001b[38;2;0;85;0m████████████     \u001b[0m| 212/298 [01:35<00:33,  2.55it/s]\u001b[0m\u001b[A\n",
      "Training loss: 7.51013:  71%|\u001b[38;2;0;85;0m████████████     \u001b[0m| 212/298 [01:36<00:33,  2.55it/s]\u001b[0m\u001b[A\n",
      "Training loss: 7.51013:  71%|\u001b[38;2;0;85;0m████████████▏    \u001b[0m| 213/298 [01:36<00:33,  2.54it/s]\u001b[0m\u001b[A\n",
      "Training loss: 7.47526:  71%|\u001b[38;2;0;85;0m████████████▏    \u001b[0m| 213/298 [01:36<00:33,  2.54it/s]\u001b[0m\u001b[A\n",
      "Training loss: 7.47526:  72%|\u001b[38;2;0;85;0m████████████▏    \u001b[0m| 214/298 [01:36<00:33,  2.55it/s]\u001b[0m\u001b[A\n",
      "Training loss: 7.44105:  72%|\u001b[38;2;0;85;0m████████████▏    \u001b[0m| 214/298 [01:36<00:33,  2.55it/s]\u001b[0m\u001b[A\n",
      "Training loss: 7.44105:  72%|\u001b[38;2;0;85;0m████████████▎    \u001b[0m| 215/298 [01:36<00:32,  2.54it/s]\u001b[0m\u001b[A\n",
      "Training loss: 7.40692:  72%|\u001b[38;2;0;85;0m████████████▎    \u001b[0m| 215/298 [01:37<00:32,  2.54it/s]\u001b[0m\u001b[A\n",
      "Training loss: 7.40692:  72%|\u001b[38;2;0;85;0m████████████▎    \u001b[0m| 216/298 [01:37<00:32,  2.54it/s]\u001b[0m\u001b[A\n",
      "Training loss: 7.37359:  72%|\u001b[38;2;0;85;0m████████████▎    \u001b[0m| 216/298 [01:37<00:32,  2.54it/s]\u001b[0m\u001b[A\n",
      "Training loss: 7.37359:  73%|\u001b[38;2;0;85;0m████████████▍    \u001b[0m| 217/298 [01:37<00:31,  2.54it/s]\u001b[0m\u001b[A\n",
      "Training loss: 7.34046:  73%|\u001b[38;2;0;85;0m████████████▍    \u001b[0m| 217/298 [01:37<00:31,  2.54it/s]\u001b[0m\u001b[A\n",
      "Training loss: 7.34046:  73%|\u001b[38;2;0;85;0m████████████▍    \u001b[0m| 218/298 [01:38<00:31,  2.54it/s]\u001b[0m\u001b[A\n",
      "Training loss: 7.30773:  73%|\u001b[38;2;0;85;0m████████████▍    \u001b[0m| 218/298 [01:38<00:31,  2.54it/s]\u001b[0m\u001b[A\n",
      "Training loss: 7.30773:  73%|\u001b[38;2;0;85;0m████████████▍    \u001b[0m| 219/298 [01:38<00:31,  2.54it/s]\u001b[0m\u001b[A\n",
      "Training loss: 7.27527:  73%|\u001b[38;2;0;85;0m████████████▍    \u001b[0m| 219/298 [01:38<00:31,  2.54it/s]\u001b[0m\u001b[A\n",
      "Training loss: 7.27527:  74%|\u001b[38;2;0;85;0m████████████▌    \u001b[0m| 220/298 [01:38<00:30,  2.54it/s]\u001b[0m\u001b[A\n",
      "Training loss: 7.24270:  74%|\u001b[38;2;0;85;0m████████████▌    \u001b[0m| 220/298 [01:39<00:30,  2.54it/s]\u001b[0m\u001b[A\n",
      "Training loss: 7.24270:  74%|\u001b[38;2;0;85;0m████████████▌    \u001b[0m| 221/298 [01:39<00:30,  2.54it/s]\u001b[0m\u001b[A\n",
      "Training loss: 7.21023:  74%|\u001b[38;2;0;85;0m████████████▌    \u001b[0m| 221/298 [01:39<00:30,  2.54it/s]\u001b[0m\u001b[A\n",
      "Training loss: 7.21023:  74%|\u001b[38;2;0;85;0m████████████▋    \u001b[0m| 222/298 [01:39<00:29,  2.54it/s]\u001b[0m\u001b[A\n",
      "Training loss: 7.17808:  74%|\u001b[38;2;0;85;0m████████████▋    \u001b[0m| 222/298 [01:39<00:29,  2.54it/s]\u001b[0m\u001b[A\n",
      "Training loss: 7.17808:  75%|\u001b[38;2;0;85;0m████████████▋    \u001b[0m| 223/298 [01:39<00:29,  2.54it/s]\u001b[0m\u001b[A\n",
      "Training loss: 7.14756:  75%|\u001b[38;2;0;85;0m████████████▋    \u001b[0m| 223/298 [01:40<00:29,  2.54it/s]\u001b[0m\u001b[A\n",
      "Training loss: 7.14756:  75%|\u001b[38;2;0;85;0m████████████▊    \u001b[0m| 224/298 [01:40<00:29,  2.54it/s]\u001b[0m\u001b[A\n",
      "Training loss: 7.11601:  75%|\u001b[38;2;0;85;0m████████████▊    \u001b[0m| 224/298 [01:40<00:29,  2.54it/s]\u001b[0m\u001b[A\n",
      "Training loss: 7.11601:  76%|\u001b[38;2;0;85;0m████████████▊    \u001b[0m| 225/298 [01:40<00:28,  2.54it/s]\u001b[0m\u001b[A\n",
      "Training loss: 7.08511:  76%|\u001b[38;2;0;85;0m████████████▊    \u001b[0m| 225/298 [01:41<00:28,  2.54it/s]\u001b[0m\u001b[A\n",
      "Training loss: 7.08511:  76%|\u001b[38;2;0;85;0m████████████▉    \u001b[0m| 226/298 [01:41<00:28,  2.54it/s]\u001b[0m\u001b[A\n",
      "Training loss: 7.05450:  76%|\u001b[38;2;0;85;0m████████████▉    \u001b[0m| 226/298 [01:41<00:28,  2.54it/s]\u001b[0m\u001b[A\n",
      "Training loss: 7.05450:  76%|\u001b[38;2;0;85;0m████████████▉    \u001b[0m| 227/298 [01:41<00:27,  2.54it/s]\u001b[0m\u001b[A\n",
      "Training loss: 7.02472:  76%|\u001b[38;2;0;85;0m████████████▉    \u001b[0m| 227/298 [01:41<00:27,  2.54it/s]\u001b[0m\u001b[A\n",
      "Training loss: 7.02472:  77%|\u001b[38;2;0;85;0m█████████████    \u001b[0m| 228/298 [01:41<00:27,  2.54it/s]\u001b[0m\u001b[A\n",
      "Training loss: 6.99472:  77%|\u001b[38;2;0;85;0m█████████████    \u001b[0m| 228/298 [01:42<00:27,  2.54it/s]\u001b[0m\u001b[A\n",
      "Training loss: 6.99472:  77%|\u001b[38;2;0;85;0m█████████████    \u001b[0m| 229/298 [01:42<00:27,  2.54it/s]\u001b[0m\u001b[A\n",
      "Training loss: 6.96468:  77%|\u001b[38;2;0;85;0m█████████████    \u001b[0m| 229/298 [01:42<00:27,  2.54it/s]\u001b[0m\u001b[A\n",
      "Training loss: 6.96468:  77%|\u001b[38;2;0;85;0m█████████████    \u001b[0m| 230/298 [01:42<00:26,  2.55it/s]\u001b[0m\u001b[A\n"
     ]
    },
    {
     "name": "stdout",
     "output_type": "stream",
     "text": [
      "Training loss: 6.93619:  77%|\u001b[38;2;0;85;0m█████████████    \u001b[0m| 230/298 [01:43<00:26,  2.55it/s]\u001b[0m\u001b[A\n",
      "Training loss: 6.93619:  78%|\u001b[38;2;0;85;0m█████████████▏   \u001b[0m| 231/298 [01:43<00:26,  2.54it/s]\u001b[0m\u001b[A\n",
      "Training loss: 6.90739:  78%|\u001b[38;2;0;85;0m█████████████▏   \u001b[0m| 231/298 [01:43<00:26,  2.54it/s]\u001b[0m\u001b[A\n",
      "Training loss: 6.90739:  78%|\u001b[38;2;0;85;0m█████████████▏   \u001b[0m| 232/298 [01:43<00:25,  2.54it/s]\u001b[0m\u001b[A\n",
      "Training loss: 6.87877:  78%|\u001b[38;2;0;85;0m█████████████▏   \u001b[0m| 232/298 [01:43<00:25,  2.54it/s]\u001b[0m\u001b[A\n",
      "Training loss: 6.87877:  78%|\u001b[38;2;0;85;0m█████████████▎   \u001b[0m| 233/298 [01:43<00:25,  2.55it/s]\u001b[0m\u001b[A\n",
      "Training loss: 6.84971:  78%|\u001b[38;2;0;85;0m█████████████▎   \u001b[0m| 233/298 [01:44<00:25,  2.55it/s]\u001b[0m\u001b[A\n",
      "Training loss: 6.84971:  79%|\u001b[38;2;0;85;0m█████████████▎   \u001b[0m| 234/298 [01:44<00:25,  2.55it/s]\u001b[0m\u001b[A\n",
      "Training loss: 6.82153:  79%|\u001b[38;2;0;85;0m█████████████▎   \u001b[0m| 234/298 [01:44<00:25,  2.55it/s]\u001b[0m\u001b[A\n",
      "Training loss: 6.82153:  79%|\u001b[38;2;0;85;0m█████████████▍   \u001b[0m| 235/298 [01:44<00:24,  2.55it/s]\u001b[0m\u001b[A\n",
      "Training loss: 6.79301:  79%|\u001b[38;2;0;85;0m█████████████▍   \u001b[0m| 235/298 [01:45<00:24,  2.55it/s]\u001b[0m\u001b[A\n",
      "Training loss: 6.79301:  79%|\u001b[38;2;0;85;0m█████████████▍   \u001b[0m| 236/298 [01:45<00:24,  2.55it/s]\u001b[0m\u001b[A\n",
      "Training loss: 6.76449:  79%|\u001b[38;2;0;85;0m█████████████▍   \u001b[0m| 236/298 [01:45<00:24,  2.55it/s]\u001b[0m\u001b[A\n",
      "Training loss: 6.76449:  80%|\u001b[38;2;0;85;0m█████████████▌   \u001b[0m| 237/298 [01:45<00:23,  2.54it/s]\u001b[0m\u001b[A\n",
      "Training loss: 6.73668:  80%|\u001b[38;2;0;85;0m█████████████▌   \u001b[0m| 237/298 [01:45<00:23,  2.54it/s]\u001b[0m\u001b[A\n",
      "Training loss: 6.73668:  80%|\u001b[38;2;0;85;0m█████████████▌   \u001b[0m| 238/298 [01:45<00:23,  2.54it/s]\u001b[0m\u001b[A\n",
      "Training loss: 6.70884:  80%|\u001b[38;2;0;85;0m█████████████▌   \u001b[0m| 238/298 [01:46<00:23,  2.54it/s]\u001b[0m\u001b[A\n",
      "Training loss: 6.70884:  80%|\u001b[38;2;0;85;0m█████████████▋   \u001b[0m| 239/298 [01:46<00:23,  2.55it/s]\u001b[0m\u001b[A\n",
      "Training loss: 6.68211:  80%|\u001b[38;2;0;85;0m█████████████▋   \u001b[0m| 239/298 [01:46<00:23,  2.55it/s]\u001b[0m\u001b[A\n",
      "Training loss: 6.68211:  81%|\u001b[38;2;0;85;0m█████████████▋   \u001b[0m| 240/298 [01:46<00:22,  2.54it/s]\u001b[0m\u001b[A\n",
      "Training loss: 6.65503:  81%|\u001b[38;2;0;85;0m█████████████▋   \u001b[0m| 240/298 [01:47<00:22,  2.54it/s]\u001b[0m\u001b[A\n",
      "Training loss: 6.65503:  81%|\u001b[38;2;0;85;0m█████████████▋   \u001b[0m| 241/298 [01:47<00:22,  2.54it/s]\u001b[0m\u001b[A\n",
      "Training loss: 6.62781:  81%|\u001b[38;2;0;85;0m█████████████▋   \u001b[0m| 241/298 [01:47<00:22,  2.54it/s]\u001b[0m\u001b[A\n",
      "Training loss: 6.62781:  81%|\u001b[38;2;0;85;0m█████████████▊   \u001b[0m| 242/298 [01:47<00:22,  2.54it/s]\u001b[0m\u001b[A\n",
      "Training loss: 6.60081:  81%|\u001b[38;2;0;85;0m█████████████▊   \u001b[0m| 242/298 [01:47<00:22,  2.54it/s]\u001b[0m\u001b[A\n",
      "Training loss: 6.60081:  82%|\u001b[38;2;0;85;0m█████████████▊   \u001b[0m| 243/298 [01:47<00:21,  2.54it/s]\u001b[0m\u001b[A\n",
      "Training loss: 6.57432:  82%|\u001b[38;2;0;85;0m█████████████▊   \u001b[0m| 243/298 [01:48<00:21,  2.54it/s]\u001b[0m\u001b[A\n",
      "Training loss: 6.57432:  82%|\u001b[38;2;0;85;0m█████████████▉   \u001b[0m| 244/298 [01:48<00:21,  2.55it/s]\u001b[0m\u001b[A\n",
      "Training loss: 6.54766:  82%|\u001b[38;2;0;85;0m█████████████▉   \u001b[0m| 244/298 [01:48<00:21,  2.55it/s]\u001b[0m\u001b[A\n",
      "Training loss: 6.54766:  82%|\u001b[38;2;0;85;0m█████████████▉   \u001b[0m| 245/298 [01:48<00:20,  2.54it/s]\u001b[0m\u001b[A\n",
      "Training loss: 6.52189:  82%|\u001b[38;2;0;85;0m█████████████▉   \u001b[0m| 245/298 [01:49<00:20,  2.54it/s]\u001b[0m\u001b[A\n",
      "Training loss: 6.52189:  83%|\u001b[38;2;0;85;0m██████████████   \u001b[0m| 246/298 [01:49<00:20,  2.54it/s]\u001b[0m\u001b[A\n",
      "Training loss: 6.49627:  83%|\u001b[38;2;0;85;0m██████████████   \u001b[0m| 246/298 [01:49<00:20,  2.54it/s]\u001b[0m\u001b[A\n",
      "Training loss: 6.49627:  83%|\u001b[38;2;0;85;0m██████████████   \u001b[0m| 247/298 [01:49<00:20,  2.54it/s]\u001b[0m\u001b[A\n",
      "Training loss: 6.47024:  83%|\u001b[38;2;0;85;0m██████████████   \u001b[0m| 247/298 [01:49<00:20,  2.54it/s]\u001b[0m\u001b[A\n",
      "Training loss: 6.47024:  83%|\u001b[38;2;0;85;0m██████████████▏  \u001b[0m| 248/298 [01:49<00:19,  2.54it/s]\u001b[0m\u001b[A\n",
      "Training loss: 6.44444:  83%|\u001b[38;2;0;85;0m██████████████▏  \u001b[0m| 248/298 [01:50<00:19,  2.54it/s]\u001b[0m\u001b[A\n",
      "Training loss: 6.44444:  84%|\u001b[38;2;0;85;0m██████████████▏  \u001b[0m| 249/298 [01:50<00:19,  2.54it/s]\u001b[0m\u001b[A\n",
      "Training loss: 6.41928:  84%|\u001b[38;2;0;85;0m██████████████▏  \u001b[0m| 249/298 [01:50<00:19,  2.54it/s]\u001b[0m\u001b[A\n",
      "Training loss: 6.41928:  84%|\u001b[38;2;0;85;0m██████████████▎  \u001b[0m| 250/298 [01:50<00:18,  2.54it/s]\u001b[0m\u001b[A\n",
      "Training loss: 6.39385:  84%|\u001b[38;2;0;85;0m██████████████▎  \u001b[0m| 250/298 [01:50<00:18,  2.54it/s]\u001b[0m\u001b[A\n",
      "Training loss: 6.39385:  84%|\u001b[38;2;0;85;0m██████████████▎  \u001b[0m| 251/298 [01:50<00:18,  2.54it/s]\u001b[0m\u001b[A\n",
      "Training loss: 6.36910:  84%|\u001b[38;2;0;85;0m██████████████▎  \u001b[0m| 251/298 [01:51<00:18,  2.54it/s]\u001b[0m\u001b[A\n",
      "Training loss: 6.36910:  85%|\u001b[38;2;0;85;0m██████████████▍  \u001b[0m| 252/298 [01:51<00:18,  2.54it/s]\u001b[0m\u001b[A\n",
      "Training loss: 6.34526:  85%|\u001b[38;2;0;85;0m██████████████▍  \u001b[0m| 252/298 [01:51<00:18,  2.54it/s]\u001b[0m\u001b[A\n",
      "Training loss: 6.34526:  85%|\u001b[38;2;0;85;0m██████████████▍  \u001b[0m| 253/298 [01:51<00:17,  2.54it/s]\u001b[0m\u001b[A\n",
      "Training loss: 6.32125:  85%|\u001b[38;2;0;85;0m██████████████▍  \u001b[0m| 253/298 [01:52<00:17,  2.54it/s]\u001b[0m\u001b[A\n",
      "Training loss: 6.32125:  85%|\u001b[38;2;0;85;0m██████████████▍  \u001b[0m| 254/298 [01:52<00:17,  2.54it/s]\u001b[0m\u001b[A\n",
      "Training loss: 6.29668:  85%|\u001b[38;2;0;85;0m██████████████▍  \u001b[0m| 254/298 [01:52<00:17,  2.54it/s]\u001b[0m\u001b[A\n",
      "Training loss: 6.29668:  86%|\u001b[38;2;0;85;0m██████████████▌  \u001b[0m| 255/298 [01:52<00:16,  2.54it/s]\u001b[0m\u001b[A\n",
      "Training loss: 6.27326:  86%|\u001b[38;2;0;85;0m██████████████▌  \u001b[0m| 255/298 [01:52<00:16,  2.54it/s]\u001b[0m\u001b[A\n",
      "Training loss: 6.27326:  86%|\u001b[38;2;0;85;0m██████████████▌  \u001b[0m| 256/298 [01:52<00:16,  2.53it/s]\u001b[0m\u001b[A\n",
      "Training loss: 6.24908:  86%|\u001b[38;2;0;85;0m██████████████▌  \u001b[0m| 256/298 [01:53<00:16,  2.53it/s]\u001b[0m\u001b[A\n",
      "Training loss: 6.24908:  86%|\u001b[38;2;0;85;0m██████████████▋  \u001b[0m| 257/298 [01:53<00:16,  2.54it/s]\u001b[0m\u001b[A\n",
      "Training loss: 6.22563:  86%|\u001b[38;2;0;85;0m██████████████▋  \u001b[0m| 257/298 [01:53<00:16,  2.54it/s]\u001b[0m\u001b[A\n",
      "Training loss: 6.22563:  87%|\u001b[38;2;0;85;0m██████████████▋  \u001b[0m| 258/298 [01:53<00:15,  2.54it/s]\u001b[0m\u001b[A\n",
      "Training loss: 6.20177:  87%|\u001b[38;2;0;85;0m██████████████▋  \u001b[0m| 258/298 [01:54<00:15,  2.54it/s]\u001b[0m\u001b[A\n",
      "Training loss: 6.20177:  87%|\u001b[38;2;0;85;0m██████████████▊  \u001b[0m| 259/298 [01:54<00:15,  2.54it/s]\u001b[0m\u001b[A\n",
      "Training loss: 6.17806:  87%|\u001b[38;2;0;85;0m██████████████▊  \u001b[0m| 259/298 [01:54<00:15,  2.54it/s]\u001b[0m\u001b[A\n",
      "Training loss: 6.17806:  87%|\u001b[38;2;0;85;0m██████████████▊  \u001b[0m| 260/298 [01:54<00:14,  2.54it/s]\u001b[0m\u001b[A\n",
      "Training loss: 6.15545:  87%|\u001b[38;2;0;85;0m██████████████▊  \u001b[0m| 260/298 [01:54<00:14,  2.54it/s]\u001b[0m\u001b[A\n",
      "Training loss: 6.15545:  88%|\u001b[38;2;0;85;0m██████████████▉  \u001b[0m| 261/298 [01:54<00:14,  2.54it/s]\u001b[0m\u001b[A\n",
      "Training loss: 6.13236:  88%|\u001b[38;2;0;85;0m██████████████▉  \u001b[0m| 261/298 [01:55<00:14,  2.54it/s]\u001b[0m\u001b[A\n",
      "Training loss: 6.13236:  88%|\u001b[38;2;0;85;0m██████████████▉  \u001b[0m| 262/298 [01:55<00:14,  2.54it/s]\u001b[0m\u001b[A\n",
      "Training loss: 6.10940:  88%|\u001b[38;2;0;85;0m██████████████▉  \u001b[0m| 262/298 [01:55<00:14,  2.54it/s]\u001b[0m\u001b[A\n",
      "Training loss: 6.10940:  88%|\u001b[38;2;0;85;0m███████████████  \u001b[0m| 263/298 [01:55<00:13,  2.54it/s]\u001b[0m\u001b[A\n",
      "Training loss: 6.08639:  88%|\u001b[38;2;0;85;0m███████████████  \u001b[0m| 263/298 [01:56<00:13,  2.54it/s]\u001b[0m\u001b[A\n",
      "Training loss: 6.08639:  89%|\u001b[38;2;0;85;0m███████████████  \u001b[0m| 264/298 [01:56<00:13,  2.54it/s]\u001b[0m\u001b[A\n",
      "Training loss: 6.06356:  89%|\u001b[38;2;0;85;0m███████████████  \u001b[0m| 264/298 [01:56<00:13,  2.54it/s]\u001b[0m\u001b[A\n",
      "Training loss: 6.06356:  89%|\u001b[38;2;0;85;0m███████████████  \u001b[0m| 265/298 [01:56<00:13,  2.54it/s]\u001b[0m\u001b[A\n",
      "Training loss: 6.04110:  89%|\u001b[38;2;0;85;0m███████████████  \u001b[0m| 265/298 [01:56<00:13,  2.54it/s]\u001b[0m\u001b[A\n",
      "Training loss: 6.04110:  89%|\u001b[38;2;0;85;0m███████████████▏ \u001b[0m| 266/298 [01:56<00:12,  2.54it/s]\u001b[0m\u001b[A\n",
      "Training loss: 6.01906:  89%|\u001b[38;2;0;85;0m███████████████▏ \u001b[0m| 266/298 [01:57<00:12,  2.54it/s]\u001b[0m\u001b[A\n",
      "Training loss: 6.01906:  90%|\u001b[38;2;0;85;0m███████████████▏ \u001b[0m| 267/298 [01:57<00:12,  2.53it/s]\u001b[0m\u001b[A\n",
      "Training loss: 5.99741:  90%|\u001b[38;2;0;85;0m███████████████▏ \u001b[0m| 267/298 [01:57<00:12,  2.53it/s]\u001b[0m\u001b[A\n",
      "Training loss: 5.99741:  90%|\u001b[38;2;0;85;0m███████████████▎ \u001b[0m| 268/298 [01:57<00:11,  2.53it/s]\u001b[0m\u001b[A\n",
      "Training loss: 5.97631:  90%|\u001b[38;2;0;85;0m███████████████▎ \u001b[0m| 268/298 [01:58<00:11,  2.53it/s]\u001b[0m\u001b[A\n"
     ]
    },
    {
     "name": "stdout",
     "output_type": "stream",
     "text": [
      "Training loss: 5.97631:  90%|\u001b[38;2;0;85;0m███████████████▎ \u001b[0m| 269/298 [01:58<00:11,  2.53it/s]\u001b[0m\u001b[A\n",
      "Training loss: 5.95475:  90%|\u001b[38;2;0;85;0m███████████████▎ \u001b[0m| 269/298 [01:58<00:11,  2.53it/s]\u001b[0m\u001b[A\n",
      "Training loss: 5.95475:  91%|\u001b[38;2;0;85;0m███████████████▍ \u001b[0m| 270/298 [01:58<00:11,  2.53it/s]\u001b[0m\u001b[A\n",
      "Training loss: 5.93341:  91%|\u001b[38;2;0;85;0m███████████████▍ \u001b[0m| 270/298 [01:58<00:11,  2.53it/s]\u001b[0m\u001b[A\n",
      "Training loss: 5.93341:  91%|\u001b[38;2;0;85;0m███████████████▍ \u001b[0m| 271/298 [01:58<00:10,  2.53it/s]\u001b[0m\u001b[A\n",
      "Training loss: 5.91173:  91%|\u001b[38;2;0;85;0m███████████████▍ \u001b[0m| 271/298 [01:59<00:10,  2.53it/s]\u001b[0m\u001b[A\n",
      "Training loss: 5.91173:  91%|\u001b[38;2;0;85;0m███████████████▌ \u001b[0m| 272/298 [01:59<00:10,  2.53it/s]\u001b[0m\u001b[A\n",
      "Training loss: 5.89063:  91%|\u001b[38;2;0;85;0m███████████████▌ \u001b[0m| 272/298 [01:59<00:10,  2.53it/s]\u001b[0m\u001b[A\n",
      "Training loss: 5.89063:  92%|\u001b[38;2;0;85;0m███████████████▌ \u001b[0m| 273/298 [01:59<00:09,  2.54it/s]\u001b[0m\u001b[A\n",
      "Training loss: 5.87008:  92%|\u001b[38;2;0;85;0m███████████████▌ \u001b[0m| 273/298 [02:00<00:09,  2.54it/s]\u001b[0m\u001b[A\n",
      "Training loss: 5.87008:  92%|\u001b[38;2;0;85;0m███████████████▋ \u001b[0m| 274/298 [02:00<00:09,  2.53it/s]\u001b[0m\u001b[A\n",
      "Training loss: 5.84896:  92%|\u001b[38;2;0;85;0m███████████████▋ \u001b[0m| 274/298 [02:00<00:09,  2.53it/s]\u001b[0m\u001b[A\n",
      "Training loss: 5.84896:  92%|\u001b[38;2;0;85;0m███████████████▋ \u001b[0m| 275/298 [02:00<00:09,  2.53it/s]\u001b[0m\u001b[A\n",
      "Training loss: 5.82808:  92%|\u001b[38;2;0;85;0m███████████████▋ \u001b[0m| 275/298 [02:00<00:09,  2.53it/s]\u001b[0m\u001b[A\n",
      "Training loss: 5.82808:  93%|\u001b[38;2;0;85;0m███████████████▋ \u001b[0m| 276/298 [02:00<00:08,  2.53it/s]\u001b[0m\u001b[A\n",
      "Training loss: 5.80838:  93%|\u001b[38;2;0;85;0m███████████████▋ \u001b[0m| 276/298 [02:01<00:08,  2.53it/s]\u001b[0m\u001b[A\n",
      "Training loss: 5.80838:  93%|\u001b[38;2;0;85;0m███████████████▊ \u001b[0m| 277/298 [02:01<00:08,  2.53it/s]\u001b[0m\u001b[A\n",
      "Training loss: 5.78762:  93%|\u001b[38;2;0;85;0m███████████████▊ \u001b[0m| 277/298 [02:01<00:08,  2.53it/s]\u001b[0m\u001b[A\n",
      "Training loss: 5.78762:  93%|\u001b[38;2;0;85;0m███████████████▊ \u001b[0m| 278/298 [02:01<00:07,  2.53it/s]\u001b[0m\u001b[A\n",
      "Training loss: 5.76825:  93%|\u001b[38;2;0;85;0m███████████████▊ \u001b[0m| 278/298 [02:02<00:07,  2.53it/s]\u001b[0m\u001b[A\n",
      "Training loss: 5.76825:  94%|\u001b[38;2;0;85;0m███████████████▉ \u001b[0m| 279/298 [02:02<00:07,  2.53it/s]\u001b[0m\u001b[A\n",
      "Training loss: 5.74822:  94%|\u001b[38;2;0;85;0m███████████████▉ \u001b[0m| 279/298 [02:02<00:07,  2.53it/s]\u001b[0m\u001b[A\n",
      "Training loss: 5.74822:  94%|\u001b[38;2;0;85;0m███████████████▉ \u001b[0m| 280/298 [02:02<00:07,  2.53it/s]\u001b[0m\u001b[A\n",
      "Training loss: 5.72888:  94%|\u001b[38;2;0;85;0m███████████████▉ \u001b[0m| 280/298 [02:02<00:07,  2.53it/s]\u001b[0m\u001b[A\n",
      "Training loss: 5.72888:  94%|\u001b[38;2;0;85;0m████████████████ \u001b[0m| 281/298 [02:02<00:06,  2.53it/s]\u001b[0m\u001b[A\n",
      "Training loss: 5.70902:  94%|\u001b[38;2;0;85;0m████████████████ \u001b[0m| 281/298 [02:03<00:06,  2.53it/s]\u001b[0m\u001b[A\n",
      "Training loss: 5.70902:  95%|\u001b[38;2;0;85;0m████████████████ \u001b[0m| 282/298 [02:03<00:06,  2.53it/s]\u001b[0m\u001b[A\n",
      "Training loss: 5.68941:  95%|\u001b[38;2;0;85;0m████████████████ \u001b[0m| 282/298 [02:03<00:06,  2.53it/s]\u001b[0m\u001b[A\n",
      "Training loss: 5.68941:  95%|\u001b[38;2;0;85;0m████████████████▏\u001b[0m| 283/298 [02:03<00:05,  2.53it/s]\u001b[0m\u001b[A\n",
      "Training loss: 5.67086:  95%|\u001b[38;2;0;85;0m████████████████▏\u001b[0m| 283/298 [02:03<00:05,  2.53it/s]\u001b[0m\u001b[A\n",
      "Training loss: 5.67086:  95%|\u001b[38;2;0;85;0m████████████████▏\u001b[0m| 284/298 [02:04<00:05,  2.53it/s]\u001b[0m\u001b[A\n",
      "Training loss: 5.65137:  95%|\u001b[38;2;0;85;0m████████████████▏\u001b[0m| 284/298 [02:04<00:05,  2.53it/s]\u001b[0m\u001b[A\n",
      "Training loss: 5.65137:  96%|\u001b[38;2;0;85;0m████████████████▎\u001b[0m| 285/298 [02:04<00:05,  2.53it/s]\u001b[0m\u001b[A\n",
      "Training loss: 5.63312:  96%|\u001b[38;2;0;85;0m████████████████▎\u001b[0m| 285/298 [02:04<00:05,  2.53it/s]\u001b[0m\u001b[A\n",
      "Training loss: 5.63312:  96%|\u001b[38;2;0;85;0m████████████████▎\u001b[0m| 286/298 [02:04<00:04,  2.53it/s]\u001b[0m\u001b[A\n",
      "Training loss: 5.61477:  96%|\u001b[38;2;0;85;0m████████████████▎\u001b[0m| 286/298 [02:05<00:04,  2.53it/s]\u001b[0m\u001b[A\n",
      "Training loss: 5.61477:  96%|\u001b[38;2;0;85;0m████████████████▎\u001b[0m| 287/298 [02:05<00:04,  2.53it/s]\u001b[0m\u001b[A\n",
      "Training loss: 5.59591:  96%|\u001b[38;2;0;85;0m████████████████▎\u001b[0m| 287/298 [02:05<00:04,  2.53it/s]\u001b[0m\u001b[A\n",
      "Training loss: 5.59591:  97%|\u001b[38;2;0;85;0m████████████████▍\u001b[0m| 288/298 [02:05<00:03,  2.53it/s]\u001b[0m\u001b[A\n",
      "Training loss: 5.57667:  97%|\u001b[38;2;0;85;0m████████████████▍\u001b[0m| 288/298 [02:05<00:03,  2.53it/s]\u001b[0m\u001b[A\n",
      "Training loss: 5.57667:  97%|\u001b[38;2;0;85;0m████████████████▍\u001b[0m| 289/298 [02:05<00:03,  2.53it/s]\u001b[0m\u001b[A\n",
      "Training loss: 5.55750:  97%|\u001b[38;2;0;85;0m████████████████▍\u001b[0m| 289/298 [02:06<00:03,  2.53it/s]\u001b[0m\u001b[A\n",
      "Training loss: 5.55750:  97%|\u001b[38;2;0;85;0m████████████████▌\u001b[0m| 290/298 [02:06<00:03,  2.53it/s]\u001b[0m\u001b[A\n",
      "Training loss: 5.53864:  97%|\u001b[38;2;0;85;0m████████████████▌\u001b[0m| 290/298 [02:06<00:03,  2.53it/s]\u001b[0m\u001b[A\n",
      "Training loss: 5.53864:  98%|\u001b[38;2;0;85;0m████████████████▌\u001b[0m| 291/298 [02:06<00:02,  2.53it/s]\u001b[0m\u001b[A\n",
      "Training loss: 5.52029:  98%|\u001b[38;2;0;85;0m████████████████▌\u001b[0m| 291/298 [02:07<00:02,  2.53it/s]\u001b[0m\u001b[A\n",
      "Training loss: 5.52029:  98%|\u001b[38;2;0;85;0m████████████████▋\u001b[0m| 292/298 [02:07<00:02,  2.53it/s]\u001b[0m\u001b[A\n",
      "Training loss: 5.50236:  98%|\u001b[38;2;0;85;0m████████████████▋\u001b[0m| 292/298 [02:07<00:02,  2.53it/s]\u001b[0m\u001b[A\n",
      "Training loss: 5.50236:  98%|\u001b[38;2;0;85;0m████████████████▋\u001b[0m| 293/298 [02:07<00:01,  2.53it/s]\u001b[0m\u001b[A\n",
      "Training loss: 5.48419:  98%|\u001b[38;2;0;85;0m████████████████▋\u001b[0m| 293/298 [02:07<00:01,  2.53it/s]\u001b[0m\u001b[A\n",
      "Training loss: 5.48419:  99%|\u001b[38;2;0;85;0m████████████████▊\u001b[0m| 294/298 [02:07<00:01,  2.53it/s]\u001b[0m\u001b[A\n",
      "Training loss: 5.46613:  99%|\u001b[38;2;0;85;0m████████████████▊\u001b[0m| 294/298 [02:08<00:01,  2.53it/s]\u001b[0m\u001b[A\n",
      "Training loss: 5.46613:  99%|\u001b[38;2;0;85;0m████████████████▊\u001b[0m| 295/298 [02:08<00:01,  2.53it/s]\u001b[0m\u001b[A\n",
      "Training loss: 5.44787:  99%|\u001b[38;2;0;85;0m████████████████▊\u001b[0m| 295/298 [02:08<00:01,  2.53it/s]\u001b[0m\u001b[A\n",
      "Training loss: 5.44787:  99%|\u001b[38;2;0;85;0m████████████████▉\u001b[0m| 296/298 [02:08<00:00,  2.53it/s]\u001b[0m\u001b[A\n",
      "Training loss: 5.43019:  99%|\u001b[38;2;0;85;0m████████████████▉\u001b[0m| 296/298 [02:09<00:00,  2.53it/s]\u001b[0m\u001b[A\n",
      "Training loss: 5.43019: 100%|\u001b[38;2;0;85;0m████████████████▉\u001b[0m| 297/298 [02:09<00:00,  2.53it/s]\u001b[0m\u001b[A\n",
      "Training loss: 5.41275: 100%|\u001b[38;2;0;85;0m████████████████▉\u001b[0m| 297/298 [02:09<00:00,  2.53it/s]\u001b[0m\u001b[A\n",
      "Training loss: 5.41275: 100%|\u001b[38;2;0;85;0m█████████████████\u001b[0m| 298/298 [02:09<00:00,  2.21it/s]\u001b[0m\u001b[A\n",
      "                                                                                \u001b[A\n",
      "Testing progress:   0%|\u001b[38;2;0;85;0m                                  \u001b[0m| 0/76 [00:00<?, ?it/s]\u001b[0m\u001b[A\n",
      "Testing progress:   1%|\u001b[38;2;0;85;0m▎                         \u001b[0m| 1/76 [00:00<00:47,  1.57it/s]\u001b[0m\u001b[A\n",
      "Testing progress:   3%|\u001b[38;2;0;85;0m▋                         \u001b[0m| 2/76 [00:00<00:25,  2.95it/s]\u001b[0m\u001b[A\n",
      "Testing progress:   4%|\u001b[38;2;0;85;0m█                         \u001b[0m| 3/76 [00:00<00:17,  4.12it/s]\u001b[0m\u001b[A\n",
      "Testing progress:   5%|\u001b[38;2;0;85;0m█▎                        \u001b[0m| 4/76 [00:01<00:14,  5.07it/s]\u001b[0m\u001b[A\n",
      "Testing progress:   7%|\u001b[38;2;0;85;0m█▋                        \u001b[0m| 5/76 [00:01<00:12,  5.80it/s]\u001b[0m\u001b[A\n",
      "Testing progress:   8%|\u001b[38;2;0;85;0m██                        \u001b[0m| 6/76 [00:01<00:11,  6.35it/s]\u001b[0m\u001b[A\n",
      "Testing progress:   9%|\u001b[38;2;0;85;0m██▍                       \u001b[0m| 7/76 [00:01<00:10,  6.77it/s]\u001b[0m\u001b[A\n",
      "Testing progress:  11%|\u001b[38;2;0;85;0m██▋                       \u001b[0m| 8/76 [00:01<00:09,  7.07it/s]\u001b[0m\u001b[A\n",
      "Testing progress:  12%|\u001b[38;2;0;85;0m███                       \u001b[0m| 9/76 [00:01<00:09,  7.28it/s]\u001b[0m\u001b[A\n",
      "Testing progress:  13%|\u001b[38;2;0;85;0m███▎                     \u001b[0m| 10/76 [00:01<00:08,  7.43it/s]\u001b[0m\u001b[A\n",
      "Testing progress:  14%|\u001b[38;2;0;85;0m███▌                     \u001b[0m| 11/76 [00:01<00:08,  7.56it/s]\u001b[0m\u001b[A\n",
      "Testing progress:  16%|\u001b[38;2;0;85;0m███▉                     \u001b[0m| 12/76 [00:02<00:08,  7.63it/s]\u001b[0m\u001b[A\n",
      "Testing progress:  17%|\u001b[38;2;0;85;0m████▎                    \u001b[0m| 13/76 [00:02<00:08,  7.65it/s]\u001b[0m\u001b[A\n",
      "Testing progress:  18%|\u001b[38;2;0;85;0m████▌                    \u001b[0m| 14/76 [00:02<00:08,  7.71it/s]\u001b[0m\u001b[A\n",
      "Testing progress:  20%|\u001b[38;2;0;85;0m████▉                    \u001b[0m| 15/76 [00:02<00:10,  6.09it/s]\u001b[0m\u001b[A\n",
      "Testing progress:  21%|\u001b[38;2;0;85;0m█████▎                   \u001b[0m| 16/76 [00:02<00:09,  6.53it/s]\u001b[0m\u001b[A\n"
     ]
    },
    {
     "name": "stdout",
     "output_type": "stream",
     "text": [
      "Testing progress:  22%|\u001b[38;2;0;85;0m█████▌                   \u001b[0m| 17/76 [00:03<00:12,  4.72it/s]\u001b[0m\u001b[A\n",
      "Testing progress:  24%|\u001b[38;2;0;85;0m█████▉                   \u001b[0m| 18/76 [00:03<00:10,  5.36it/s]\u001b[0m\u001b[A\n",
      "Testing progress:  25%|\u001b[38;2;0;85;0m██████▎                  \u001b[0m| 19/76 [00:03<00:09,  5.91it/s]\u001b[0m\u001b[A\n",
      "Testing progress:  26%|\u001b[38;2;0;85;0m██████▌                  \u001b[0m| 20/76 [00:03<00:08,  6.40it/s]\u001b[0m\u001b[A\n",
      "Testing progress:  28%|\u001b[38;2;0;85;0m██████▉                  \u001b[0m| 21/76 [00:03<00:08,  6.74it/s]\u001b[0m\u001b[A\n",
      "Testing progress:  29%|\u001b[38;2;0;85;0m███████▏                 \u001b[0m| 22/76 [00:03<00:07,  7.05it/s]\u001b[0m\u001b[A\n",
      "Testing progress:  30%|\u001b[38;2;0;85;0m███████▌                 \u001b[0m| 23/76 [00:04<00:11,  4.48it/s]\u001b[0m\u001b[A\n",
      "Testing progress:  32%|\u001b[38;2;0;85;0m███████▉                 \u001b[0m| 24/76 [00:04<00:10,  5.14it/s]\u001b[0m\u001b[A\n",
      "Testing progress:  33%|\u001b[38;2;0;85;0m████████▏                \u001b[0m| 25/76 [00:04<00:08,  5.72it/s]\u001b[0m\u001b[A\n",
      "Testing progress:  34%|\u001b[38;2;0;85;0m████████▌                \u001b[0m| 26/76 [00:04<00:08,  6.23it/s]\u001b[0m\u001b[A\n",
      "Testing progress:  36%|\u001b[38;2;0;85;0m████████▉                \u001b[0m| 27/76 [00:04<00:07,  6.62it/s]\u001b[0m\u001b[A\n",
      "Testing progress:  37%|\u001b[38;2;0;85;0m█████████▏               \u001b[0m| 28/76 [00:04<00:06,  6.95it/s]\u001b[0m\u001b[A\n",
      "Testing progress:  38%|\u001b[38;2;0;85;0m█████████▌               \u001b[0m| 29/76 [00:04<00:06,  7.16it/s]\u001b[0m\u001b[A\n",
      "Testing progress:  39%|\u001b[38;2;0;85;0m█████████▊               \u001b[0m| 30/76 [00:04<00:06,  7.36it/s]\u001b[0m\u001b[A\n",
      "Testing progress:  41%|\u001b[38;2;0;85;0m██████████▏              \u001b[0m| 31/76 [00:05<00:06,  7.46it/s]\u001b[0m\u001b[A\n",
      "Testing progress:  42%|\u001b[38;2;0;85;0m██████████▌              \u001b[0m| 32/76 [00:05<00:05,  7.57it/s]\u001b[0m\u001b[A\n",
      "Testing progress:  43%|\u001b[38;2;0;85;0m██████████▊              \u001b[0m| 33/76 [00:05<00:05,  7.63it/s]\u001b[0m\u001b[A\n",
      "Testing progress:  45%|\u001b[38;2;0;85;0m███████████▏             \u001b[0m| 34/76 [00:05<00:05,  7.68it/s]\u001b[0m\u001b[A\n",
      "Testing progress:  46%|\u001b[38;2;0;85;0m███████████▌             \u001b[0m| 35/76 [00:05<00:05,  7.73it/s]\u001b[0m\u001b[A\n",
      "Testing progress:  47%|\u001b[38;2;0;85;0m███████████▊             \u001b[0m| 36/76 [00:05<00:05,  7.75it/s]\u001b[0m\u001b[A\n",
      "Testing progress:  49%|\u001b[38;2;0;85;0m████████████▏            \u001b[0m| 37/76 [00:05<00:05,  7.76it/s]\u001b[0m\u001b[A\n",
      "Testing progress:  50%|\u001b[38;2;0;85;0m████████████▌            \u001b[0m| 38/76 [00:06<00:04,  7.77it/s]\u001b[0m\u001b[A\n",
      "Testing progress:  51%|\u001b[38;2;0;85;0m████████████▊            \u001b[0m| 39/76 [00:06<00:04,  7.81it/s]\u001b[0m\u001b[A\n",
      "Testing progress:  53%|\u001b[38;2;0;85;0m█████████████▏           \u001b[0m| 40/76 [00:06<00:04,  7.81it/s]\u001b[0m\u001b[A\n",
      "Testing progress:  54%|\u001b[38;2;0;85;0m█████████████▍           \u001b[0m| 41/76 [00:06<00:04,  7.81it/s]\u001b[0m\u001b[A\n",
      "Testing progress:  55%|\u001b[38;2;0;85;0m█████████████▊           \u001b[0m| 42/76 [00:06<00:04,  7.80it/s]\u001b[0m\u001b[A\n",
      "Testing progress:  57%|\u001b[38;2;0;85;0m██████████████▏          \u001b[0m| 43/76 [00:06<00:04,  7.80it/s]\u001b[0m\u001b[A\n",
      "Testing progress:  58%|\u001b[38;2;0;85;0m██████████████▍          \u001b[0m| 44/76 [00:06<00:04,  7.81it/s]\u001b[0m\u001b[A\n",
      "Testing progress:  59%|\u001b[38;2;0;85;0m██████████████▊          \u001b[0m| 45/76 [00:06<00:03,  7.81it/s]\u001b[0m\u001b[A\n",
      "Testing progress:  61%|\u001b[38;2;0;85;0m███████████████▏         \u001b[0m| 46/76 [00:07<00:03,  7.80it/s]\u001b[0m\u001b[A\n",
      "Testing progress:  62%|\u001b[38;2;0;85;0m███████████████▍         \u001b[0m| 47/76 [00:07<00:03,  7.80it/s]\u001b[0m\u001b[A\n",
      "Testing progress:  63%|\u001b[38;2;0;85;0m███████████████▊         \u001b[0m| 48/76 [00:07<00:06,  4.43it/s]\u001b[0m\u001b[A\n",
      "Testing progress:  64%|\u001b[38;2;0;85;0m████████████████         \u001b[0m| 49/76 [00:07<00:05,  5.09it/s]\u001b[0m\u001b[A\n",
      "Testing progress:  66%|\u001b[38;2;0;85;0m████████████████▍        \u001b[0m| 50/76 [00:07<00:04,  5.68it/s]\u001b[0m\u001b[A\n",
      "Testing progress:  67%|\u001b[38;2;0;85;0m████████████████▊        \u001b[0m| 51/76 [00:07<00:04,  6.20it/s]\u001b[0m\u001b[A\n",
      "Testing progress:  68%|\u001b[38;2;0;85;0m█████████████████        \u001b[0m| 52/76 [00:08<00:03,  6.62it/s]\u001b[0m\u001b[A\n",
      "Testing progress:  70%|\u001b[38;2;0;85;0m█████████████████▍       \u001b[0m| 53/76 [00:08<00:03,  6.92it/s]\u001b[0m\u001b[A\n",
      "Testing progress:  71%|\u001b[38;2;0;85;0m█████████████████▊       \u001b[0m| 54/76 [00:08<00:03,  7.16it/s]\u001b[0m\u001b[A\n",
      "Testing progress:  72%|\u001b[38;2;0;85;0m██████████████████       \u001b[0m| 55/76 [00:08<00:02,  7.35it/s]\u001b[0m\u001b[A\n",
      "Testing progress:  74%|\u001b[38;2;0;85;0m██████████████████▍      \u001b[0m| 56/76 [00:08<00:02,  7.49it/s]\u001b[0m\u001b[A\n",
      "Testing progress:  75%|\u001b[38;2;0;85;0m██████████████████▊      \u001b[0m| 57/76 [00:08<00:02,  7.58it/s]\u001b[0m\u001b[A\n",
      "Testing progress:  76%|\u001b[38;2;0;85;0m███████████████████      \u001b[0m| 58/76 [00:08<00:02,  7.64it/s]\u001b[0m\u001b[A\n",
      "Testing progress:  78%|\u001b[38;2;0;85;0m███████████████████▍     \u001b[0m| 59/76 [00:09<00:02,  7.69it/s]\u001b[0m\u001b[A\n",
      "Testing progress:  79%|\u001b[38;2;0;85;0m███████████████████▋     \u001b[0m| 60/76 [00:09<00:02,  7.72it/s]\u001b[0m\u001b[A\n",
      "Testing progress:  80%|\u001b[38;2;0;85;0m████████████████████     \u001b[0m| 61/76 [00:09<00:01,  7.74it/s]\u001b[0m\u001b[A\n",
      "Testing progress:  82%|\u001b[38;2;0;85;0m████████████████████▍    \u001b[0m| 62/76 [00:09<00:01,  7.75it/s]\u001b[0m\u001b[A\n",
      "Testing progress:  83%|\u001b[38;2;0;85;0m████████████████████▋    \u001b[0m| 63/76 [00:09<00:01,  7.77it/s]\u001b[0m\u001b[A\n",
      "Testing progress:  84%|\u001b[38;2;0;85;0m█████████████████████    \u001b[0m| 64/76 [00:09<00:01,  7.79it/s]\u001b[0m\u001b[A\n",
      "Testing progress:  86%|\u001b[38;2;0;85;0m█████████████████████▍   \u001b[0m| 65/76 [00:09<00:01,  7.80it/s]\u001b[0m\u001b[A\n",
      "Testing progress:  87%|\u001b[38;2;0;85;0m█████████████████████▋   \u001b[0m| 66/76 [00:09<00:01,  7.79it/s]\u001b[0m\u001b[A\n",
      "Testing progress:  88%|\u001b[38;2;0;85;0m██████████████████████   \u001b[0m| 67/76 [00:10<00:01,  7.79it/s]\u001b[0m\u001b[A\n",
      "Testing progress:  89%|\u001b[38;2;0;85;0m██████████████████████▎  \u001b[0m| 68/76 [00:10<00:01,  7.77it/s]\u001b[0m\u001b[A\n",
      "Testing progress:  91%|\u001b[38;2;0;85;0m██████████████████████▋  \u001b[0m| 69/76 [00:10<00:00,  7.81it/s]\u001b[0m\u001b[A\n",
      "Testing progress:  92%|\u001b[38;2;0;85;0m███████████████████████  \u001b[0m| 70/76 [00:10<00:00,  7.79it/s]\u001b[0m\u001b[A\n",
      "Testing progress:  93%|\u001b[38;2;0;85;0m███████████████████████▎ \u001b[0m| 71/76 [00:10<00:00,  7.82it/s]\u001b[0m\u001b[A\n",
      "Testing progress:  95%|\u001b[38;2;0;85;0m███████████████████████▋ \u001b[0m| 72/76 [00:10<00:00,  7.81it/s]\u001b[0m\u001b[A\n",
      "Testing progress:  96%|\u001b[38;2;0;85;0m████████████████████████ \u001b[0m| 73/76 [00:10<00:00,  7.82it/s]\u001b[0m\u001b[A\n",
      "Testing progress:  97%|\u001b[38;2;0;85;0m████████████████████████▎\u001b[0m| 74/76 [00:10<00:00,  7.82it/s]\u001b[0m\u001b[A\n",
      "Testing progress:  99%|\u001b[38;2;0;85;0m████████████████████████▋\u001b[0m| 75/76 [00:11<00:00,  7.83it/s]\u001b[0m\u001b[A\n",
      "smallpe_2 - Epoch 1/1, Accuracy 100.0000%, Recall nan%, Precision nan%, Loss : 5\u001b[A\n"
     ]
    }
   ],
   "source": [
    "proj.process.train_malware(model, optimizer, trainloader, losses, testloader, runName=runName, epochs=epochs)"
   ]
  },
  {
   "cell_type": "code",
   "execution_count": 47,
   "metadata": {},
   "outputs": [],
   "source": [
    "accuracy = Accuracy(task=\"binary\",num_classes=2).to(device)"
   ]
  },
  {
   "cell_type": "code",
   "execution_count": 83,
   "metadata": {},
   "outputs": [
    {
     "name": "stderr",
     "output_type": "stream",
     "text": [
      "Testing progress:   3%|\u001b[38;2;0;85;0m▋                         \u001b[0m| 2/76 [00:00<00:17,  4.13it/s]\u001b[0m"
     ]
    },
    {
     "name": "stdout",
     "output_type": "stream",
     "text": [
      "[0.9982437  0.9982015  0.9982653  0.99999976 1.         0.9979322\n",
      " 0.9982875  0.99831223 0.9982817  0.99831957 0.9975313  0.99835676\n",
      " 0.9982711  0.9983668  1.         0.9982742 ]\n",
      "[0.99830866 0.9983895  0.9886596  0.99827945 0.9982153  0.99837565\n",
      " 0.99815124 1.         0.9983342  0.99825114 0.9982407  0.99826175\n",
      " 0.99810046 0.99823904 0.99704957 0.9982058 ]\n"
     ]
    },
    {
     "name": "stderr",
     "output_type": "stream",
     "text": [
      "Testing progress:   5%|\u001b[38;2;0;85;0m█▎                        \u001b[0m| 4/76 [00:00<00:11,  6.09it/s]\u001b[0m"
     ]
    },
    {
     "name": "stdout",
     "output_type": "stream",
     "text": [
      "[0.99833506 1.         0.99836725 1.         1.         0.998348\n",
      " 0.9982333  0.998425   0.99770963 0.99830365 0.99818146 0.9982369\n",
      " 0.9983165  0.99999905 0.99822384 0.9983981 ]\n",
      "[0.99824834 0.998276   0.9983077  1.         0.9982862  0.99823546\n",
      " 0.99842983 0.99836177 1.         0.9983437  1.         0.9962031\n",
      " 0.99824995 0.998314   0.9982337  0.9982324 ]\n"
     ]
    },
    {
     "name": "stderr",
     "output_type": "stream",
     "text": [
      "Testing progress:   8%|\u001b[38;2;0;85;0m██                        \u001b[0m| 6/76 [00:01<00:09,  7.16it/s]\u001b[0m"
     ]
    },
    {
     "name": "stdout",
     "output_type": "stream",
     "text": [
      "[0.9982638  0.99836737 0.9984042  0.99829394 0.99836284 0.99821824\n",
      " 0.9982843  0.99819654 1.         0.9982526  0.99828666 0.99837047\n",
      " 0.998362   1.         0.99827874 1.        ]\n",
      "[0.99826777 0.99836737 0.9981833  0.9982632  0.99818414 1.\n",
      " 0.9983524  0.99829274 0.99834776 0.99837047 0.9982651  0.9984037\n",
      " 0.9982388  0.9983315  0.99751174 0.9982298 ]\n"
     ]
    },
    {
     "name": "stderr",
     "output_type": "stream",
     "text": [
      "Testing progress:  11%|\u001b[38;2;0;85;0m██▋                       \u001b[0m| 8/76 [00:01<00:08,  7.69it/s]\u001b[0m"
     ]
    },
    {
     "name": "stdout",
     "output_type": "stream",
     "text": [
      "[0.9983028  0.998285   0.9982653  0.9981029  0.99826247 0.99827254\n",
      " 0.99826294 0.9981988  0.9999994  0.9981627  0.9983242  0.9982564\n",
      " 0.9982116  0.9982128  0.99827635 1.        ]\n",
      "[0.9982431  0.9980884  1.         0.99831104 0.998251   0.99828017\n",
      " 0.998254   0.9971204  0.9983255  0.9982224  1.         0.9982943\n",
      " 0.9982529  0.99827325 0.99822706 0.9983005 ]\n"
     ]
    },
    {
     "name": "stderr",
     "output_type": "stream",
     "text": [
      "Testing progress:  13%|\u001b[38;2;0;85;0m███▎                     \u001b[0m| 10/76 [00:01<00:08,  7.93it/s]\u001b[0m"
     ]
    },
    {
     "name": "stdout",
     "output_type": "stream",
     "text": [
      "[0.9983211  0.9983277  0.99831533 0.9982331  0.99825245 0.99833846\n",
      " 0.99834645 0.9983292  0.99831414 0.99828416 1.         0.9981875\n",
      " 1.         1.         0.9982805  0.9981828 ]\n",
      "[0.99838626 0.99823856 0.9983028  0.9983163  0.9982805  0.9999981\n",
      " 0.998259   0.99823195 0.99536186 0.9982799  1.         0.9976361\n",
      " 0.99823534 1.         0.99824023 1.        ]\n"
     ]
    },
    {
     "name": "stderr",
     "output_type": "stream",
     "text": [
      "Testing progress:  16%|\u001b[38;2;0;85;0m███▉                     \u001b[0m| 12/76 [00:01<00:07,  8.06it/s]\u001b[0m"
     ]
    },
    {
     "name": "stdout",
     "output_type": "stream",
     "text": [
      "[0.99831617 0.99799156 1.         0.9983485  0.9982338  0.99821305\n",
      " 0.99614584 0.9983714  0.99831104 0.99831796 0.998212   0.9982457\n",
      " 0.9981255  1.         0.99826175 0.9982735 ]\n",
      "[0.9983571  1.         0.9982615  0.99814296 1.         0.9982963\n",
      " 0.99754447 0.9983125  0.9983088  0.99832124 0.9983352  0.99827385\n",
      " 0.998151   0.99806947 0.99817216 0.99825567]\n"
     ]
    },
    {
     "name": "stderr",
     "output_type": "stream",
     "text": [
      "Testing progress:  18%|\u001b[38;2;0;85;0m████▌                    \u001b[0m| 14/76 [00:02<00:07,  8.10it/s]\u001b[0m"
     ]
    },
    {
     "name": "stdout",
     "output_type": "stream",
     "text": [
      "[0.9983668  0.9982632  0.9984035  0.9982755  0.99838424 0.9982875\n",
      " 0.99834704 0.99831414 0.99832994 0.99824214 0.9983499  0.9982399\n",
      " 0.998345   0.99827576 0.9982376  0.99835074]\n",
      "[0.9982685  0.9983992  0.99829346 0.99835795 0.99831307 0.99829286\n",
      " 0.9982925  0.9983677  0.99820375 0.9983517  1.         0.9983619\n",
      " 0.9983399  0.998326   0.9983329  0.9983247 ]\n"
     ]
    },
    {
     "name": "stderr",
     "output_type": "stream",
     "text": [
      "Testing progress:  21%|\u001b[38;2;0;85;0m█████▎                   \u001b[0m| 16/76 [00:02<00:07,  8.16it/s]\u001b[0m"
     ]
    },
    {
     "name": "stdout",
     "output_type": "stream",
     "text": [
      "[0.99840945 0.9982992  0.9984169  1.         1.         0.9983164\n",
      " 0.99828124 0.9983448  0.9978573  0.99824774 0.9982974  0.99831605\n",
      " 0.99831796 0.9983027  0.99999976 0.99814904]\n",
      "[0.99838126 0.9983431  1.         0.99830353 1.         0.99999857\n",
      " 0.9982803  0.9983728  0.9982083  0.99828583 0.99826944 0.9984484\n",
      " 0.9982799  0.9982141  0.9983847  0.9982828 ]\n"
     ]
    },
    {
     "name": "stderr",
     "output_type": "stream",
     "text": [
      "Testing progress:  24%|\u001b[38;2;0;85;0m█████▉                   \u001b[0m| 18/76 [00:02<00:07,  8.17it/s]\u001b[0m"
     ]
    },
    {
     "name": "stdout",
     "output_type": "stream",
     "text": [
      "[0.99818295 0.9983382  1.         0.9983639  0.99827564 0.9983601\n",
      " 0.9982886  0.9982552  0.9983026  0.99834764 0.9999982  1.\n",
      " 0.99830014 0.99832445 0.99826956 0.99827623]\n",
      "[0.99794906 0.9982357  0.9983205  0.9982968  0.99834216 0.998357\n",
      " 0.99764985 1.         0.9984003  0.99829024 0.99827874 0.9982147\n",
      " 0.99826175 0.9982582  0.9982633  0.9983094 ]\n"
     ]
    },
    {
     "name": "stderr",
     "output_type": "stream",
     "text": [
      "Testing progress:  26%|\u001b[38;2;0;85;0m██████▌                  \u001b[0m| 20/76 [00:02<00:06,  8.15it/s]\u001b[0m"
     ]
    },
    {
     "name": "stdout",
     "output_type": "stream",
     "text": [
      "[0.99825186 0.99829346 0.9977284  0.9982351  0.99817955 0.9984003\n",
      " 0.9982845  0.9982103  0.9815408  1.         0.99806386 0.9983103\n",
      " 1.         0.99821174 0.998075   0.9983138 ]\n",
      "[0.99828255 0.99823207 0.99830294 0.9999478  1.         0.9983516\n",
      " 0.99837697 0.9967964  1.         0.99832267 0.9983455  0.998024\n",
      " 0.99825996 0.9983292  1.         0.99828774]\n"
     ]
    },
    {
     "name": "stderr",
     "output_type": "stream",
     "text": [
      "Testing progress:  29%|\u001b[38;2;0;85;0m███████▏                 \u001b[0m| 22/76 [00:02<00:06,  8.09it/s]\u001b[0m"
     ]
    },
    {
     "name": "stdout",
     "output_type": "stream",
     "text": [
      "[0.90158516 1.         0.99592435 1.         1.         0.9982436\n",
      " 0.9982566  0.9982247  0.998185   0.99822444 0.9982262  0.9982413\n",
      " 0.99830085 0.9982634  0.9981698  0.9983285 ]\n",
      "[0.998315   0.9983078  1.         0.9980116  0.99823844 0.99838805\n",
      " 0.9983924  0.9980539  0.9977642  0.9983259  0.9982293  0.9982039\n",
      " 0.99825305 0.99820316 0.9983114  0.99830174]\n"
     ]
    },
    {
     "name": "stderr",
     "output_type": "stream",
     "text": [
      "Testing progress:  32%|\u001b[38;2;0;85;0m███████▉                 \u001b[0m| 24/76 [00:03<00:06,  8.13it/s]\u001b[0m"
     ]
    },
    {
     "name": "stdout",
     "output_type": "stream",
     "text": [
      "[0.9982413  0.998309   0.99819607 0.998315   0.9983936  1.\n",
      " 0.99824464 1.         1.         0.9984249  0.9981918  0.9982564\n",
      " 0.99834    0.99832636 0.9316842  0.99829   ]\n",
      "[0.9981382  0.9982078  0.99827576 0.9983121  0.99827707 0.998302\n",
      " 0.99837106 0.99826354 0.9982577  0.9983058  0.99803597 0.99829227\n",
      " 0.9982326  1.         0.9982889  0.99762934]\n"
     ]
    },
    {
     "name": "stderr",
     "output_type": "stream",
     "text": [
      "Testing progress:  34%|\u001b[38;2;0;85;0m████████▌                \u001b[0m| 26/76 [00:03<00:06,  8.12it/s]\u001b[0m"
     ]
    },
    {
     "name": "stdout",
     "output_type": "stream",
     "text": [
      "[0.99824834 0.9982936  1.         0.99832577 1.         0.998403\n",
      " 0.9968104  0.99821067 0.9864655  0.99831057 0.9982572  1.\n",
      " 0.99787736 0.9983272  0.997224   0.9983164 ]\n",
      "[0.998351   0.9983071  0.998271   0.99834263 0.99828136 0.9982461\n",
      " 0.9983962  0.9983531  0.9983095  0.9983565  0.998168   0.998279\n",
      " 0.9999999  0.99825495 0.9983376  0.99836046]\n"
     ]
    },
    {
     "name": "stderr",
     "output_type": "stream",
     "text": [
      "Testing progress:  37%|\u001b[38;2;0;85;0m█████████▏               \u001b[0m| 28/76 [00:03<00:05,  8.12it/s]\u001b[0m"
     ]
    },
    {
     "name": "stdout",
     "output_type": "stream",
     "text": [
      "[0.9983367  0.9982665  1.         0.9997141  0.9983631  0.998264\n",
      " 0.9983632  0.99833244 0.9981565  1.         0.99999774 0.99836606\n",
      " 0.9983929  0.99825317 0.9982685  0.99824643]\n",
      "[0.9982455  1.         0.9983543  1.         0.9982533  0.9979818\n",
      " 0.9972082  0.99837625 0.9983557  0.9981939  1.         0.9982717\n",
      " 0.9981579  1.         0.99836975 0.99822897]\n"
     ]
    },
    {
     "name": "stderr",
     "output_type": "stream",
     "text": [
      "Testing progress:  39%|\u001b[38;2;0;85;0m█████████▊               \u001b[0m| 30/76 [00:03<00:05,  8.12it/s]\u001b[0m"
     ]
    },
    {
     "name": "stdout",
     "output_type": "stream",
     "text": [
      "[0.9983583  0.9983004  0.99825746 1.         0.9982553  0.99829704\n",
      " 0.9982899  0.9983158  0.9982198  0.9981346  0.99824667 0.9983602\n",
      " 0.9983053  1.         0.99826694 0.9982975 ]\n",
      "[0.99826103 0.99831855 0.99828005 0.99838185 0.9983967  0.9982698\n",
      " 0.99831605 0.9982893  0.9982476  0.99818534 0.9980959  0.9982988\n",
      " 1.         0.99840266 0.9982426  0.9968749 ]\n"
     ]
    },
    {
     "name": "stderr",
     "output_type": "stream",
     "text": [
      "Testing progress:  42%|\u001b[38;2;0;85;0m██████████▌              \u001b[0m| 32/76 [00:04<00:05,  8.16it/s]\u001b[0m"
     ]
    },
    {
     "name": "stdout",
     "output_type": "stream",
     "text": [
      "[1.         0.99827754 0.9982509  0.99838436 0.9983015  0.9982596\n",
      " 0.99828196 0.9983175  0.99829453 0.99834883 0.9983309  1.\n",
      " 0.9982712  0.99835086 0.9999925  1.        ]\n",
      "[0.9982596  1.         0.998372   1.         0.9983417  0.99816895\n",
      " 0.9528077  0.9976914  0.9983668  0.9983327  0.99828845 0.98666465\n",
      " 0.99827003 0.998251   0.9982893  0.9983033 ]\n"
     ]
    },
    {
     "name": "stderr",
     "output_type": "stream",
     "text": [
      "Testing progress:  45%|\u001b[38;2;0;85;0m███████████▏             \u001b[0m| 34/76 [00:04<00:06,  6.29it/s]\u001b[0m"
     ]
    },
    {
     "name": "stdout",
     "output_type": "stream",
     "text": [
      "[0.9982817  0.9983506  0.99829966 0.9983529  0.99837625 0.9983658\n",
      " 1.         1.         0.9982918  0.99825674 0.99807596 0.99831307\n",
      " 0.99816954 0.9983468  0.99759066 1.        ]\n",
      "[1.         0.9983084  0.9982685  0.9983026  1.         0.99834573\n",
      " 0.9983322  0.99828964 0.99838114 0.99825126 0.99823064 0.998268\n",
      " 0.99820733 0.9983796  0.9983084  0.99835026]\n"
     ]
    },
    {
     "name": "stderr",
     "output_type": "stream",
     "text": [
      "Testing progress:  47%|\u001b[38;2;0;85;0m███████████▊             \u001b[0m| 36/76 [00:04<00:05,  7.13it/s]\u001b[0m"
     ]
    },
    {
     "name": "stdout",
     "output_type": "stream",
     "text": [
      "[0.99827313 0.9982692  0.9983005  0.9983394  1.         0.99832755\n",
      " 0.9978702  0.99826103 0.99831945 0.99820125 0.9982843  1.\n",
      " 0.99826247 1.         0.99832815 0.9983822 ]\n",
      "[0.9982497  0.9982687  0.9983138  0.9982711  0.9983084  0.9982351\n",
      " 0.9982931  0.99831235 0.99827695 0.9982664  0.99833834 0.99840313\n",
      " 0.9982502  0.9982998  0.99818265 0.99830747]\n"
     ]
    },
    {
     "name": "stderr",
     "output_type": "stream",
     "text": [
      "Testing progress:  50%|\u001b[38;2;0;85;0m████████████▌            \u001b[0m| 38/76 [00:05<00:04,  7.64it/s]\u001b[0m"
     ]
    },
    {
     "name": "stdout",
     "output_type": "stream",
     "text": [
      "[0.9983498  0.9983651  0.9564527  0.9983563  0.9982457  1.\n",
      " 0.9962812  0.9983156  0.9982139  0.99834144 1.         0.9983053\n",
      " 0.9982697  0.99999213 0.9959045  0.998376  ]\n",
      "[0.99842703 0.9982633  0.9983485  1.         0.9983132  1.\n",
      " 0.99831223 0.998317   0.9981439  0.99830604 0.9982703  0.99826694\n",
      " 0.998206   0.9984022  0.9982607  0.99831235]\n"
     ]
    },
    {
     "name": "stderr",
     "output_type": "stream",
     "text": [
      "Testing progress:  53%|\u001b[38;2;0;85;0m█████████████▏           \u001b[0m| 40/76 [00:05<00:04,  7.89it/s]\u001b[0m"
     ]
    },
    {
     "name": "stdout",
     "output_type": "stream",
     "text": [
      "[1.         0.9984205  0.998387   0.99825984 1.         0.9982673\n",
      " 0.9982699  0.9983316  0.9983317  0.9982803  0.99825805 0.9983491\n",
      " 0.99832493 1.         0.9983569  0.9982919 ]\n",
      "[0.99827576 0.99823713 0.99834335 0.9982303  0.99753916 0.9982949\n",
      " 0.9982558  0.9982799  0.99806494 0.9975962  0.9999995  0.9983364\n",
      " 0.99753165 1.         0.9983229  0.99833447]\n"
     ]
    },
    {
     "name": "stderr",
     "output_type": "stream",
     "text": [
      "Testing progress:  55%|\u001b[38;2;0;85;0m█████████████▊           \u001b[0m| 42/76 [00:05<00:04,  8.04it/s]\u001b[0m"
     ]
    },
    {
     "name": "stdout",
     "output_type": "stream",
     "text": [
      "[0.9984073  0.9983113  0.9983935  0.9982291  0.99999666 0.99833506\n",
      " 0.99825174 0.9983126  0.99578035 0.9983463  0.99831593 0.9982212\n",
      " 1.         1.         0.9983204  0.9983323 ]\n",
      "[0.9982273  0.9982844  0.99834096 0.99824536 1.         0.9984157\n",
      " 0.9983058  0.9982857  0.9982779  0.99827516 0.9982351  0.99999905\n",
      " 0.9982622  0.9983407  0.99822444 1.        ]\n"
     ]
    },
    {
     "name": "stderr",
     "output_type": "stream",
     "text": [
      "Testing progress:  58%|\u001b[38;2;0;85;0m██████████████▍          \u001b[0m| 44/76 [00:05<00:03,  8.11it/s]\u001b[0m"
     ]
    },
    {
     "name": "stdout",
     "output_type": "stream",
     "text": [
      "[0.99836105 0.9982672  0.9982497  0.99832433 0.9982212  1.\n",
      " 0.9982339  0.9983022  0.9981857  0.9983102  0.9982645  0.99832636\n",
      " 1.         1.         0.9999999  0.9983059 ]\n",
      "[0.9983936  0.99831474 0.9981438  0.9982627  0.9983224  0.9981869\n",
      " 0.99825424 0.99786514 0.9982515  0.9982476  0.998409   0.9999956\n",
      " 0.99832183 0.9983658  0.99835014 0.9980823 ]\n"
     ]
    },
    {
     "name": "stderr",
     "output_type": "stream",
     "text": [
      "Testing progress:  61%|\u001b[38;2;0;85;0m███████████████▏         \u001b[0m| 46/76 [00:06<00:03,  8.15it/s]\u001b[0m"
     ]
    },
    {
     "name": "stdout",
     "output_type": "stream",
     "text": [
      "[0.9981976  0.9982205  0.9983694  0.9983354  0.9982261  0.99762744\n",
      " 1.         0.99826056 0.9983164  0.99835455 0.9983571  0.9982534\n",
      " 0.9983082  0.99820864 0.9983388  0.9982994 ]\n",
      "[0.99828905 0.9971834  0.99828917 0.99831605 0.99830973 0.99830806\n",
      " 0.99811304 0.998338   0.9982699  0.99825317 1.         0.99830854\n",
      " 0.99829465 0.99822587 0.99838936 0.9983197 ]\n"
     ]
    },
    {
     "name": "stderr",
     "output_type": "stream",
     "text": [
      "Testing progress:  63%|\u001b[38;2;0;85;0m███████████████▊         \u001b[0m| 48/76 [00:06<00:03,  8.15it/s]\u001b[0m"
     ]
    },
    {
     "name": "stdout",
     "output_type": "stream",
     "text": [
      "[0.9982768  0.99829155 0.9983352  0.99832624 0.99835676 0.9981351\n",
      " 1.         0.99832386 0.9983424  0.9983543  0.9982974  0.9962269\n",
      " 0.9980242  0.99824655 0.9981908  1.        ]\n",
      "[0.998279   0.9981742  0.99830794 0.9983158  1.         0.99826825\n",
      " 0.9977527  0.9976943  0.99828243 0.99828786 0.9982857  0.9981767\n",
      " 0.9982317  0.9982621  0.99830914 0.9983329 ]\n"
     ]
    },
    {
     "name": "stderr",
     "output_type": "stream",
     "text": [
      "Testing progress:  66%|\u001b[38;2;0;85;0m████████████████▍        \u001b[0m| 50/76 [00:06<00:03,  8.13it/s]\u001b[0m"
     ]
    },
    {
     "name": "stdout",
     "output_type": "stream",
     "text": [
      "[0.9983713  0.9999995  0.99833256 1.         1.         0.9961606\n",
      " 0.99824727 0.99827874 0.99831676 1.         0.9983051  0.99812406\n",
      " 0.9982224  0.9983908  0.9982697  0.9977069 ]\n",
      "[1.         0.99833494 0.99828184 0.99831676 1.         0.9982932\n",
      " 1.         0.99834013 0.9984106  0.9983139  0.99815035 0.9983151\n",
      " 0.99828315 0.9960128  0.9983374  0.9983644 ]\n"
     ]
    },
    {
     "name": "stderr",
     "output_type": "stream",
     "text": [
      "Testing progress:  68%|\u001b[38;2;0;85;0m█████████████████        \u001b[0m| 52/76 [00:06<00:02,  8.11it/s]\u001b[0m"
     ]
    },
    {
     "name": "stdout",
     "output_type": "stream",
     "text": [
      "[1.         1.         0.9999999  0.99827635 0.99823016 0.9983668\n",
      " 0.9981865  0.99812096 0.99591994 1.         0.91984504 0.99819463\n",
      " 0.9982811  0.9982666  0.99778605 0.9981248 ]\n",
      "[0.9983027  0.99829024 0.9983284  0.9975114  0.9982436  0.99829155\n",
      " 0.9999851  0.9983309  0.9982919  0.99828964 0.9983163  1.\n",
      " 0.9983613  0.9999994  0.9983052  0.99824536]\n"
     ]
    },
    {
     "name": "stderr",
     "output_type": "stream",
     "text": [
      "Testing progress:  71%|\u001b[38;2;0;85;0m█████████████████▊       \u001b[0m| 54/76 [00:07<00:02,  8.13it/s]\u001b[0m"
     ]
    },
    {
     "name": "stdout",
     "output_type": "stream",
     "text": [
      "[0.9982389  1.         0.9982786  0.9983406  0.9981938  0.9983102\n",
      " 0.9982079  1.         0.9982089  0.99826616 1.         0.9982337\n",
      " 0.99828243 0.99829084 0.99831665 0.99837327]\n",
      "[0.9982942  0.9983192  1.         0.9983192  0.99835265 0.99829096\n",
      " 1.         1.         0.99829394 0.9982547  1.         0.9982248\n",
      " 0.9983254  0.9982768  0.9982426  0.99822897]\n"
     ]
    },
    {
     "name": "stderr",
     "output_type": "stream",
     "text": [
      "Testing progress:  74%|\u001b[38;2;0;85;0m██████████████████▍      \u001b[0m| 56/76 [00:07<00:02,  8.15it/s]\u001b[0m"
     ]
    },
    {
     "name": "stdout",
     "output_type": "stream",
     "text": [
      "[0.9983662  0.99820864 0.9981768  0.9982205  0.99817896 0.9983695\n",
      " 0.9983588  0.9983259  0.99825555 1.         0.9983463  0.99830425\n",
      " 0.9971539  0.9983531  0.9983575  0.99828845]\n",
      "[0.99999976 0.9982944  0.998334   1.         0.9982653  0.99837095\n",
      " 0.9977041  0.99830014 1.         1.         0.9983505  0.9983681\n",
      " 0.9982668  0.99823844 1.         0.9983047 ]\n"
     ]
    },
    {
     "name": "stderr",
     "output_type": "stream",
     "text": [
      "Testing progress:  76%|\u001b[38;2;0;85;0m███████████████████      \u001b[0m| 58/76 [00:07<00:02,  8.15it/s]\u001b[0m"
     ]
    },
    {
     "name": "stdout",
     "output_type": "stream",
     "text": [
      "[0.9983216  0.99837226 0.9982205  0.99812466 0.9982809  1.\n",
      " 0.99826425 0.9982576  0.9980934  0.9983589  0.9982803  0.9983187\n",
      " 0.9982191  0.9982778  0.9982016  0.9975375 ]\n",
      "[1.         0.9983424  0.998278   1.         0.9983498  0.99999726\n",
      " 0.9982023  0.9983064  0.99826825 0.9982881  0.9983261  1.\n",
      " 0.99828196 0.9982974  0.99829    0.9982851 ]\n"
     ]
    },
    {
     "name": "stderr",
     "output_type": "stream",
     "text": [
      "Testing progress:  79%|\u001b[38;2;0;85;0m███████████████████▋     \u001b[0m| 60/76 [00:07<00:01,  8.16it/s]\u001b[0m"
     ]
    },
    {
     "name": "stdout",
     "output_type": "stream",
     "text": [
      "[0.99794406 0.99828464 0.9982665  0.99829024 0.99824643 0.9983524\n",
      " 0.99825567 0.9983846  0.99822706 0.99822134 0.99827397 0.99830234\n",
      " 0.99827766 0.99830914 0.9982901  0.9983518 ]\n",
      "[1.         0.998273   0.9984048  0.9983681  0.99829787 0.99826103\n",
      " 0.99830604 0.99830663 0.99833494 0.99836725 0.99826556 0.998317\n",
      " 1.         0.998357   0.99833006 0.99825937]\n"
     ]
    },
    {
     "name": "stderr",
     "output_type": "stream",
     "text": [
      "Testing progress:  82%|\u001b[38;2;0;85;0m████████████████████▍    \u001b[0m| 62/76 [00:08<00:01,  8.16it/s]\u001b[0m"
     ]
    },
    {
     "name": "stdout",
     "output_type": "stream",
     "text": [
      "[0.99833316 1.         0.99827003 0.9983298  0.99999976 0.99832386\n",
      " 0.9982821  0.9983109  0.99819833 0.9982545  0.99825686 0.9983839\n",
      " 0.9981212  0.99816847 0.99820995 0.9983285 ]\n",
      "[0.9983871  0.99834514 0.99684626 0.99822575 0.99825925 0.99834275\n",
      " 0.998126   0.9981184  0.9999999  0.99828136 0.99828416 0.99825054\n",
      " 0.998273   1.         0.99836546 0.9983266 ]\n"
     ]
    },
    {
     "name": "stderr",
     "output_type": "stream",
     "text": [
      "Testing progress:  84%|\u001b[38;2;0;85;0m█████████████████████    \u001b[0m| 64/76 [00:08<00:01,  8.17it/s]\u001b[0m"
     ]
    },
    {
     "name": "stdout",
     "output_type": "stream",
     "text": [
      "[0.9976382  0.99833715 1.         1.         0.99826103 0.99828476\n",
      " 1.         0.9983197  0.99830866 0.9982551  0.9982091  0.9983082\n",
      " 0.99837375 0.99822384 0.9982747  1.        ]\n",
      "[0.99827135 0.99819034 0.99832135 0.9981665  0.9983134  0.9983228\n",
      " 0.99824464 0.9983164  0.99822754 0.99833775 0.99834263 0.9982526\n",
      " 0.9981957  0.9958824  0.9983046  0.99828976]\n"
     ]
    },
    {
     "name": "stderr",
     "output_type": "stream",
     "text": [
      "Testing progress:  87%|\u001b[38;2;0;85;0m█████████████████████▋   \u001b[0m| 66/76 [00:08<00:01,  8.16it/s]\u001b[0m"
     ]
    },
    {
     "name": "stdout",
     "output_type": "stream",
     "text": [
      "[0.9984012  0.9982722  0.99827313 1.         0.9983552  1.\n",
      " 0.9980908  0.998314   0.998123   0.9982482  0.99825007 0.9983789\n",
      " 0.99825007 0.9983677  0.99837035 0.9983498 ]\n",
      "[0.99841046 0.99999857 0.9983006  0.9983498  0.9983537  0.9982717\n",
      " 1.         0.9978765  0.9982718  0.9982711  0.9999999  0.9982957\n",
      " 0.9983045  0.9983828  0.99829537 0.99807215]\n"
     ]
    },
    {
     "name": "stderr",
     "output_type": "stream",
     "text": [
      "Testing progress:  89%|\u001b[38;2;0;85;0m██████████████████████▎  \u001b[0m| 68/76 [00:08<00:00,  8.17it/s]\u001b[0m"
     ]
    },
    {
     "name": "stdout",
     "output_type": "stream",
     "text": [
      "[0.9981602  1.         0.9983386  1.         1.         0.9983505\n",
      " 0.9980787  0.9984145  0.9983242  0.99831414 1.         0.9983164\n",
      " 0.9982601  0.9984143  0.99831843 0.9982875 ]\n",
      "[1.         0.9983333  0.99824893 0.9981363  0.99842274 1.\n",
      " 0.9983552  0.998317   0.99831104 0.99827945 0.9983125  0.99832135\n",
      " 0.9981887  1.         0.99836725 0.9983418 ]\n"
     ]
    },
    {
     "name": "stderr",
     "output_type": "stream",
     "text": [
      "Testing progress:  92%|\u001b[38;2;0;85;0m███████████████████████  \u001b[0m| 70/76 [00:09<00:00,  8.16it/s]\u001b[0m"
     ]
    },
    {
     "name": "stdout",
     "output_type": "stream",
     "text": [
      "[0.99832386 0.99829334 0.9982502  0.99827623 0.9982316  0.9976191\n",
      " 0.99826753 0.9982377  0.9982216  0.9975956  1.         1.\n",
      " 0.99825484 0.9982974  0.99830484 0.9982564 ]\n",
      "[0.9982241  0.99817324 0.9980563  0.9983059  0.99942553 0.9983942\n",
      " 0.99818087 0.9982798  0.9983602  0.99830085 0.96252805 0.99816835\n",
      " 0.99828076 0.9982986  1.         0.9982292 ]\n"
     ]
    },
    {
     "name": "stderr",
     "output_type": "stream",
     "text": [
      "Testing progress:  95%|\u001b[38;2;0;85;0m███████████████████████▋ \u001b[0m| 72/76 [00:09<00:00,  8.15it/s]\u001b[0m"
     ]
    },
    {
     "name": "stdout",
     "output_type": "stream",
     "text": [
      "[0.9982868  0.9982529  0.9982772  0.99826235 0.9982773  0.99843615\n",
      " 0.9982495  0.9981818  1.         0.9983291  1.         0.9982331\n",
      " 0.998248   0.99833506 0.99829    0.9983766 ]\n",
      "[0.9982577  0.9983272  0.99820757 0.9982712  0.9982261  0.9983134\n",
      " 0.9981963  0.9983169  0.99783677 0.998309   0.9983224  0.9983072\n",
      " 0.9982951  0.9982602  0.9982267  0.99999976]\n"
     ]
    },
    {
     "name": "stderr",
     "output_type": "stream",
     "text": [
      "Testing progress:  97%|\u001b[38;2;0;85;0m████████████████████████▎\u001b[0m| 74/76 [00:09<00:00,  8.11it/s]\u001b[0m"
     ]
    },
    {
     "name": "stdout",
     "output_type": "stream",
     "text": [
      "[0.9982735  0.99835455 0.9982023  0.99840873 0.998326   0.99835193\n",
      " 0.9983197  0.9982949  0.9982663  0.99833184 0.9981231  1.\n",
      " 0.9983798  0.99781185 0.99830484 0.9983321 ]\n",
      "[0.9983658  0.9983187  0.9982844  0.99827635 0.9983543  0.9962127\n",
      " 0.99762446 0.997528   0.9983039  0.9976653  0.99831605 0.9982383\n",
      " 0.99778926 0.9983541  0.99833363 0.9980533 ]\n"
     ]
    },
    {
     "name": "stderr",
     "output_type": "stream",
     "text": [
      "                                                                                <00:00,  8.17it/s]\u001b[0m"
     ]
    },
    {
     "name": "stdout",
     "output_type": "stream",
     "text": [
      "[1.         0.998204   0.9982326  0.99826825 1.         0.9974304\n",
      " 0.9981078  0.9983847  0.9981439  0.9983279  0.998166   0.99827504\n",
      " 0.9982615  0.9982657  0.9981225  0.9982268 ]\n",
      "[0.99834    1.         0.99749315]\n"
     ]
    },
    {
     "name": "stderr",
     "output_type": "stream",
     "text": [
      "\r"
     ]
    }
   ],
   "source": [
    "l=np.array([])\n",
    "acc=[]\n",
    "with torch.no_grad():\n",
    "    t1 = tqdm(testloader, desc=f\"Testing progress\", colour=\"#005500\", leave=False) \n",
    "    for x, y in t1 : \n",
    "        x = x.to(device)\n",
    "        y = y.to(device)\n",
    "        outputs = model(x)\n",
    "        outputs = nn.Sigmoid()(outputs)\n",
    "        outputs = torch.reshape(outputs,(len(y),))\n",
    "        print(outputs.cpu().data.numpy())\n",
    "        l = np.concatenate((l,outputs.cpu().data.numpy()))\n",
    "        acc+=[accuracy(outputs,y).tolist()]\n"
   ]
  },
  {
   "cell_type": "code",
   "execution_count": 6,
   "metadata": {},
   "outputs": [
    {
     "name": "stdout",
     "output_type": "stream",
     "text": [
      "Defaulting to user installation because normal site-packages is not writeable\n",
      "Requirement already satisfied: matplotlib in /usr/local/insa/anaconda/lib/python3.9/site-packages (3.5.2)\n",
      "Collecting matplotlib\n",
      "  Downloading matplotlib-3.7.0-cp39-cp39-manylinux_2_17_x86_64.manylinux2014_x86_64.whl (11.6 MB)\n",
      "\u001b[2K     \u001b[90m━━━━━━━━━━━━━━━━━━━━━━━━━━━━━━━━━━━━━━━━\u001b[0m \u001b[32m11.6/11.6 MB\u001b[0m \u001b[31m35.0 MB/s\u001b[0m eta \u001b[36m0:00:00\u001b[0m00:01\u001b[0m00:01\u001b[0m\n",
      "\u001b[?25hRequirement already satisfied: numpy>=1.20 in /home/vmouton/.local/lib/python3.9/site-packages (from matplotlib) (1.23.0)\n",
      "Requirement already satisfied: kiwisolver>=1.0.1 in /usr/local/insa/anaconda/lib/python3.9/site-packages (from matplotlib) (1.4.2)\n",
      "Requirement already satisfied: fonttools>=4.22.0 in /usr/local/insa/anaconda/lib/python3.9/site-packages (from matplotlib) (4.25.0)\n",
      "Requirement already satisfied: packaging>=20.0 in /home/vmouton/.local/lib/python3.9/site-packages (from matplotlib) (23.0)\n",
      "Requirement already satisfied: python-dateutil>=2.7 in /home/vmouton/.local/lib/python3.9/site-packages (from matplotlib) (2.8.2)\n",
      "Requirement already satisfied: pillow>=6.2.0 in /usr/local/insa/anaconda/lib/python3.9/site-packages (from matplotlib) (9.2.0)\n",
      "Requirement already satisfied: pyparsing>=2.3.1 in /usr/local/insa/anaconda/lib/python3.9/site-packages (from matplotlib) (3.0.9)\n",
      "Collecting contourpy>=1.0.1\n",
      "  Downloading contourpy-1.0.7-cp39-cp39-manylinux_2_17_x86_64.manylinux2014_x86_64.whl (299 kB)\n",
      "\u001b[2K     \u001b[90m━━━━━━━━━━━━━━━━━━━━━━━━━━━━━━━━━━━━━━\u001b[0m \u001b[32m299.7/299.7 kB\u001b[0m \u001b[31m11.4 MB/s\u001b[0m eta \u001b[36m0:00:00\u001b[0m\n",
      "\u001b[?25hCollecting importlib-resources>=3.2.0\n",
      "  Downloading importlib_resources-5.12.0-py3-none-any.whl (36 kB)\n",
      "Requirement already satisfied: cycler>=0.10 in /usr/local/insa/anaconda/lib/python3.9/site-packages (from matplotlib) (0.11.0)\n",
      "Requirement already satisfied: zipp>=3.1.0 in /home/vmouton/.local/lib/python3.9/site-packages (from importlib-resources>=3.2.0->matplotlib) (3.14.0)\n",
      "Requirement already satisfied: six>=1.5 in /home/vmouton/.local/lib/python3.9/site-packages (from python-dateutil>=2.7->matplotlib) (1.16.0)\n",
      "Installing collected packages: importlib-resources, contourpy, matplotlib\n",
      "Successfully installed contourpy-1.0.7 importlib-resources-5.12.0 matplotlib-3.7.0\n"
     ]
    }
   ],
   "source": [
    "!python3 -m pip install -U matplotlib"
   ]
  },
  {
   "cell_type": "code",
   "execution_count": 35,
   "metadata": {},
   "outputs": [],
   "source": [
    "import matplotlib.pyplot as plt\n",
    "\n",
    "def truncate(n, decimals=0):\n",
    "    multiplier = 10 ** decimals\n",
    "    return int(n * multiplier) / multiplier"
   ]
  },
  {
   "cell_type": "code",
   "execution_count": 92,
   "metadata": {},
   "outputs": [
    {
     "name": "stdout",
     "output_type": "stream",
     "text": [
      "[0.99824369 0.99820149 0.99826533 ... 0.99834001 1.         0.99749315]\n",
      "{0.998, 0.999, 0.997, 1.0, 0.988, 0.996, 0.995, 0.981, 0.901, 0.931, 0.952, 0.919, 0.986, 0.962, 0.956}\n",
      "[0.998, 0.999, 0.997, 1.0, 0.988, 0.996, 0.995, 0.981, 0.901, 0.931, 0.952, 0.919, 0.986, 0.962, 0.956] [952, 30, 49, 145, 1, 11, 6, 1, 1, 1, 1, 1, 2, 1, 1]\n"
     ]
    }
   ],
   "source": [
    "print(l)\n",
    "a=set(map(lambda x:truncate(x,3),l))\n",
    "print(a)\n",
    "c=list(map(lambda x:truncate(x,3),l))\n",
    "x,y=[],[]\n",
    "for i in a:\n",
    "    x+=[i]\n",
    "    y+=[c.count(i)]\n",
    "print(x,y)"
   ]
  },
  {
   "cell_type": "code",
   "execution_count": 94,
   "metadata": {},
   "outputs": [
    {
     "data": {
      "image/png": "[encoded data removed]",
      "text/plain": [
       "<Figure size 640x480 with 1 Axes>"
      ]
     },
     "metadata": {},
     "output_type": "display_data"
    }
   ],
   "source": [
    "res = plt.bar(x,y,width=0.001)"
   ]
  },
  {
   "cell_type": "code",
   "execution_count": 91,
   "metadata": {},
   "outputs": [
    {
     "data": {
      "image/png": "[encoded data removed]",
      "text/plain": [
       "<Figure size 640x480 with 1 Axes>"
      ]
     },
     "metadata": {},
     "output_type": "display_data"
    },
    {
     "name": "stdout",
     "output_type": "stream",
     "text": [
      "[1.0, 1.0, 1.0, 1.0, 1.0, 1.0, 1.0, 1.0, 1.0, 1.0, 1.0, 1.0, 1.0, 1.0, 1.0, 1.0, 1.0, 1.0, 1.0, 1.0, 1.0, 1.0, 1.0, 1.0, 1.0, 1.0, 1.0, 1.0, 1.0, 1.0, 1.0, 1.0, 1.0, 1.0, 1.0, 1.0, 1.0, 1.0, 1.0, 1.0, 1.0, 1.0, 1.0, 1.0, 1.0, 1.0, 1.0, 1.0, 1.0, 1.0, 1.0, 1.0, 1.0, 1.0, 1.0, 1.0, 1.0, 1.0, 1.0, 1.0, 1.0, 1.0, 1.0, 1.0, 1.0, 1.0, 1.0, 1.0, 1.0, 1.0, 1.0, 1.0, 1.0, 1.0, 1.0, 1.0]\n"
     ]
    }
   ],
   "source": [
    "fig = plt.figure()\n",
    "ax = fig.add_subplot()\n",
    "ax.bar(x,y,width=0.01)\n",
    "ax.set_xticks(range(len(x)),sorted(x))\n",
    "plt.show()\n",
    "print(acc)"
   ]
  },
  {
   "cell_type": "code",
   "execution_count": null,
   "metadata": {},
   "outputs": [],
   "source": [
    "from torchmetrics import Accuracy"
   ]
  },
  {
   "cell_type": "code",
   "execution_count": 85,
   "metadata": {},
   "outputs": [
    {
     "name": "stdout",
     "output_type": "stream",
     "text": [
      "[1.0, 1.0, 1.0, 1.0, 1.0, 1.0, 1.0, 1.0, 1.0, 1.0, 1.0, 1.0, 1.0, 1.0, 1.0, 1.0, 1.0, 1.0, 1.0, 1.0, 1.0, 1.0, 1.0, 1.0, 1.0, 1.0, 1.0, 1.0, 1.0, 1.0, 1.0, 1.0, 1.0, 1.0, 1.0, 1.0, 1.0, 1.0, 1.0, 1.0, 1.0, 1.0, 1.0, 1.0, 1.0, 1.0, 1.0, 1.0, 1.0, 1.0, 1.0, 1.0, 1.0, 1.0, 1.0, 1.0, 1.0, 1.0, 1.0, 1.0, 1.0, 1.0, 1.0, 1.0, 1.0, 1.0, 1.0, 1.0, 1.0, 1.0, 1.0, 1.0, 1.0, 1.0, 1.0, 1.0]\n"
     ]
    }
   ],
   "source": [
    "print(acc)"
   ]
  }
 ],
 "metadata": {
  "kernelspec": {
   "display_name": "Python 3 (ipykernel)",
   "language": "python",
   "name": "python3"
  },
  "language_info": {
   "codemirror_mode": {
    "name": "ipython",
    "version": 3
   },
   "file_extension": ".py",
   "mimetype": "text/x-python",
   "name": "python",
   "nbconvert_exporter": "python",
   "pygments_lexer": "ipython3",
   "version": "3.9.12"
  },
  "vscode": {
   "interpreter": {
    "hash": "0650c59a78a128c748f8aadfab5692cc08be5aacb695e9a8f2efcdc6dbedda40"
   }
  }
 },
 "nbformat": 4,
 "nbformat_minor": 2
}
