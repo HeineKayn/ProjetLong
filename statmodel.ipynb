{
 "cells": [
  {
   "cell_type": "code",
   "execution_count": 1,
   "metadata": {},
   "outputs": [
    {
     "name": "stdout",
     "output_type": "stream",
     "text": [
      "Defaulting to user installation because normal site-packages is not writeable\n",
      "Requirement already satisfied: matplotlib in /usr/local/insa/anaconda/lib/python3.9/site-packages (from -r requirements.txt (line 1)) (3.5.2)\n",
      "Requirement already satisfied: numpy in /home/vmouton/.local/lib/python3.9/site-packages (from -r requirements.txt (line 2)) (1.23.0)\n",
      "Requirement already satisfied: Pillow in /usr/local/insa/anaconda/lib/python3.9/site-packages (from -r requirements.txt (line 3)) (9.2.0)\n",
      "Requirement already satisfied: tqdm in /usr/local/insa/anaconda/lib/python3.9/site-packages (from -r requirements.txt (line 4)) (4.64.0)\n",
      "Collecting py7zr\n",
      "  Downloading py7zr-0.20.4-py3-none-any.whl (66 kB)\n",
      "\u001b[2K     \u001b[90m━━━━━━━━━━━━━━━━━━━━━━━━━━━━━━━━━━━━━━━\u001b[0m \u001b[32m66.3/66.3 kB\u001b[0m \u001b[31m639.3 kB/s\u001b[0m eta \u001b[36m0:00:00\u001b[0m \u001b[36m0:00:01\u001b[0m\n",
      "\u001b[?25hCollecting torchvision\n",
      "  Downloading torchvision-0.14.1-cp39-cp39-manylinux1_x86_64.whl (24.2 MB)\n",
      "\u001b[2K     \u001b[90m━━━━━━━━━━━━━━━━━━━━━━━━━━━━━━━━━━━━━━━━\u001b[0m \u001b[32m24.2/24.2 MB\u001b[0m \u001b[31m15.1 MB/s\u001b[0m eta \u001b[36m0:00:00\u001b[0m00:01\u001b[0m00:01\u001b[0m\n",
      "\u001b[?25hCollecting python-dotenv\n",
      "  Downloading python_dotenv-0.21.1-py3-none-any.whl (19 kB)\n",
      "Collecting torchmetrics\n",
      "  Downloading torchmetrics-0.11.1-py3-none-any.whl (517 kB)\n",
      "\u001b[2K     \u001b[90m━━━━━━━━━━━━━━━━━━━━━━━━━━━━━━━━━━━━━━━\u001b[0m \u001b[32m517.2/517.2 kB\u001b[0m \u001b[31m7.9 MB/s\u001b[0m eta \u001b[36m0:00:00\u001b[0m00:01\u001b[0m\n",
      "\u001b[?25hRequirement already satisfied: pefile in /home/vmouton/.local/lib/python3.9/site-packages (from -r requirements.txt (line 9)) (2023.2.7)\n",
      "Requirement already satisfied: capstone in /usr/local/insa/anaconda/lib/python3.9/site-packages (from -r requirements.txt (line 10)) (4.0.0)\n",
      "Requirement already satisfied: tensorboard in /usr/local/insa/anaconda/lib/python3.9/site-packages (from -r requirements.txt (line 11)) (2.10.0)\n",
      "Requirement already satisfied: fonttools>=4.22.0 in /usr/local/insa/anaconda/lib/python3.9/site-packages (from matplotlib->-r requirements.txt (line 1)) (4.25.0)\n",
      "Requirement already satisfied: kiwisolver>=1.0.1 in /usr/local/insa/anaconda/lib/python3.9/site-packages (from matplotlib->-r requirements.txt (line 1)) (1.4.2)\n",
      "Requirement already satisfied: python-dateutil>=2.7 in /home/vmouton/.local/lib/python3.9/site-packages (from matplotlib->-r requirements.txt (line 1)) (2.8.2)\n",
      "Requirement already satisfied: cycler>=0.10 in /usr/local/insa/anaconda/lib/python3.9/site-packages (from matplotlib->-r requirements.txt (line 1)) (0.11.0)\n",
      "Requirement already satisfied: packaging>=20.0 in /home/vmouton/.local/lib/python3.9/site-packages (from matplotlib->-r requirements.txt (line 1)) (23.0)\n",
      "Requirement already satisfied: pyparsing>=2.2.1 in /usr/local/insa/anaconda/lib/python3.9/site-packages (from matplotlib->-r requirements.txt (line 1)) (3.0.9)\n",
      "Requirement already satisfied: psutil in /home/vmouton/.local/lib/python3.9/site-packages (from py7zr->-r requirements.txt (line 5)) (5.9.4)\n",
      "Collecting pybcj>=0.6.0\n",
      "  Downloading pybcj-1.0.1-cp39-cp39-manylinux_2_17_x86_64.manylinux2014_x86_64.whl (49 kB)\n",
      "\u001b[2K     \u001b[90m━━━━━━━━━━━━━━━━━━━━━━━━━━━━━━━━━━━━━━━\u001b[0m \u001b[32m49.6/49.6 kB\u001b[0m \u001b[31m972.9 kB/s\u001b[0m eta \u001b[36m0:00:00\u001b[0ma \u001b[36m0:00:01\u001b[0m\n",
      "\u001b[?25hCollecting texttable\n",
      "  Downloading texttable-1.6.7-py2.py3-none-any.whl (10 kB)\n",
      "Collecting inflate64>=0.3.1\n",
      "  Downloading inflate64-0.3.1-cp39-cp39-manylinux_2_17_x86_64.manylinux2014_x86_64.whl (92 kB)\n",
      "\u001b[2K     \u001b[90m━━━━━━━━━━━━━━━━━━━━━━━━━━━━━━━━━━━━━━━━\u001b[0m \u001b[32m93.0/93.0 kB\u001b[0m \u001b[31m4.6 MB/s\u001b[0m eta \u001b[36m0:00:00\u001b[0m\n",
      "\u001b[?25hCollecting pyppmd<1.1.0,>=0.18.1\n",
      "  Downloading pyppmd-1.0.0-cp39-cp39-manylinux_2_17_x86_64.manylinux2014_x86_64.whl (138 kB)\n",
      "\u001b[2K     \u001b[90m━━━━━━━━━━━━━━━━━━━━━━━━━━━━━━━━━━━━━━━\u001b[0m \u001b[32m138.7/138.7 kB\u001b[0m \u001b[31m3.3 MB/s\u001b[0m eta \u001b[36m0:00:00\u001b[0ma \u001b[36m0:00:01\u001b[0m\n",
      "\u001b[?25hCollecting pycryptodomex>=3.6.6\n",
      "  Downloading pycryptodomex-3.17-cp35-abi3-manylinux_2_17_x86_64.manylinux2014_x86_64.whl (2.1 MB)\n",
      "\u001b[2K     \u001b[90m━━━━━━━━━━━━━━━━━━━━━━━━━━━━━━━━━━━━━━━━\u001b[0m \u001b[32m2.1/2.1 MB\u001b[0m \u001b[31m17.2 MB/s\u001b[0m eta \u001b[36m0:00:00\u001b[0m00:01\u001b[0m00:01\u001b[0m\n",
      "\u001b[?25hCollecting brotli>=1.0.9\n",
      "  Downloading Brotli-1.0.9-cp39-cp39-manylinux1_x86_64.whl (357 kB)\n",
      "\u001b[2K     \u001b[90m━━━━━━━━━━━━━━━━━━━━━━━━━━━━━━━━━━━━━━━\u001b[0m \u001b[32m357.2/357.2 kB\u001b[0m \u001b[31m7.9 MB/s\u001b[0m eta \u001b[36m0:00:00\u001b[0m00:01\u001b[0m\n",
      "\u001b[?25hCollecting pyzstd>=0.14.4\n",
      "  Downloading pyzstd-0.15.3-cp39-cp39-manylinux_2_17_x86_64.manylinux2014_x86_64.whl (379 kB)\n",
      "\u001b[2K     \u001b[90m━━━━━━━━━━━━━━━━━━━━━━━━━━━━━━━━━━━━━━\u001b[0m \u001b[32m379.0/379.0 kB\u001b[0m \u001b[31m11.8 MB/s\u001b[0m eta \u001b[36m0:00:00\u001b[0m\n",
      "\u001b[?25hCollecting multivolumefile>=0.2.3\n",
      "  Downloading multivolumefile-0.2.3-py3-none-any.whl (17 kB)\n",
      "Requirement already satisfied: requests in /usr/local/insa/anaconda/lib/python3.9/site-packages (from torchvision->-r requirements.txt (line 6)) (2.28.1)\n",
      "Requirement already satisfied: typing-extensions in /usr/local/insa/anaconda/lib/python3.9/site-packages (from torchvision->-r requirements.txt (line 6)) (4.3.0)\n",
      "Collecting torch==1.13.1\n",
      "  Downloading torch-1.13.1-cp39-cp39-manylinux1_x86_64.whl (887.4 MB)\n",
      "\u001b[2K     \u001b[90m━━━━━━━━━━━━━━━━━━━━━━━━━━━━━━━━━━━━━━━\u001b[0m \u001b[32m887.4/887.4 MB\u001b[0m \u001b[31m1.0 MB/s\u001b[0m eta \u001b[36m0:00:00\u001b[0m00:01\u001b[0m00:01\u001b[0m\n",
      "\u001b[?25hCollecting nvidia-cudnn-cu11==8.5.0.96\n",
      "  Downloading nvidia_cudnn_cu11-8.5.0.96-2-py3-none-manylinux1_x86_64.whl (557.1 MB)\n",
      "\u001b[2K     \u001b[90m━━━━━━━━━━━━━━━━━━━━━━━━━━━━━━━━━━━━━━━\u001b[0m \u001b[32m557.1/557.1 MB\u001b[0m \u001b[31m1.7 MB/s\u001b[0m eta \u001b[36m0:00:00\u001b[0m00:01\u001b[0m00:01\u001b[0m\n",
      "\u001b[?25hCollecting nvidia-cuda-runtime-cu11==11.7.99\n",
      "  Downloading nvidia_cuda_runtime_cu11-11.7.99-py3-none-manylinux1_x86_64.whl (849 kB)\n",
      "\u001b[2K     \u001b[90m━━━━━━━━━━━━━━━━━━━━━━━━━━━━━━━━━━━━━━\u001b[0m \u001b[32m849.3/849.3 kB\u001b[0m \u001b[31m12.3 MB/s\u001b[0m eta \u001b[36m0:00:00\u001b[0m00:01\u001b[0m\n",
      "\u001b[?25hCollecting nvidia-cuda-nvrtc-cu11==11.7.99\n",
      "  Downloading nvidia_cuda_nvrtc_cu11-11.7.99-2-py3-none-manylinux1_x86_64.whl (21.0 MB)\n",
      "\u001b[2K     \u001b[90m━━━━━━━━━━━━━━━━━━━━━━━━━━━━━━━━━━━━━━━━\u001b[0m \u001b[32m21.0/21.0 MB\u001b[0m \u001b[31m19.3 MB/s\u001b[0m eta \u001b[36m0:00:00\u001b[0m00:01\u001b[0m00:01\u001b[0m\n",
      "\u001b[?25hCollecting nvidia-cublas-cu11==11.10.3.66\n",
      "  Downloading nvidia_cublas_cu11-11.10.3.66-py3-none-manylinux1_x86_64.whl (317.1 MB)\n",
      "\u001b[2K     \u001b[90m━━━━━━━━━━━━━━━━━━━━━━━━━━━━━━━━━━━━━━━\u001b[0m \u001b[32m317.1/317.1 MB\u001b[0m \u001b[31m2.7 MB/s\u001b[0m eta \u001b[36m0:00:00\u001b[0m00:01\u001b[0m00:01\u001b[0m\n",
      "\u001b[?25hRequirement already satisfied: wheel in /usr/local/insa/anaconda/lib/python3.9/site-packages (from nvidia-cublas-cu11==11.10.3.66->torch==1.13.1->torchvision->-r requirements.txt (line 6)) (0.37.1)\n",
      "Requirement already satisfied: setuptools in /usr/local/insa/anaconda/lib/python3.9/site-packages (from nvidia-cublas-cu11==11.10.3.66->torch==1.13.1->torchvision->-r requirements.txt (line 6)) (63.4.1)\n",
      "Requirement already satisfied: google-auth<3,>=1.6.3 in /usr/local/insa/anaconda/lib/python3.9/site-packages (from tensorboard->-r requirements.txt (line 11)) (2.6.0)\n",
      "Requirement already satisfied: werkzeug>=1.0.1 in /usr/local/insa/anaconda/lib/python3.9/site-packages (from tensorboard->-r requirements.txt (line 11)) (2.0.3)\n",
      "Requirement already satisfied: absl-py>=0.4 in /usr/local/insa/anaconda/lib/python3.9/site-packages (from tensorboard->-r requirements.txt (line 11)) (1.2.0)\n",
      "Requirement already satisfied: tensorboard-plugin-wit>=1.6.0 in /usr/local/insa/anaconda/lib/python3.9/site-packages (from tensorboard->-r requirements.txt (line 11)) (1.8.1)\n",
      "Requirement already satisfied: protobuf<3.20,>=3.9.2 in /usr/local/insa/anaconda/lib/python3.9/site-packages (from tensorboard->-r requirements.txt (line 11)) (3.16.0)\n",
      "Requirement already satisfied: grpcio>=1.24.3 in /usr/local/insa/anaconda/lib/python3.9/site-packages (from tensorboard->-r requirements.txt (line 11)) (1.42.0)\n",
      "Requirement already satisfied: google-auth-oauthlib<0.5,>=0.4.1 in /usr/local/insa/anaconda/lib/python3.9/site-packages (from tensorboard->-r requirements.txt (line 11)) (0.4.6)\n",
      "Requirement already satisfied: markdown>=2.6.8 in /usr/local/insa/anaconda/lib/python3.9/site-packages (from tensorboard->-r requirements.txt (line 11)) (3.3.4)\n",
      "Requirement already satisfied: tensorboard-data-server<0.7.0,>=0.6.0 in /usr/local/insa/anaconda/lib/python3.9/site-packages (from tensorboard->-r requirements.txt (line 11)) (0.6.0)\n",
      "Requirement already satisfied: six>=1.9.0 in /home/vmouton/.local/lib/python3.9/site-packages (from google-auth<3,>=1.6.3->tensorboard->-r requirements.txt (line 11)) (1.16.0)\n",
      "Requirement already satisfied: rsa<5,>=3.1.4 in /usr/local/insa/anaconda/lib/python3.9/site-packages (from google-auth<3,>=1.6.3->tensorboard->-r requirements.txt (line 11)) (4.7.2)\n",
      "Requirement already satisfied: pyasn1-modules>=0.2.1 in /usr/local/insa/anaconda/lib/python3.9/site-packages (from google-auth<3,>=1.6.3->tensorboard->-r requirements.txt (line 11)) (0.2.8)\n",
      "Requirement already satisfied: cachetools<6.0,>=2.0.0 in /usr/local/insa/anaconda/lib/python3.9/site-packages (from google-auth<3,>=1.6.3->tensorboard->-r requirements.txt (line 11)) (4.2.2)\n",
      "Requirement already satisfied: requests-oauthlib>=0.7.0 in /usr/local/insa/anaconda/lib/python3.9/site-packages (from google-auth-oauthlib<0.5,>=0.4.1->tensorboard->-r requirements.txt (line 11)) (1.3.1)\n",
      "Requirement already satisfied: urllib3<1.27,>=1.21.1 in /usr/local/insa/anaconda/lib/python3.9/site-packages (from requests->torchvision->-r requirements.txt (line 6)) (1.26.11)\n",
      "Requirement already satisfied: charset-normalizer<3,>=2 in /usr/local/insa/anaconda/lib/python3.9/site-packages (from requests->torchvision->-r requirements.txt (line 6)) (2.0.4)\n",
      "Requirement already satisfied: certifi>=2017.4.17 in /usr/local/insa/anaconda/lib/python3.9/site-packages (from requests->torchvision->-r requirements.txt (line 6)) (2022.9.24)\n",
      "Requirement already satisfied: idna<4,>=2.5 in /usr/local/insa/anaconda/lib/python3.9/site-packages (from requests->torchvision->-r requirements.txt (line 6)) (3.3)\n",
      "Requirement already satisfied: pyasn1<0.5.0,>=0.4.6 in /usr/local/insa/anaconda/lib/python3.9/site-packages (from pyasn1-modules>=0.2.1->google-auth<3,>=1.6.3->tensorboard->-r requirements.txt (line 11)) (0.4.8)\n",
      "Requirement already satisfied: oauthlib>=3.0.0 in /usr/local/insa/anaconda/lib/python3.9/site-packages (from requests-oauthlib>=0.7.0->google-auth-oauthlib<0.5,>=0.4.1->tensorboard->-r requirements.txt (line 11)) (3.2.0)\n",
      "Installing collected packages: texttable, brotli, pyzstd, python-dotenv, pyppmd, pycryptodomex, pybcj, nvidia-cuda-runtime-cu11, nvidia-cuda-nvrtc-cu11, nvidia-cublas-cu11, multivolumefile, inflate64, py7zr, nvidia-cudnn-cu11, torch, torchvision, torchmetrics\n",
      "\u001b[33m  WARNING: The script dotenv is installed in '/home/vmouton/.local/bin' which is not on PATH.\n",
      "  Consider adding this directory to PATH or, if you prefer to suppress this warning, use --no-warn-script-location.\u001b[0m\u001b[33m\n",
      "\u001b[0m\u001b[33m  WARNING: The script py7zr is installed in '/home/vmouton/.local/bin' which is not on PATH.\n",
      "  Consider adding this directory to PATH or, if you prefer to suppress this warning, use --no-warn-script-location.\u001b[0m\u001b[33m\n",
      "\u001b[0m\u001b[33m  WARNING: The scripts convert-caffe2-to-onnx, convert-onnx-to-caffe2 and torchrun are installed in '/home/vmouton/.local/bin' which is not on PATH.\n",
      "  Consider adding this directory to PATH or, if you prefer to suppress this warning, use --no-warn-script-location.\u001b[0m\u001b[33m\n",
      "\u001b[0mSuccessfully installed brotli-1.0.9 inflate64-0.3.1 multivolumefile-0.2.3 nvidia-cublas-cu11-11.10.3.66 nvidia-cuda-nvrtc-cu11-11.7.99 nvidia-cuda-runtime-cu11-11.7.99 nvidia-cudnn-cu11-8.5.0.96 py7zr-0.20.4 pybcj-1.0.1 pycryptodomex-3.17 pyppmd-1.0.0 python-dotenv-0.21.1 pyzstd-0.15.3 texttable-1.6.7 torch-1.13.1 torchmetrics-0.11.1 torchvision-0.14.1\n"
     ]
    }
   ],
   "source": [
    "!pip3 install -r requirements.txt"
   ]
  },
  {
   "cell_type": "code",
   "execution_count": 3,
   "metadata": {},
   "outputs": [],
   "source": [
    "import projetLib as proj\n",
    "import torch\n",
    "from tqdm import tqdm\n",
    "import sys\n",
    "from statistics import mean\n",
    "from torch import nn\n",
    "from torchmetrics import ConfusionMatrix\n",
    "import os\n",
    "from torch.utils.data import DataLoader\n"
   ]
  },
  {
   "cell_type": "code",
   "execution_count": 6,
   "metadata": {},
   "outputs": [
    {
     "name": "stdout",
     "output_type": "stream",
     "text": [
      "./data/images//Virusshare00457/\n",
      "downloading  https://samples.vx-underground.org/samples/Blocks/Virusshare%20Collection/Virusshare.00457.7z\n",
      "Downloading zip: 1202615KB [08:51, 2261.52KB/s]                             \n",
      "extracting  ./VirusTemp.7z\n"
     ]
    },
    {
     "ename": "OSError",
     "evalue": "[Errno 122] Disk quota exceeded",
     "output_type": "error",
     "traceback": [
      "\u001b[0;31m---------------------------------------------------------------------------\u001b[0m",
      "\u001b[0;31mOSError\u001b[0m                                   Traceback (most recent call last)",
      "Cell \u001b[0;32mIn[6], line 1\u001b[0m\n\u001b[0;32m----> 1\u001b[0m proj\u001b[39m.\u001b[39;49mdownloadAll(\u001b[39m1\u001b[39;49m)\n",
      "File \u001b[0;32m~/Bureau/TLS-SEC/ProjetLong/projetLib/download.py:76\u001b[0m, in \u001b[0;36mdownloadAll\u001b[0;34m(id, istart)\u001b[0m\n\u001b[1;32m     73\u001b[0m url \u001b[39m=\u001b[39m \u001b[39mf\u001b[39m\u001b[39m\"\u001b[39m\u001b[39mhttps://samples.vx-underground.org/samples/Blocks/Virusshare%20Collection/Virusshare.\u001b[39m\u001b[39m{\u001b[39;00mi\u001b[39m}\u001b[39;00m\u001b[39m.7z\u001b[39m\u001b[39m\"\u001b[39m\n\u001b[1;32m     75\u001b[0m download_zip(url)\n\u001b[0;32m---> 76\u001b[0m unzipped \u001b[39m=\u001b[39m unzip(url)\n\u001b[1;32m     77\u001b[0m extract_features(unzipped,dest)\n",
      "File \u001b[0;32m~/Bureau/TLS-SEC/ProjetLong/projetLib/download.py:38\u001b[0m, in \u001b[0;36munzip\u001b[0;34m(url)\u001b[0m\n\u001b[1;32m     36\u001b[0m \u001b[39mprint\u001b[39m(\u001b[39m\"\u001b[39m\u001b[39mextracting \u001b[39m\u001b[39m\"\u001b[39m,zipname)\n\u001b[1;32m     37\u001b[0m \u001b[39mwith\u001b[39;00m py7zr\u001b[39m.\u001b[39mSevenZipFile(zipname, mode\u001b[39m=\u001b[39m\u001b[39m'\u001b[39m\u001b[39mr\u001b[39m\u001b[39m'\u001b[39m, password\u001b[39m=\u001b[39mpassword) \u001b[39mas\u001b[39;00m z: \n\u001b[0;32m---> 38\u001b[0m     z\u001b[39m.\u001b[39;49mextractall()  \n\u001b[1;32m     39\u001b[0m os\u001b[39m.\u001b[39mremove(zipname)\n\u001b[1;32m     40\u001b[0m extracted \u001b[39m=\u001b[39m url\u001b[39m.\u001b[39msplit(\u001b[39m\"\u001b[39m\u001b[39m/\u001b[39m\u001b[39m\"\u001b[39m)[\u001b[39m-\u001b[39m\u001b[39m1\u001b[39m]\n",
      "File \u001b[0;32m~/.local/lib/python3.9/site-packages/py7zr/py7zr.py:957\u001b[0m, in \u001b[0;36mSevenZipFile.extractall\u001b[0;34m(self, path, callback)\u001b[0m\n\u001b[1;32m    951\u001b[0m \u001b[39mdef\u001b[39;00m \u001b[39mextractall\u001b[39m(\u001b[39mself\u001b[39m, path: Optional[Any] \u001b[39m=\u001b[39m \u001b[39mNone\u001b[39;00m, callback: Optional[ExtractCallback] \u001b[39m=\u001b[39m \u001b[39mNone\u001b[39;00m) \u001b[39m-\u001b[39m\u001b[39m>\u001b[39m \u001b[39mNone\u001b[39;00m:\n\u001b[1;32m    952\u001b[0m \u001b[39m    \u001b[39m\u001b[39m\"\"\"Extract all members from the archive to the current working\u001b[39;00m\n\u001b[1;32m    953\u001b[0m \u001b[39m    directory and set owner, modification time and permissions on\u001b[39;00m\n\u001b[1;32m    954\u001b[0m \u001b[39m    directories afterwards. ``path`` specifies a different directory\u001b[39;00m\n\u001b[1;32m    955\u001b[0m \u001b[39m    to extract to.\u001b[39;00m\n\u001b[1;32m    956\u001b[0m \u001b[39m    \"\"\"\u001b[39;00m\n\u001b[0;32m--> 957\u001b[0m     \u001b[39mself\u001b[39;49m\u001b[39m.\u001b[39;49m_extract(path\u001b[39m=\u001b[39;49mpath, return_dict\u001b[39m=\u001b[39;49m\u001b[39mFalse\u001b[39;49;00m, callback\u001b[39m=\u001b[39;49mcallback)\n",
      "File \u001b[0;32m~/.local/lib/python3.9/site-packages/py7zr/py7zr.py:618\u001b[0m, in \u001b[0;36mSevenZipFile._extract\u001b[0;34m(self, path, targets, return_dict, callback)\u001b[0m\n\u001b[1;32m    611\u001b[0m     \u001b[39mself\u001b[39m\u001b[39m.\u001b[39mworker\u001b[39m.\u001b[39mextract(\n\u001b[1;32m    612\u001b[0m         \u001b[39mself\u001b[39m\u001b[39m.\u001b[39mfp,\n\u001b[1;32m    613\u001b[0m         path,\n\u001b[1;32m    614\u001b[0m         parallel\u001b[39m=\u001b[39m(\u001b[39mnot\u001b[39;00m \u001b[39mself\u001b[39m\u001b[39m.\u001b[39mpassword_protected \u001b[39mand\u001b[39;00m \u001b[39mnot\u001b[39;00m \u001b[39mself\u001b[39m\u001b[39m.\u001b[39m_filePassed),\n\u001b[1;32m    615\u001b[0m         q\u001b[39m=\u001b[39m\u001b[39mself\u001b[39m\u001b[39m.\u001b[39mq,\n\u001b[1;32m    616\u001b[0m     )\n\u001b[1;32m    617\u001b[0m \u001b[39melse\u001b[39;00m:\n\u001b[0;32m--> 618\u001b[0m     \u001b[39mself\u001b[39;49m\u001b[39m.\u001b[39;49mworker\u001b[39m.\u001b[39;49mextract(\n\u001b[1;32m    619\u001b[0m         \u001b[39mself\u001b[39;49m\u001b[39m.\u001b[39;49mfp,\n\u001b[1;32m    620\u001b[0m         path,\n\u001b[1;32m    621\u001b[0m         parallel\u001b[39m=\u001b[39;49m(\u001b[39mnot\u001b[39;49;00m \u001b[39mself\u001b[39;49m\u001b[39m.\u001b[39;49mpassword_protected \u001b[39mand\u001b[39;49;00m \u001b[39mnot\u001b[39;49;00m \u001b[39mself\u001b[39;49m\u001b[39m.\u001b[39;49m_filePassed),\n\u001b[1;32m    622\u001b[0m     )\n\u001b[1;32m    624\u001b[0m \u001b[39mself\u001b[39m\u001b[39m.\u001b[39mq\u001b[39m.\u001b[39mput((\u001b[39m\"\u001b[39m\u001b[39mpost\u001b[39m\u001b[39m\"\u001b[39m, \u001b[39mNone\u001b[39;00m, \u001b[39mNone\u001b[39;00m))\n\u001b[1;32m    625\u001b[0m \u001b[39m# early return when dict specified\u001b[39;00m\n",
      "File \u001b[0;32m~/.local/lib/python3.9/site-packages/py7zr/py7zr.py:1217\u001b[0m, in \u001b[0;36mWorker.extract\u001b[0;34m(self, fp, path, parallel, skip_notarget, q)\u001b[0m\n\u001b[1;32m   1215\u001b[0m             \u001b[39mif\u001b[39;00m \u001b[39mnot\u001b[39;00m \u001b[39many\u001b[39m([\u001b[39mself\u001b[39m\u001b[39m.\u001b[39mtarget_filepath\u001b[39m.\u001b[39mget(f\u001b[39m.\u001b[39mid, \u001b[39mNone\u001b[39;00m) \u001b[39mfor\u001b[39;00m f \u001b[39min\u001b[39;00m folders[i]\u001b[39m.\u001b[39mfiles]):\n\u001b[1;32m   1216\u001b[0m                 \u001b[39mcontinue\u001b[39;00m\n\u001b[0;32m-> 1217\u001b[0m         \u001b[39mself\u001b[39;49m\u001b[39m.\u001b[39;49mextract_single(\n\u001b[1;32m   1218\u001b[0m             fp,\n\u001b[1;32m   1219\u001b[0m             folders[i]\u001b[39m.\u001b[39;49mfiles,\n\u001b[1;32m   1220\u001b[0m             path,\n\u001b[1;32m   1221\u001b[0m             \u001b[39mself\u001b[39;49m\u001b[39m.\u001b[39;49msrc_start \u001b[39m+\u001b[39;49m positions[i],\n\u001b[1;32m   1222\u001b[0m             \u001b[39mself\u001b[39;49m\u001b[39m.\u001b[39;49msrc_start \u001b[39m+\u001b[39;49m positions[i \u001b[39m+\u001b[39;49m \u001b[39m1\u001b[39;49m],\n\u001b[1;32m   1223\u001b[0m             q,\n\u001b[1;32m   1224\u001b[0m             skip_notarget\u001b[39m=\u001b[39;49mskip_notarget,\n\u001b[1;32m   1225\u001b[0m         )\n\u001b[1;32m   1226\u001b[0m \u001b[39melse\u001b[39;00m:\n\u001b[1;32m   1227\u001b[0m     \u001b[39mif\u001b[39;00m \u001b[39mgetattr\u001b[39m(fp, \u001b[39m\"\u001b[39m\u001b[39mname\u001b[39m\u001b[39m\"\u001b[39m, \u001b[39mNone\u001b[39;00m) \u001b[39mis\u001b[39;00m \u001b[39mNone\u001b[39;00m:\n",
      "File \u001b[0;32m~/.local/lib/python3.9/site-packages/py7zr/py7zr.py:1286\u001b[0m, in \u001b[0;36mWorker.extract_single\u001b[0;34m(self, fp, files, path, src_start, src_end, q, exc_q, skip_notarget)\u001b[0m\n\u001b[1;32m   1284\u001b[0m \u001b[39mexcept\u001b[39;00m \u001b[39mException\u001b[39;00m \u001b[39mas\u001b[39;00m e:\n\u001b[1;32m   1285\u001b[0m     \u001b[39mif\u001b[39;00m exc_q \u001b[39mis\u001b[39;00m \u001b[39mNone\u001b[39;00m:\n\u001b[0;32m-> 1286\u001b[0m         \u001b[39mraise\u001b[39;00m e\n\u001b[1;32m   1287\u001b[0m     \u001b[39melse\u001b[39;00m:\n\u001b[1;32m   1288\u001b[0m         exc_tuple \u001b[39m=\u001b[39m sys\u001b[39m.\u001b[39mexc_info()\n",
      "File \u001b[0;32m~/.local/lib/python3.9/site-packages/py7zr/py7zr.py:1283\u001b[0m, in \u001b[0;36mWorker.extract_single\u001b[0;34m(self, fp, files, path, src_start, src_end, q, exc_q, skip_notarget)\u001b[0m\n\u001b[1;32m   1281\u001b[0m         fp \u001b[39m=\u001b[39m \u001b[39mopen\u001b[39m(fp, \u001b[39m\"\u001b[39m\u001b[39mrb\u001b[39m\u001b[39m\"\u001b[39m)\n\u001b[1;32m   1282\u001b[0m     fp\u001b[39m.\u001b[39mseek(src_start)\n\u001b[0;32m-> 1283\u001b[0m     \u001b[39mself\u001b[39;49m\u001b[39m.\u001b[39;49m_extract_single(fp, files, path, src_end, q, skip_notarget)\n\u001b[1;32m   1284\u001b[0m \u001b[39mexcept\u001b[39;00m \u001b[39mException\u001b[39;00m \u001b[39mas\u001b[39;00m e:\n\u001b[1;32m   1285\u001b[0m     \u001b[39mif\u001b[39;00m exc_q \u001b[39mis\u001b[39;00m \u001b[39mNone\u001b[39;00m:\n",
      "File \u001b[0;32m~/.local/lib/python3.9/site-packages/py7zr/py7zr.py:1355\u001b[0m, in \u001b[0;36mWorker._extract_single\u001b[0;34m(self, fp, files, path, src_end, q, skip_notarget)\u001b[0m\n\u001b[1;32m   1353\u001b[0m             obfp\u001b[39m.\u001b[39mseek(\u001b[39m0\u001b[39m)\n\u001b[1;32m   1354\u001b[0m             \u001b[39mif\u001b[39;00m f\u001b[39m.\u001b[39mcrc32 \u001b[39mis\u001b[39;00m \u001b[39mnot\u001b[39;00m \u001b[39mNone\u001b[39;00m \u001b[39mand\u001b[39;00m crc32 \u001b[39m!=\u001b[39m f\u001b[39m.\u001b[39mcrc32:\n\u001b[0;32m-> 1355\u001b[0m                 \u001b[39mraise\u001b[39;00m CrcError(crc32, f\u001b[39m.\u001b[39mcrc32, f\u001b[39m.\u001b[39mfilename)\n\u001b[1;32m   1356\u001b[0m \u001b[39melse\u001b[39;00m:\n\u001b[1;32m   1357\u001b[0m     \u001b[39m# just create empty file\u001b[39;00m\n\u001b[1;32m   1358\u001b[0m     \u001b[39mif\u001b[39;00m \u001b[39mnot\u001b[39;00m \u001b[39misinstance\u001b[39m(fileish, MemIO):\n",
      "\u001b[0;31mOSError\u001b[0m: [Errno 122] Disk quota exceeded"
     ]
    }
   ],
   "source": [
    "proj.downloadAll(1)"
   ]
  },
  {
   "cell_type": "code",
   "execution_count": 4,
   "metadata": {},
   "outputs": [
    {
     "ename": "FileNotFoundError",
     "evalue": "[Errno 2] No such file or directory: './data/images/'",
     "output_type": "error",
     "traceback": [
      "\u001b[0;31m---------------------------------------------------------------------------\u001b[0m",
      "\u001b[0;31mFileNotFoundError\u001b[0m                         Traceback (most recent call last)",
      "Cell \u001b[0;32mIn[4], line 7\u001b[0m\n\u001b[1;32m      3\u001b[0m limit \u001b[39m=\u001b[39m \u001b[39m10000\u001b[39m\n\u001b[1;32m      5\u001b[0m epochs \u001b[39m=\u001b[39m \u001b[39m5\u001b[39m\n\u001b[0;32m----> 7\u001b[0m trainDataset, testDataset \u001b[39m=\u001b[39m proj\u001b[39m.\u001b[39;49mimage\u001b[39m.\u001b[39;49mgetTrainTest(\n\u001b[1;32m      8\u001b[0m     resize\u001b[39m=\u001b[39;49m(\u001b[39m224\u001b[39;49m,\u001b[39m224\u001b[39;49m), batch_size\u001b[39m=\u001b[39;49mbatch_size, seed\u001b[39m=\u001b[39;49m\u001b[39m1\u001b[39;49m, limit\u001b[39m=\u001b[39;49mlimit,\n\u001b[1;32m      9\u001b[0m     test_proportion\u001b[39m=\u001b[39;49m\u001b[39m0.2\u001b[39;49m, extensions\u001b[39m=\u001b[39;49m[\u001b[39m\"\u001b[39;49m\u001b[39mpe\u001b[39;49m\u001b[39m\"\u001b[39;49m])\n\u001b[1;32m     11\u001b[0m model \u001b[39m=\u001b[39m  proj\u001b[39m.\u001b[39mmodel\u001b[39m.\u001b[39mgetCNNresnet()\n\u001b[1;32m     12\u001b[0m testloader \u001b[39m=\u001b[39m DataLoader(testDataset, num_workers\u001b[39m=\u001b[39m\u001b[39m2\u001b[39m, batch_size\u001b[39m=\u001b[39mbatch_size, shuffle\u001b[39m=\u001b[39m\u001b[39mTrue\u001b[39;00m)\n",
      "File \u001b[0;32m~/Bureau/TLS-SEC/ProjetLong/projetLib/image.py:59\u001b[0m, in \u001b[0;36mgetTrainTest\u001b[0;34m(resize, batch_size, seed, test_proportion, limit, extensions)\u001b[0m\n\u001b[1;32m     58\u001b[0m \u001b[39mdef\u001b[39;00m \u001b[39mgetTrainTest\u001b[39m(resize\u001b[39m=\u001b[39m(\u001b[39m224\u001b[39m,\u001b[39m224\u001b[39m),batch_size\u001b[39m=\u001b[39m\u001b[39m32\u001b[39m,seed\u001b[39m=\u001b[39m\u001b[39m1\u001b[39m,test_proportion\u001b[39m=\u001b[39m\u001b[39m0.2\u001b[39m,limit\u001b[39m=\u001b[39m\u001b[39m0\u001b[39m,extensions\u001b[39m=\u001b[39m[\u001b[39m\"\u001b[39m\u001b[39mpe\u001b[39m\u001b[39m\"\u001b[39m,\u001b[39m\"\u001b[39m\u001b[39mmsdos\u001b[39m\u001b[39m\"\u001b[39m,\u001b[39m\"\u001b[39m\u001b[39melf\u001b[39m\u001b[39m\"\u001b[39m,\u001b[39m\"\u001b[39m\u001b[39mother\u001b[39m\u001b[39m\"\u001b[39m]):\n\u001b[0;32m---> 59\u001b[0m     dataset \u001b[39m=\u001b[39m get_malware_dataset(resize,extensions)\n\u001b[1;32m     60\u001b[0m     lenTrainTest \u001b[39m=\u001b[39m \u001b[39mint\u001b[39m(\u001b[39mlen\u001b[39m(dataset)\u001b[39m*\u001b[39m(\u001b[39m1\u001b[39m\u001b[39m-\u001b[39mtest_proportion))\n\u001b[1;32m     61\u001b[0m     restDataset  \u001b[39m=\u001b[39m lenTrainTest\u001b[39m%\u001b[39mbatch_size\n",
      "File \u001b[0;32m~/Bureau/TLS-SEC/ProjetLong/projetLib/image.py:32\u001b[0m, in \u001b[0;36mget_malware_dataset\u001b[0;34m(resize, whitelist)\u001b[0m\n\u001b[1;32m     30\u001b[0m \u001b[39mdef\u001b[39;00m \u001b[39mget_malware_dataset\u001b[39m(resize,whitelist):\n\u001b[1;32m     31\u001b[0m     datasets \u001b[39m=\u001b[39m []\n\u001b[0;32m---> 32\u001b[0m     \u001b[39mfor\u001b[39;00m folder \u001b[39min\u001b[39;00m os\u001b[39m.\u001b[39;49mlistdir(imgpath):\n\u001b[1;32m     33\u001b[0m         \u001b[39mif\u001b[39;00m folder \u001b[39m!=\u001b[39m benign :\n\u001b[1;32m     34\u001b[0m             newpath   \u001b[39m=\u001b[39m imgpath \u001b[39m+\u001b[39m folder \u001b[39m+\u001b[39m \u001b[39m\"\u001b[39m\u001b[39m/\u001b[39m\u001b[39m\"\u001b[39m\n",
      "\u001b[0;31mFileNotFoundError\u001b[0m: [Errno 2] No such file or directory: './data/images/'"
     ]
    }
   ],
   "source": [
    "runName = \"smallpe_2\"\n",
    "batch_size = 16\n",
    "limit = 10000\n",
    "\n",
    "epochs = 5\n",
    "\n",
    "trainDataset, testDataset = proj.image.getTrainTest(\n",
    "    resize=(224,224), batch_size=batch_size, seed=1, limit=limit,\n",
    "    test_proportion=0.2, extensions=[\"pe\"])\n",
    "\n",
    "model =  proj.model.getCNNresnet()\n",
    "testloader = DataLoader(testDataset, num_workers=2, batch_size=batch_size, shuffle=True)"
   ]
  },
  {
   "cell_type": "code",
   "execution_count": 13,
   "metadata": {},
   "outputs": [
    {
     "name": "stdout",
     "output_type": "stream",
     "text": [
      "                                                                 <13:41,  6.79s/it]\r"
     ]
    },
    {
     "ename": "KeyboardInterrupt",
     "evalue": "",
     "output_type": "error",
     "traceback": [
      "\u001b[0;31m---------------------------------------------------------------------------\u001b[0m",
      "\u001b[0;31mKeyboardInterrupt\u001b[0m                         Traceback (most recent call last)",
      "Cell \u001b[0;32mIn[13], line 1\u001b[0m\n\u001b[0;32m----> 1\u001b[0m proj\u001b[39m.\u001b[39;49mprocess\u001b[39m.\u001b[39;49mtest_malware(model,testloader)\n",
      "File \u001b[0;32m~/Desktop/5 TLS-SEC/ProjetLong/projetLib/process.py:69\u001b[0m, in \u001b[0;36mtest_malware\u001b[0;34m(net, testloader)\u001b[0m\n\u001b[1;32m     67\u001b[0m x \u001b[39m=\u001b[39m x\u001b[39m.\u001b[39mto(device)\n\u001b[1;32m     68\u001b[0m y \u001b[39m=\u001b[39m y\u001b[39m.\u001b[39mto(device)\n\u001b[0;32m---> 69\u001b[0m outputs \u001b[39m=\u001b[39m net(x)\n\u001b[1;32m     70\u001b[0m outputs \u001b[39m=\u001b[39m torch\u001b[39m.\u001b[39mreshape(outputs,(\u001b[39mlen\u001b[39m(y),))\n\u001b[1;32m     71\u001b[0m matrix  \u001b[39m+\u001b[39m\u001b[39m=\u001b[39m confmat(outputs, y)\n",
      "File \u001b[0;32m~/Library/Python/3.9/lib/python/site-packages/torch/nn/modules/module.py:1194\u001b[0m, in \u001b[0;36mModule._call_impl\u001b[0;34m(self, *input, **kwargs)\u001b[0m\n\u001b[1;32m   1190\u001b[0m \u001b[39m# If we don't have any hooks, we want to skip the rest of the logic in\u001b[39;00m\n\u001b[1;32m   1191\u001b[0m \u001b[39m# this function, and just call forward.\u001b[39;00m\n\u001b[1;32m   1192\u001b[0m \u001b[39mif\u001b[39;00m \u001b[39mnot\u001b[39;00m (\u001b[39mself\u001b[39m\u001b[39m.\u001b[39m_backward_hooks \u001b[39mor\u001b[39;00m \u001b[39mself\u001b[39m\u001b[39m.\u001b[39m_forward_hooks \u001b[39mor\u001b[39;00m \u001b[39mself\u001b[39m\u001b[39m.\u001b[39m_forward_pre_hooks \u001b[39mor\u001b[39;00m _global_backward_hooks\n\u001b[1;32m   1193\u001b[0m         \u001b[39mor\u001b[39;00m _global_forward_hooks \u001b[39mor\u001b[39;00m _global_forward_pre_hooks):\n\u001b[0;32m-> 1194\u001b[0m     \u001b[39mreturn\u001b[39;00m forward_call(\u001b[39m*\u001b[39;49m\u001b[39minput\u001b[39;49m, \u001b[39m*\u001b[39;49m\u001b[39m*\u001b[39;49mkwargs)\n\u001b[1;32m   1195\u001b[0m \u001b[39m# Do not call functions when jit is used\u001b[39;00m\n\u001b[1;32m   1196\u001b[0m full_backward_hooks, non_full_backward_hooks \u001b[39m=\u001b[39m [], []\n",
      "File \u001b[0;32m~/Library/Python/3.9/lib/python/site-packages/torch/nn/modules/container.py:204\u001b[0m, in \u001b[0;36mSequential.forward\u001b[0;34m(self, input)\u001b[0m\n\u001b[1;32m    202\u001b[0m \u001b[39mdef\u001b[39;00m \u001b[39mforward\u001b[39m(\u001b[39mself\u001b[39m, \u001b[39minput\u001b[39m):\n\u001b[1;32m    203\u001b[0m     \u001b[39mfor\u001b[39;00m module \u001b[39min\u001b[39;00m \u001b[39mself\u001b[39m:\n\u001b[0;32m--> 204\u001b[0m         \u001b[39minput\u001b[39m \u001b[39m=\u001b[39m module(\u001b[39minput\u001b[39;49m)\n\u001b[1;32m    205\u001b[0m     \u001b[39mreturn\u001b[39;00m \u001b[39minput\u001b[39m\n",
      "File \u001b[0;32m~/Library/Python/3.9/lib/python/site-packages/torch/nn/modules/module.py:1194\u001b[0m, in \u001b[0;36mModule._call_impl\u001b[0;34m(self, *input, **kwargs)\u001b[0m\n\u001b[1;32m   1190\u001b[0m \u001b[39m# If we don't have any hooks, we want to skip the rest of the logic in\u001b[39;00m\n\u001b[1;32m   1191\u001b[0m \u001b[39m# this function, and just call forward.\u001b[39;00m\n\u001b[1;32m   1192\u001b[0m \u001b[39mif\u001b[39;00m \u001b[39mnot\u001b[39;00m (\u001b[39mself\u001b[39m\u001b[39m.\u001b[39m_backward_hooks \u001b[39mor\u001b[39;00m \u001b[39mself\u001b[39m\u001b[39m.\u001b[39m_forward_hooks \u001b[39mor\u001b[39;00m \u001b[39mself\u001b[39m\u001b[39m.\u001b[39m_forward_pre_hooks \u001b[39mor\u001b[39;00m _global_backward_hooks\n\u001b[1;32m   1193\u001b[0m         \u001b[39mor\u001b[39;00m _global_forward_hooks \u001b[39mor\u001b[39;00m _global_forward_pre_hooks):\n\u001b[0;32m-> 1194\u001b[0m     \u001b[39mreturn\u001b[39;00m forward_call(\u001b[39m*\u001b[39;49m\u001b[39minput\u001b[39;49m, \u001b[39m*\u001b[39;49m\u001b[39m*\u001b[39;49mkwargs)\n\u001b[1;32m   1195\u001b[0m \u001b[39m# Do not call functions when jit is used\u001b[39;00m\n\u001b[1;32m   1196\u001b[0m full_backward_hooks, non_full_backward_hooks \u001b[39m=\u001b[39m [], []\n",
      "File \u001b[0;32m~/Library/Python/3.9/lib/python/site-packages/torchvision/models/resnet.py:285\u001b[0m, in \u001b[0;36mResNet.forward\u001b[0;34m(self, x)\u001b[0m\n\u001b[1;32m    284\u001b[0m \u001b[39mdef\u001b[39;00m \u001b[39mforward\u001b[39m(\u001b[39mself\u001b[39m, x: Tensor) \u001b[39m-\u001b[39m\u001b[39m>\u001b[39m Tensor:\n\u001b[0;32m--> 285\u001b[0m     \u001b[39mreturn\u001b[39;00m \u001b[39mself\u001b[39;49m\u001b[39m.\u001b[39;49m_forward_impl(x)\n",
      "File \u001b[0;32m~/Library/Python/3.9/lib/python/site-packages/torchvision/models/resnet.py:275\u001b[0m, in \u001b[0;36mResNet._forward_impl\u001b[0;34m(self, x)\u001b[0m\n\u001b[1;32m    273\u001b[0m x \u001b[39m=\u001b[39m \u001b[39mself\u001b[39m\u001b[39m.\u001b[39mlayer1(x)\n\u001b[1;32m    274\u001b[0m x \u001b[39m=\u001b[39m \u001b[39mself\u001b[39m\u001b[39m.\u001b[39mlayer2(x)\n\u001b[0;32m--> 275\u001b[0m x \u001b[39m=\u001b[39m \u001b[39mself\u001b[39;49m\u001b[39m.\u001b[39;49mlayer3(x)\n\u001b[1;32m    276\u001b[0m x \u001b[39m=\u001b[39m \u001b[39mself\u001b[39m\u001b[39m.\u001b[39mlayer4(x)\n\u001b[1;32m    278\u001b[0m x \u001b[39m=\u001b[39m \u001b[39mself\u001b[39m\u001b[39m.\u001b[39mavgpool(x)\n",
      "File \u001b[0;32m~/Library/Python/3.9/lib/python/site-packages/torch/nn/modules/module.py:1194\u001b[0m, in \u001b[0;36mModule._call_impl\u001b[0;34m(self, *input, **kwargs)\u001b[0m\n\u001b[1;32m   1190\u001b[0m \u001b[39m# If we don't have any hooks, we want to skip the rest of the logic in\u001b[39;00m\n\u001b[1;32m   1191\u001b[0m \u001b[39m# this function, and just call forward.\u001b[39;00m\n\u001b[1;32m   1192\u001b[0m \u001b[39mif\u001b[39;00m \u001b[39mnot\u001b[39;00m (\u001b[39mself\u001b[39m\u001b[39m.\u001b[39m_backward_hooks \u001b[39mor\u001b[39;00m \u001b[39mself\u001b[39m\u001b[39m.\u001b[39m_forward_hooks \u001b[39mor\u001b[39;00m \u001b[39mself\u001b[39m\u001b[39m.\u001b[39m_forward_pre_hooks \u001b[39mor\u001b[39;00m _global_backward_hooks\n\u001b[1;32m   1193\u001b[0m         \u001b[39mor\u001b[39;00m _global_forward_hooks \u001b[39mor\u001b[39;00m _global_forward_pre_hooks):\n\u001b[0;32m-> 1194\u001b[0m     \u001b[39mreturn\u001b[39;00m forward_call(\u001b[39m*\u001b[39;49m\u001b[39minput\u001b[39;49m, \u001b[39m*\u001b[39;49m\u001b[39m*\u001b[39;49mkwargs)\n\u001b[1;32m   1195\u001b[0m \u001b[39m# Do not call functions when jit is used\u001b[39;00m\n\u001b[1;32m   1196\u001b[0m full_backward_hooks, non_full_backward_hooks \u001b[39m=\u001b[39m [], []\n",
      "File \u001b[0;32m~/Library/Python/3.9/lib/python/site-packages/torch/nn/modules/container.py:204\u001b[0m, in \u001b[0;36mSequential.forward\u001b[0;34m(self, input)\u001b[0m\n\u001b[1;32m    202\u001b[0m \u001b[39mdef\u001b[39;00m \u001b[39mforward\u001b[39m(\u001b[39mself\u001b[39m, \u001b[39minput\u001b[39m):\n\u001b[1;32m    203\u001b[0m     \u001b[39mfor\u001b[39;00m module \u001b[39min\u001b[39;00m \u001b[39mself\u001b[39m:\n\u001b[0;32m--> 204\u001b[0m         \u001b[39minput\u001b[39m \u001b[39m=\u001b[39m module(\u001b[39minput\u001b[39;49m)\n\u001b[1;32m    205\u001b[0m     \u001b[39mreturn\u001b[39;00m \u001b[39minput\u001b[39m\n",
      "File \u001b[0;32m~/Library/Python/3.9/lib/python/site-packages/torch/nn/modules/module.py:1194\u001b[0m, in \u001b[0;36mModule._call_impl\u001b[0;34m(self, *input, **kwargs)\u001b[0m\n\u001b[1;32m   1190\u001b[0m \u001b[39m# If we don't have any hooks, we want to skip the rest of the logic in\u001b[39;00m\n\u001b[1;32m   1191\u001b[0m \u001b[39m# this function, and just call forward.\u001b[39;00m\n\u001b[1;32m   1192\u001b[0m \u001b[39mif\u001b[39;00m \u001b[39mnot\u001b[39;00m (\u001b[39mself\u001b[39m\u001b[39m.\u001b[39m_backward_hooks \u001b[39mor\u001b[39;00m \u001b[39mself\u001b[39m\u001b[39m.\u001b[39m_forward_hooks \u001b[39mor\u001b[39;00m \u001b[39mself\u001b[39m\u001b[39m.\u001b[39m_forward_pre_hooks \u001b[39mor\u001b[39;00m _global_backward_hooks\n\u001b[1;32m   1193\u001b[0m         \u001b[39mor\u001b[39;00m _global_forward_hooks \u001b[39mor\u001b[39;00m _global_forward_pre_hooks):\n\u001b[0;32m-> 1194\u001b[0m     \u001b[39mreturn\u001b[39;00m forward_call(\u001b[39m*\u001b[39;49m\u001b[39minput\u001b[39;49m, \u001b[39m*\u001b[39;49m\u001b[39m*\u001b[39;49mkwargs)\n\u001b[1;32m   1195\u001b[0m \u001b[39m# Do not call functions when jit is used\u001b[39;00m\n\u001b[1;32m   1196\u001b[0m full_backward_hooks, non_full_backward_hooks \u001b[39m=\u001b[39m [], []\n",
      "File \u001b[0;32m~/Library/Python/3.9/lib/python/site-packages/torchvision/models/resnet.py:161\u001b[0m, in \u001b[0;36mBottleneck.forward\u001b[0;34m(self, x)\u001b[0m\n\u001b[1;32m    158\u001b[0m     identity \u001b[39m=\u001b[39m \u001b[39mself\u001b[39m\u001b[39m.\u001b[39mdownsample(x)\n\u001b[1;32m    160\u001b[0m out \u001b[39m+\u001b[39m\u001b[39m=\u001b[39m identity\n\u001b[0;32m--> 161\u001b[0m out \u001b[39m=\u001b[39m \u001b[39mself\u001b[39;49m\u001b[39m.\u001b[39;49mrelu(out)\n\u001b[1;32m    163\u001b[0m \u001b[39mreturn\u001b[39;00m out\n",
      "File \u001b[0;32m~/Library/Python/3.9/lib/python/site-packages/torch/nn/modules/module.py:1194\u001b[0m, in \u001b[0;36mModule._call_impl\u001b[0;34m(self, *input, **kwargs)\u001b[0m\n\u001b[1;32m   1190\u001b[0m \u001b[39m# If we don't have any hooks, we want to skip the rest of the logic in\u001b[39;00m\n\u001b[1;32m   1191\u001b[0m \u001b[39m# this function, and just call forward.\u001b[39;00m\n\u001b[1;32m   1192\u001b[0m \u001b[39mif\u001b[39;00m \u001b[39mnot\u001b[39;00m (\u001b[39mself\u001b[39m\u001b[39m.\u001b[39m_backward_hooks \u001b[39mor\u001b[39;00m \u001b[39mself\u001b[39m\u001b[39m.\u001b[39m_forward_hooks \u001b[39mor\u001b[39;00m \u001b[39mself\u001b[39m\u001b[39m.\u001b[39m_forward_pre_hooks \u001b[39mor\u001b[39;00m _global_backward_hooks\n\u001b[1;32m   1193\u001b[0m         \u001b[39mor\u001b[39;00m _global_forward_hooks \u001b[39mor\u001b[39;00m _global_forward_pre_hooks):\n\u001b[0;32m-> 1194\u001b[0m     \u001b[39mreturn\u001b[39;00m forward_call(\u001b[39m*\u001b[39;49m\u001b[39minput\u001b[39;49m, \u001b[39m*\u001b[39;49m\u001b[39m*\u001b[39;49mkwargs)\n\u001b[1;32m   1195\u001b[0m \u001b[39m# Do not call functions when jit is used\u001b[39;00m\n\u001b[1;32m   1196\u001b[0m full_backward_hooks, non_full_backward_hooks \u001b[39m=\u001b[39m [], []\n",
      "File \u001b[0;32m~/Library/Python/3.9/lib/python/site-packages/torch/nn/modules/activation.py:102\u001b[0m, in \u001b[0;36mReLU.forward\u001b[0;34m(self, input)\u001b[0m\n\u001b[1;32m    101\u001b[0m \u001b[39mdef\u001b[39;00m \u001b[39mforward\u001b[39m(\u001b[39mself\u001b[39m, \u001b[39minput\u001b[39m: Tensor) \u001b[39m-\u001b[39m\u001b[39m>\u001b[39m Tensor:\n\u001b[0;32m--> 102\u001b[0m     \u001b[39mreturn\u001b[39;00m F\u001b[39m.\u001b[39;49mrelu(\u001b[39minput\u001b[39;49m, inplace\u001b[39m=\u001b[39;49m\u001b[39mself\u001b[39;49m\u001b[39m.\u001b[39;49minplace)\n",
      "File \u001b[0;32m~/Library/Python/3.9/lib/python/site-packages/torch/nn/functional.py:1455\u001b[0m, in \u001b[0;36mrelu\u001b[0;34m(input, inplace)\u001b[0m\n\u001b[1;32m   1453\u001b[0m     \u001b[39mreturn\u001b[39;00m handle_torch_function(relu, (\u001b[39minput\u001b[39m,), \u001b[39minput\u001b[39m, inplace\u001b[39m=\u001b[39minplace)\n\u001b[1;32m   1454\u001b[0m \u001b[39mif\u001b[39;00m inplace:\n\u001b[0;32m-> 1455\u001b[0m     result \u001b[39m=\u001b[39m torch\u001b[39m.\u001b[39;49mrelu_(\u001b[39minput\u001b[39;49m)\n\u001b[1;32m   1456\u001b[0m \u001b[39melse\u001b[39;00m:\n\u001b[1;32m   1457\u001b[0m     result \u001b[39m=\u001b[39m torch\u001b[39m.\u001b[39mrelu(\u001b[39minput\u001b[39m)\n",
      "\u001b[0;31mKeyboardInterrupt\u001b[0m: "
     ]
    }
   ],
   "source": [
    "proj.process.test_malware(model,testloader)"
   ]
  }
 ],
 "metadata": {
  "kernelspec": {
   "display_name": "base",
   "language": "python",
   "name": "python3"
  },
  "language_info": {
   "codemirror_mode": {
    "name": "ipython",
    "version": 3
   },
   "file_extension": ".py",
   "mimetype": "text/x-python",
   "name": "python",
   "nbconvert_exporter": "python",
   "pygments_lexer": "ipython3",
   "version": "3.9.12"
  },
  "orig_nbformat": 4,
  "vscode": {
   "interpreter": {
    "hash": "0650c59a78a128c748f8aadfab5692cc08be5aacb695e9a8f2efcdc6dbedda40"
   }
  }
 },
 "nbformat": 4,
 "nbformat_minor": 2
}
