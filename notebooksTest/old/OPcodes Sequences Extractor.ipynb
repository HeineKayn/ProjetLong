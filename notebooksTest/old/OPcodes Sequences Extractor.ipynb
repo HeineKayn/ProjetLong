{
 "cells": [
  {
   "cell_type": "code",
   "execution_count": 1,
   "metadata": {
    "_cell_guid": "79c7e3d0-c299-4dcb-8224-4455121ee9b0",
    "_uuid": "d629ff2d2480ee46fbb7e2d37f6b5fab8052498a"
   },
   "outputs": [
    {
     "name": "stdout",
     "output_type": "stream",
     "text": [
      "Defaulting to user installation because normal site-packages is not writeable\n",
      "Requirement already satisfied: capstone in /home/thomas/.local/lib/python3.10/site-packages (4.0.2)\n",
      "Defaulting to user installation because normal site-packages is not writeable\n",
      "Requirement already satisfied: pefile in /home/thomas/.local/lib/python3.10/site-packages (2022.5.30)\n",
      "Requirement already satisfied: future in /home/thomas/.local/lib/python3.10/site-packages (from pefile) (0.18.2)\n"
     ]
    }
   ],
   "source": [
    "!pip install capstone\n",
    "!pip install pefile"
   ]
  },
  {
   "cell_type": "code",
   "execution_count": 2,
   "metadata": {},
   "outputs": [],
   "source": [
    "import sys\n",
    "from capstone import *\n",
    "from capstone.x86 import *\n",
    "import pefile\n",
    "import pandas as pd\n",
    "import os.path\n",
    "from os import listdir\n",
    "import pprint\n",
    "import json"
   ]
  },
  {
   "cell_type": "code",
   "execution_count": 3,
   "metadata": {},
   "outputs": [],
   "source": [
    "def get_main_code_section(sections, base_of_code):\n",
    "    addresses = []\n",
    "    for section in sections: \n",
    "        addresses.append(section.VirtualAddress)\n",
    "    if base_of_code in addresses:\n",
    "        #if sections[addresses.index(base_of_code)].Characteristics == int(0x60000020):\n",
    "        if 1==1:    \n",
    "            return sections[addresses.index(base_of_code)]\n",
    "        else:\n",
    "            return None\n",
    "    else:\n",
    "        addresses.append(base_of_code)\n",
    "        addresses.sort()\n",
    "        if addresses.index(base_of_code)!= 0:\n",
    "            #if sections[addresses.index(base_of_code)-1].Characteristics == int(0x60000020):\n",
    "            if 1==1: \n",
    "                return sections[addresses.index(base_of_code)-1]\n",
    "            else:\n",
    "                return None\n",
    "        else:\n",
    "            return None"
   ]
  },
  {
   "cell_type": "code",
   "execution_count": 4,
   "metadata": {},
   "outputs": [],
   "source": [
    "def fine_disassemble(exe):\n",
    "    main_code = get_main_code_section(exe.sections, exe.OPTIONAL_HEADER.BaseOfCode)\n",
    "    md = Cs(CS_ARCH_X86, CS_MODE_32)\n",
    "    md.detail = True\n",
    "    last_address = 0\n",
    "    last_size = 0\n",
    "    begin = main_code.PointerToRawData\n",
    "    end = begin+main_code.SizeOfRawData\n",
    "    ins_count = 0\n",
    "    size_count = 0\n",
    "    instructions = {}\n",
    "    sequence = []\n",
    "    pred_name = None\n",
    "    while True:\n",
    "        data = exe.get_memory_mapped_image()[begin:end]\n",
    "        for i in md.disasm(data, begin):\n",
    "            if i.mnemonic in instructions.keys():\n",
    "                instructions[i.mnemonic]['count'] += 1\n",
    "                instructions[i.mnemonic]['frequence'] += 1\n",
    "                if ins_count - instructions[i.mnemonic]['count'] > instructions[i.mnemonic]['largest_period']:\n",
    "                    instructions[i.mnemonic]['largest_period'] = instructions[i.mnemonic]['count'] \n",
    "                elif ins_count - instructions[i.mnemonic]['count'] < instructions[i.mnemonic]['smallest_period']:\n",
    "                    instructions[i.mnemonic]['smallest_period'] = instructions[i.mnemonic]['count']\n",
    "                instructions[i.mnemonic]['count'] = ins_count\n",
    "            else:\n",
    "                instructions[i.mnemonic]={\n",
    "                           'registers':{}, \n",
    "                           'count':0,\n",
    "                           'largest_period':0, \n",
    "                           'smallest_period':1000000,\n",
    "                           'frequence':1,\n",
    "                           'preds':{},\n",
    "                           'sucs':{},}        \n",
    "            if pred_name is not None and pred_name in instructions[i.mnemonic]['preds'].keys():\n",
    "                instructions[i.mnemonic]['preds'][pred_name] += 1\n",
    "            elif pred_name is not None:\n",
    "                instructions[i.mnemonic]['preds'][pred_name] = 1\n",
    "            if pred_name is not None and i.mnemonic in instructions[pred_name]['sucs'].keys():\n",
    "                instructions[pred_name]['sucs'][i.mnemonic] += 1\n",
    "            elif pred_name is not None:\n",
    "                instructions[pred_name]['sucs'][i.mnemonic] = 1\n",
    "            for op in i.operands:\n",
    "                if op.type == X86_OP_REG:\n",
    "                    if i.reg_name(op.reg) in instructions[i.mnemonic]['registers'].keys():\n",
    "                        instructions[i.mnemonic]['registers'][i.reg_name(op.reg)] += 1\n",
    "                    else:\n",
    "                        instructions[i.mnemonic]['registers'][i.reg_name(op.reg)] = 1\n",
    "            pred_name = i.mnemonic\n",
    "            sequence.append(i.mnemonic)\n",
    "            last_address = int(i.address)\n",
    "            last_size = i.size\n",
    "            ins_count += 1\n",
    "            size_count += last_size\n",
    "        begin = max(int(last_address),begin)+last_size+1\n",
    "        if begin >= end:\n",
    "            print(\"out\")\n",
    "            break\n",
    "    return instructions, sequence"
   ]
  },
  {
   "cell_type": "code",
   "execution_count": null,
   "metadata": {},
   "outputs": [],
   "source": [
    "#Paths For Files\n",
    "malware_base_dir = '../input/firstpart/samples/'\n",
    "exceptions_counter = 0\n",
    "counter = 1\n",
    "exceptions = []\n",
    "hashes_file = open('../input/hashes61/hashes6.txt')\n",
    "hashes = hashes_file.readlines()\n",
    "malware_list = pd.read_csv('../input/malwarelist/malware_list_sample_1.csv', index_col='Hash Of Malware')\n",
    "stats = {}\n",
    "a = 2\n",
    "for f in hashes:\n",
    "    if malware_list.loc[f[:-1]]['Status']=='clear':\n",
    "        counter += 1\n",
    "        try:\n",
    "            exe = pefile.PE(os.path.join(malware_base_dir,f[:-1]))\n",
    "            try:\n",
    "                inst, seq = fine_disassemble(exe)\n",
    "                stats[f[:-1]]={'stats':inst, 'sequence':seq}\n",
    "                inst = None\n",
    "                seq = None\n",
    "            except:\n",
    "                exceptions.append([f[:-1],\"code section not found\"])\n",
    "        except Exception:\n",
    "            exceptions_counter += 1\n",
    "            exceptions.append([f[:-1],\"bad format\"])\n",
    "        print(counter)\n",
    "        if(counter > 300 * a):\n",
    "            with open('opcodes6%d.json' % counter, 'a') as js:\n",
    "                json.dump(stats, js)\n",
    "            stats = {}\n",
    "            a += 1\n",
    "print(exceptions_counter)"
   ]
  }
 ],
 "metadata": {
  "kernelspec": {
   "display_name": "Python 3 (ipykernel)",
   "language": "python",
   "name": "python3"
  },
  "language_info": {
   "codemirror_mode": {
    "name": "ipython",
    "version": 3
   },
   "file_extension": ".py",
   "mimetype": "text/x-python",
   "name": "python",
   "nbconvert_exporter": "python",
   "pygments_lexer": "ipython3",
   "version": "3.10.4"
  }
 },
 "nbformat": 4,
 "nbformat_minor": 1
}
