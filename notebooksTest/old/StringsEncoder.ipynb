{
 "cells": [
  {
   "cell_type": "code",
   "execution_count": null,
   "metadata": {
    "_cell_guid": "79c7e3d0-c299-4dcb-8224-4455121ee9b0",
    "_uuid": "d629ff2d2480ee46fbb7e2d37f6b5fab8052498a"
   },
   "outputs": [],
   "source": [
    "import json"
   ]
  },
  {
   "cell_type": "code",
   "execution_count": null,
   "metadata": {},
   "outputs": [],
   "source": [
    "strings = {}\n",
    "for i in 1,2,3,4,5,6,7,8,9:\n",
    "    with open('../input/strings-part-1/strings%d.json'%i, 'r') as st:\n",
    "        strings = {**strings, **json.load(st)}"
   ]
  },
  {
   "cell_type": "code",
   "execution_count": null,
   "metadata": {},
   "outputs": [],
   "source": [
    "strings_dict = {}\n",
    "max_str = 0\n",
    "for f in strings.keys():\n",
    "    for st in strings[f].keys():\n",
    "        if st in strings_dict.keys():\n",
    "            strings_dict[st] += strings[f][st]\n",
    "        else:\n",
    "            strings_dict[st] = strings[f][st]\n",
    "        if strings_dict[st] > max_str:\n",
    "            max_str = strings_dict[st]"
   ]
  },
  {
   "cell_type": "code",
   "execution_count": null,
   "metadata": {},
   "outputs": [],
   "source": [
    "print(len(strings_dict.keys()))"
   ]
  },
  {
   "cell_type": "code",
   "execution_count": null,
   "metadata": {},
   "outputs": [],
   "source": [
    "for_deletion = []\n",
    "for st in strings_dict.keys():\n",
    "    if strings_dict[st] < max_str * 0.001:\n",
    "        for_deletion.append(st)\n",
    "for st in for_deletion:\n",
    "    del strings_dict[st]"
   ]
  },
  {
   "cell_type": "code",
   "execution_count": null,
   "metadata": {},
   "outputs": [],
   "source": [
    "print(len(strings_dict.keys()))"
   ]
  },
  {
   "cell_type": "code",
   "execution_count": null,
   "metadata": {},
   "outputs": [],
   "source": [
    "import pprint\n",
    "pprint.pprint(strings_dict)"
   ]
  }
 ],
 "metadata": {
  "kernelspec": {
   "display_name": "Python 3 (ipykernel)",
   "language": "python",
   "name": "python3"
  },
  "language_info": {
   "codemirror_mode": {
    "name": "ipython",
    "version": 3
   },
   "file_extension": ".py",
   "mimetype": "text/x-python",
   "name": "python",
   "nbconvert_exporter": "python",
   "pygments_lexer": "ipython3",
   "version": "3.10.4"
  }
 },
 "nbformat": 4,
 "nbformat_minor": 1
}
