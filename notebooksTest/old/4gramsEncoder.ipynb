{
 "cells": [
  {
   "cell_type": "code",
   "execution_count": null,
   "metadata": {
    "_cell_guid": "79c7e3d0-c299-4dcb-8224-4455121ee9b0",
    "_uuid": "d629ff2d2480ee46fbb7e2d37f6b5fab8052498a"
   },
   "outputs": [],
   "source": [
    "import json\n",
    "\n",
    "grams = {}\n",
    "max_gr = 0\n",
    "for i in range(17):\n",
    "    print(i)\n",
    "    with open('../input/4grams%d.json'%(i+1),'r') as grms:\n",
    "        js = json.load(grms)\n",
    "        for f in js.keys():\n",
    "            for g in js[f].keys():\n",
    "                if g in grams.keys():\n",
    "                    grams[g] += js[f][g]['frequency']\n",
    "                else:\n",
    "                    grams[g] = js[f][g]['frequency']\n",
    "                if grams[g] > max_gr and g != '00000000' and g != 'ffffffff':\n",
    "                    max_gr = grams[g]\n",
    "        del js"
   ]
  },
  {
   "cell_type": "code",
   "execution_count": null,
   "metadata": {},
   "outputs": [],
   "source": [
    "print(len(grams.keys()))\n",
    "print(max_gr)"
   ]
  },
  {
   "cell_type": "code",
   "execution_count": null,
   "metadata": {},
   "outputs": [],
   "source": [
    "grams_copy = grams.copy()\n",
    "for_deletion = []\n",
    "for g in grams.keys():\n",
    "    if grams[g] < max_gr * 0.001:\n",
    "        for_deletion.append(g)\n",
    "for g in for_deletion:\n",
    "    del grams[g]"
   ]
  },
  {
   "cell_type": "code",
   "execution_count": null,
   "metadata": {},
   "outputs": [],
   "source": [
    "print(len(grams.keys()))"
   ]
  },
  {
   "cell_type": "code",
   "execution_count": null,
   "metadata": {},
   "outputs": [],
   "source": [
    "print(grams)"
   ]
  }
 ],
 "metadata": {
  "kernelspec": {
   "display_name": "Python 3 (ipykernel)",
   "language": "python",
   "name": "python3"
  },
  "language_info": {
   "codemirror_mode": {
    "name": "ipython",
    "version": 3
   },
   "file_extension": ".py",
   "mimetype": "text/x-python",
   "name": "python",
   "nbconvert_exporter": "python",
   "pygments_lexer": "ipython3",
   "version": "3.10.4"
  }
 },
 "nbformat": 4,
 "nbformat_minor": 1
}
