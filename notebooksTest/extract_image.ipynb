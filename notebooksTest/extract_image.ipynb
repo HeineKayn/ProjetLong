{
 "cells": [
  {
   "cell_type": "code",
   "execution_count": 4,
   "id": "74edbd65",
   "metadata": {},
   "outputs": [],
   "source": [
    "import numpy as np"
   ]
  },
  {
   "cell_type": "code",
   "execution_count": 8,
   "id": "f560cdbf",
   "metadata": {},
   "outputs": [
    {
     "name": "stdout",
     "output_type": "stream",
     "text": [
      "(6, 64, 64, 1)\n"
     ]
    }
   ],
   "source": [
    "path = \"../data/\"\n",
    "\n",
    "def extract_img(path, h=64, w=64):\n",
    "    images = []\n",
    "    with open(path, 'rb') as img_set:\n",
    "        img_arr = img_set.read(h * w)\n",
    "        while img_arr:\n",
    "            if img_arr not in images and len(img_arr) == h * w:\n",
    "                images.append(img_arr)\n",
    "            img_arr = img_set.read(h * w)\n",
    "    len_img = len(images)\n",
    "    img_list = np.zeros(shape=(len_img, h, w, 1), dtype=np.uint8)\n",
    "    for j in range(len(images)):\n",
    "        img_list[j, :, :, 0] = np.reshape(list(images[j]), (h, w))\n",
    "    img_list = img_list.astype('float32')\n",
    "    img_list /= 255\n",
    "    return img_list\n",
    "\n",
    "file = path + \"pink.exe\"\n",
    "res  = extract_img(file)\n",
    "print(res.shape)"
   ]
  },
  {
   "cell_type": "code",
   "execution_count": null,
   "id": "f9236adf",
   "metadata": {},
   "outputs": [],
   "source": []
  }
 ],
 "metadata": {
  "kernelspec": {
   "display_name": "Python 3 (ipykernel)",
   "language": "python",
   "name": "python3"
  },
  "language_info": {
   "codemirror_mode": {
    "name": "ipython",
    "version": 3
   },
   "file_extension": ".py",
   "mimetype": "text/x-python",
   "name": "python",
   "nbconvert_exporter": "python",
   "pygments_lexer": "ipython3",
   "version": "3.10.4"
  }
 },
 "nbformat": 4,
 "nbformat_minor": 5
}
