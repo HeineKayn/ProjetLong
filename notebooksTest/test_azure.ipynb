{
 "cells": [
  {
   "cell_type": "code",
   "execution_count": 2,
   "id": "52d58e25",
   "metadata": {},
   "outputs": [],
   "source": [
    "url =\"https://malwareproject.azurewebsites.net/api/HttpTrigger1?code=e-yqg7_K8NbFzdHy5MtfA22O0U1kbEMk_C-ltcSOWjPgAzFub3FeYQ==\""
   ]
  },
  {
   "cell_type": "code",
   "execution_count": 8,
   "id": "2fe2b945",
   "metadata": {},
   "outputs": [
    {
     "name": "stdout",
     "output_type": "stream",
     "text": [
      "Hello, FDP. This HTTP triggered function executed successfully.\n"
     ]
    }
   ],
   "source": [
    "# importing the requests library\n",
    "import requests\n",
    "  \n",
    "data = {\"name\":\"FDP\"}\n",
    "  \n",
    "# sending post request and saving response as response object\n",
    "r = requests.post(url = url, params = data)\n",
    "print(r.text)"
   ]
  },
  {
   "cell_type": "code",
   "execution_count": null,
   "id": "26f97f77",
   "metadata": {},
   "outputs": [],
   "source": []
  }
 ],
 "metadata": {
  "kernelspec": {
   "display_name": "Python 3 (ipykernel)",
   "language": "python",
   "name": "python3"
  },
  "language_info": {
   "codemirror_mode": {
    "name": "ipython",
    "version": 3
   },
   "file_extension": ".py",
   "mimetype": "text/x-python",
   "name": "python",
   "nbconvert_exporter": "python",
   "pygments_lexer": "ipython3",
   "version": "3.10.4"
  }
 },
 "nbformat": 4,
 "nbformat_minor": 5
}
