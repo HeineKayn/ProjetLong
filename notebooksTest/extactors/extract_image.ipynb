{
 "cells": [
  {
   "cell_type": "code",
   "execution_count": 97,
   "id": "74edbd65",
   "metadata": {},
   "outputs": [],
   "source": [
    "import numpy as np\n",
    "from PIL import Image\n",
    "import os\n",
    "\n",
    "path = \"../data/samples/\"\n",
    "file = \"pink.exe\"\n",
    "h = w = 256"
   ]
  },
  {
   "cell_type": "code",
   "execution_count": 98,
   "id": "c33d6005",
   "metadata": {},
   "outputs": [],
   "source": [
    "def extract_img(path, file, doSave=True,h=256, w=256):\n",
    "    with open(path+file, 'rb') as img_set:\n",
    "        img_arr = img_set.read(h * w)\n",
    "        img_arr = list(img_arr)\n",
    "        img_arr += [0]*(h*w - len(img_arr))\n",
    "        img_arr = img_arr[:h*w]\n",
    "        #print(h*w,len(img_arr))\n",
    "        img_arr = np.array(img_arr)\n",
    "        img_arr = img_arr.astype('float32')\n",
    "        #img_arr /= 255\n",
    "        img_arr = np.reshape(img_arr, (len(img_arr)//h, w))\n",
    "        \n",
    "        if doSave : \n",
    "            img = Image.fromarray(img_arr.astype('uint8'), 'L')\n",
    "            hashed = abs(hash(file))\n",
    "            hashed = str(hashed)\n",
    "            if not os.path.exists(f\"{path}../images\"):\n",
    "               os.makedirs(f\"{path}../images\")\n",
    "            img.save(f\"{path}../images/{hashed}.jpg\")\n",
    "        \n",
    "        return img"
   ]
  },
  {
   "cell_type": "code",
   "execution_count": 99,
   "id": "4989be57",
   "metadata": {},
   "outputs": [],
   "source": [
    "img = extract_img(path,file)"
   ]
  },
  {
   "cell_type": "code",
   "execution_count": null,
   "id": "702c1185",
   "metadata": {},
   "outputs": [],
   "source": []
  }
 ],
 "metadata": {
  "kernelspec": {
   "display_name": "Python 3 (ipykernel)",
   "language": "python",
   "name": "python3"
  },
  "language_info": {
   "codemirror_mode": {
    "name": "ipython",
    "version": 3
   },
   "file_extension": ".py",
   "mimetype": "text/x-python",
   "name": "python",
   "nbconvert_exporter": "python",
   "pygments_lexer": "ipython3",
   "version": "3.10.4"
  }
 },
 "nbformat": 4,
 "nbformat_minor": 5
}
