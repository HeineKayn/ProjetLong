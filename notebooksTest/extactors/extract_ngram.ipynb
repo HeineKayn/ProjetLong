{
 "cells": [
  {
   "cell_type": "code",
   "execution_count": 4,
   "id": "6ff11280",
   "metadata": {},
   "outputs": [],
   "source": [
    "from os import listdir\n",
    "import os.path\n",
    "import pandas as pd\n",
    "import json\n",
    "\n",
    "path = \"../data/samples/\"\n",
    "file = \"pink.exe\"\n",
    "h = w = 256"
   ]
  },
  {
   "cell_type": "code",
   "execution_count": 19,
   "id": "5b08cd74",
   "metadata": {},
   "outputs": [],
   "source": [
    "def extract_grams(path,file):\n",
    "    bytes_grams = {}\n",
    "    maxfr = 0\n",
    "    maxfrbg = None\n",
    "    with open((path+file),'rb') as bf:\n",
    "        four_grams = bf.read(4).hex()\n",
    "        bytes_grams[four_grams]={\n",
    "            'frequency' : 1,\n",
    "            'preds' : {},\n",
    "            'sucs' : {},\n",
    "        }\n",
    "        pred = four_grams\n",
    "        count_grams = 0\n",
    "        while four_grams != '':\n",
    "            count_grams += 1\n",
    "            four_grams = bf.read(4).hex()\n",
    "            if four_grams in bytes_grams.keys():\n",
    "                bytes_grams[four_grams]['frequency']+=1\n",
    "            else:\n",
    "                bytes_grams[four_grams]={\n",
    "                    'frequency' : 1,\n",
    "                    'preds' : {},\n",
    "                    'sucs' : {}, \n",
    "                }\n",
    "            if pred in bytes_grams[four_grams]['preds'].keys():\n",
    "                bytes_grams[four_grams]['preds'][pred] += 1\n",
    "            else :\n",
    "                bytes_grams[four_grams]['preds'][pred] = 1\n",
    "\n",
    "\n",
    "            if four_grams in bytes_grams[pred]['sucs'].keys():\n",
    "                bytes_grams[pred]['sucs'][four_grams] += 1\n",
    "            else :\n",
    "                bytes_grams[pred]['sucs'][four_grams] = 1        \n",
    "            pred = four_grams\n",
    "            \n",
    "        #Reducing the number of considered 4-grams\n",
    "        mean_quantile = count_grams/len(bytes_grams) * 2\n",
    "        for_deletion  = []\n",
    "        for bg in bytes_grams.keys():\n",
    "            if bytes_grams[bg]['frequency'] < mean_quantile:\n",
    "                for_deletion.append(bg)\n",
    "            else:\n",
    "                temp={k: v for k, v in sorted(bytes_grams[bg]['preds'].items(), key=lambda item: item[1])}\n",
    "                if temp != {}:\n",
    "                    keyvalue = list(temp.items())[-1]\n",
    "                    bytes_grams[bg]['preds'] = keyvalue\n",
    "        for bg in for_deletion:\n",
    "            del bytes_grams[bg]\n",
    "        \n",
    "        for bg in bytes_grams.keys():\n",
    "            temp={k: v for k, v in sorted(bytes_grams[bg]['sucs'].items(), key=lambda item: item[1])}\n",
    "            if temp != {}:\n",
    "                keyvalue = list(temp.items())[-1]\n",
    "                bytes_grams[bg]['sucs'] = keyvalue\n",
    "                \n",
    "        print(bytes_grams)"
   ]
  },
  {
   "cell_type": "code",
   "execution_count": 20,
   "id": "268686d4",
   "metadata": {},
   "outputs": [
    {
     "name": "stdout",
     "output_type": "stream",
     "text": [
      "{'00000000': {'frequency': 1613, 'preds': ('00000000', 1449), 'sucs': ('00000000', 1449)}, 'ff461ad9': {'frequency': 4, 'preds': ('ff461ad9', 2), 'sucs': ('ff461ad9', 2)}, 'fe461ad9': {'frequency': 5, 'preds': ('652f18d8', 1), 'sucs': ('52696368', 1)}, '00100000': {'frequency': 5, 'preds': ('00001000', 2), 'sucs': ('00000000', 2)}, '00040000': {'frequency': 4, 'preds': ('000007ff', 1), 'sucs': ('00000000', 3)}, '23232323': {'frequency': 6, 'preds': ('5cd0bc88', 1), 'sucs': ('8c909430', 1)}, '01000000': {'frequency': 4, 'preds': ('00000100', 2), 'sucs': ('c0000080', 1)}, '00000100': {'frequency': 9, 'preds': ('00000000', 6), 'sucs': ('0c040000', 2)}, '8a00ebff': {'frequency': 4, 'preds': ('9c3becff', 1), 'sucs': ('8808e9d9', 1)}, '8800eaff': {'frequency': 5, 'preds': ('9f43edff', 1), 'sucs': ('9a30ebff', 1)}, '8902eaff': {'frequency': 7, 'preds': ('a759efff', 1), 'sucs': ('8d12e877', 1)}, '8900eaff': {'frequency': 10, 'preds': ('8b02ebff', 2), 'sucs': ('9d32ecff', 1)}, '8900ebff': {'frequency': 5, 'preds': ('9d34ebff', 1), 'sucs': ('8b03ebff', 1)}, '8a02eaff': {'frequency': 34, 'preds': ('8a02eaff', 11), 'sucs': ('8a02eaff', 11)}, '8a03eaff': {'frequency': 10, 'preds': ('8b02eaff', 2), 'sucs': ('8a02eaff', 4)}, 'ede1faff': {'frequency': 24, 'preds': ('ecdefaff', 8), 'sucs': ('ecdefaff', 8)}, 'eee2faff': {'frequency': 14, 'preds': ('ecdefaff', 3), 'sucs': ('eee2faff', 3)}, '8901eaff': {'frequency': 6, 'preds': ('9f42edff', 1), 'sucs': ('8c0fe887', 1)}, '8a02ebff': {'frequency': 13, 'preds': ('8c08eaff', 1), 'sucs': ('8b03ebff', 3)}, 'ece0faff': {'frequency': 8, 'preds': ('ecdefaff', 2), 'sucs': ('ecdefaff', 5)}, 'ecdefaff': {'frequency': 203, 'preds': ('ecdefaff', 158), 'sucs': ('ecdefaff', 158)}, 'ebdefaff': {'frequency': 21, 'preds': ('ecdefaff', 16), 'sucs': ('ecdefaff', 15)}, '8e11ebff': {'frequency': 4, 'preds': ('b47cf1ff', 1), 'sucs': ('8a02eaff', 2)}, 'ede0faff': {'frequency': 10, 'preds': ('ecdefaff', 4), 'sucs': ('ecdefaff', 3)}, 'e8d8f9ff': {'frequency': 4, 'preds': ('e8d9f9ff', 1), 'sucs': ('a145edff', 1)}, 'fbfbfb00': {'frequency': 8, 'preds': ('00000000', 3), 'sucs': ('00000000', 3)}, 'ecdffaff': {'frequency': 9, 'preds': ('ecdefaff', 4), 'sucs': ('ecdefaff', 2)}, '8a01ebff': {'frequency': 9, 'preds': ('9528ecff', 1), 'sucs': ('880ce8bd', 1)}, 'ffffff00': {'frequency': 7, 'preds': ('36353621', 1), 'sucs': ('8817e500', 1)}, '8903eaff': {'frequency': 4, 'preds': ('a452eeff', 1), 'sucs': ('8913e787', 1)}, '8b08eaff': {'frequency': 4, 'preds': ('901bebff', 1), 'sucs': ('8a02eaff', 1)}, 'aa74f0ff': {'frequency': 5, 'preds': ('aa74f0ff', 2), 'sucs': ('aa74f0ff', 2)}, '8a01eaff': {'frequency': 6, 'preds': ('8a02eaff', 2), 'sucs': ('8a01ebff', 1)}, 'bd93f2ff': {'frequency': 4, 'preds': ('b073efff', 1), 'sucs': ('c09bf3ff', 1)}, 'c19df3ff': {'frequency': 5, 'preds': ('ae6cf0ff', 1), 'sucs': ('b887f1ff', 1)}, '8b03ebff': {'frequency': 23, 'preds': ('8b03ebff', 9), 'sucs': ('8b03ebff', 9)}, '8f14ebff': {'frequency': 4, 'preds': ('b37bf1ff', 1), 'sucs': ('8a03ebfd', 1)}, 'bf9af3ff': {'frequency': 38, 'preds': ('bf99f3ff', 9), 'sucs': ('bf99f3ff', 15)}, 'bf99f3ff': {'frequency': 181, 'preds': ('bf99f3ff', 127), 'sucs': ('bf99f3ff', 127)}, '8b02ebff': {'frequency': 12, 'preds': ('8b03ebff', 4), 'sucs': ('8a02eaff', 4)}, 'c09bf3ff': {'frequency': 57, 'preds': ('bf99f3ff', 15), 'sucs': ('bf99f3ff', 14)}, '8b02eaff': {'frequency': 5, 'preds': ('8a01ebff', 1), 'sucs': ('8a03eaff', 2)}, 'c09af3ff': {'frequency': 21, 'preds': ('bf99f3ff', 6), 'sucs': ('bf99f3ff', 3)}, 'c09cf3ff': {'frequency': 25, 'preds': ('bf99f3ff', 4), 'sucs': ('bf99f3ff', 8)}, 'c19cf3ff': {'frequency': 4, 'preds': ('bf99f3ff', 1), 'sucs': ('af6ff0ff', 1)}, 'bb8ef2ff': {'frequency': 4, 'preds': ('c09bf3ff', 2), 'sucs': ('921decff', 1)}, 'be97f3ff': {'frequency': 6, 'preds': ('bf99f3ff', 2), 'sucs': ('9930edff', 1)}, 'b887f1ff': {'frequency': 4, 'preds': ('c19df3ff', 1), 'sucs': ('9425eaff', 1)}, 'bd94f2ff': {'frequency': 5, 'preds': ('c09bf3ff', 2), 'sucs': ('c09bf3ff', 1)}, 'be96f2ff': {'frequency': 4, 'preds': ('bf99f3ff', 1), 'sucs': ('9c3becff', 1)}, 'bf98f3ff': {'frequency': 10, 'preds': ('c09af3ff', 1), 'sucs': ('bf99f3ff', 3)}, 'b276f0ff': {'frequency': 5, 'preds': ('a656eeff', 1), 'sucs': ('b273f0ff', 1)}, 'ba8df2ff': {'frequency': 4, 'preds': ('9628ecff', 1), 'sucs': ('bf9af3ff', 1)}, 'bc92f2ff': {'frequency': 5, 'preds': ('be95f2ff', 2), 'sucs': ('bd95f3ff', 1)}, 'b174f0ff': {'frequency': 4, 'preds': ('be95f2ff', 1), 'sucs': ('b681f1ff', 1)}, 'bc91f2ff': {'frequency': 4, 'preds': ('bf99f3ff', 1), 'sucs': ('c09af3ff', 2)}, '01f5fcff': {'frequency': 5, 'preds': ('01f6fbff', 1), 'sucs': ('03f4fbff', 1)}, '02f4fbff': {'frequency': 5, 'preds': ('03f1fbff', 2), 'sucs': ('399df3ff', 1)}, '03f2fcff': {'frequency': 11, 'preds': ('03f1fbff', 4), 'sucs': ('03f1fbff', 3)}, '01f5fbff': {'frequency': 11, 'preds': ('03f1fbff', 3), 'sucs': ('03f1fbff', 4)}, '02f3fbff': {'frequency': 8, 'preds': ('03f1fbff', 2), 'sucs': ('03f1fbff', 4)}, '03f2fbff': {'frequency': 5, 'preds': ('03f1fbff', 2), 'sucs': ('03f1fbff', 3)}, '03f1fbff': {'frequency': 56, 'preds': ('03f1fbff', 39), 'sucs': ('03f1fbff', 39)}, '201f23ff': {'frequency': 8, 'preds': ('1f1e22fa', 1), 'sucs': ('1f1f22ff', 2)}, '1f1e22ff': {'frequency': 4, 'preds': ('201f23ff', 1), 'sucs': ('201f22e2', 1)}, '003fffff': {'frequency': 4, 'preds': ('c3c3fc00', 1), 'sucs': ('e1e18000', 1)}, '000007ff': {'frequency': 6, 'preds': ('f0000000', 2), 'sucs': ('00060000', 2)}, '000000ff': {'frequency': 4, 'preds': ('ffff01fc', 1), 'sucs': ('ffff81fc', 1)}, 'f8000000': {'frequency': 4, 'preds': ('000003ff', 1), 'sucs': ('000001ff', 1)}, 'f0000000': {'frequency': 7, 'preds': ('00007fff', 3), 'sucs': ('000007ff', 2)}, '000001ff': {'frequency': 10, 'preds': ('00000000', 4), 'sucs': ('00000000', 5)}, '0040007f': {'frequency': 5, 'preds': ('ffff00f8', 1), 'sucs': ('ffff01fc', 1)}}\n"
     ]
    }
   ],
   "source": [
    "extract_grams(path,file)"
   ]
  },
  {
   "cell_type": "code",
   "execution_count": null,
   "id": "9bb8ce6c",
   "metadata": {},
   "outputs": [],
   "source": []
  }
 ],
 "metadata": {
  "kernelspec": {
   "display_name": "Python 3 (ipykernel)",
   "language": "python",
   "name": "python3"
  },
  "language_info": {
   "codemirror_mode": {
    "name": "ipython",
    "version": 3
   },
   "file_extension": ".py",
   "mimetype": "text/x-python",
   "name": "python",
   "nbconvert_exporter": "python",
   "pygments_lexer": "ipython3",
   "version": "3.10.4"
  }
 },
 "nbformat": 4,
 "nbformat_minor": 5
}
