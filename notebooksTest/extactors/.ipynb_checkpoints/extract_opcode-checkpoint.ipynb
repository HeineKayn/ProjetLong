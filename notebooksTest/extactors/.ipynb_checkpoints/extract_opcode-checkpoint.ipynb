{
 "cells": [
  {
   "cell_type": "code",
   "execution_count": 1,
   "metadata": {
    "_cell_guid": "79c7e3d0-c299-4dcb-8224-4455121ee9b0",
    "_uuid": "d629ff2d2480ee46fbb7e2d37f6b5fab8052498a"
   },
   "outputs": [
    {
     "name": "stdout",
     "output_type": "stream",
     "text": [
      "Defaulting to user installation because normal site-packages is not writeable\n",
      "Requirement already satisfied: capstone in /home/thomas/.local/lib/python3.10/site-packages (4.0.2)\n",
      "Defaulting to user installation because normal site-packages is not writeable\n",
      "Requirement already satisfied: pefile in /home/thomas/.local/lib/python3.10/site-packages (2022.5.30)\n",
      "Requirement already satisfied: future in /home/thomas/.local/lib/python3.10/site-packages (from pefile) (0.18.2)\n"
     ]
    }
   ],
   "source": [
    "!pip install capstone\n",
    "!pip install pefile"
   ]
  },
  {
   "cell_type": "code",
   "execution_count": 3,
   "metadata": {},
   "outputs": [],
   "source": [
    "import sys\n",
    "from capstone import *\n",
    "from capstone.x86 import *\n",
    "import pefile\n",
    "import pandas as pd\n",
    "import os.path\n",
    "from os import listdir\n",
    "import pprint\n",
    "import json"
   ]
  },
  {
   "cell_type": "code",
   "execution_count": 4,
   "metadata": {},
   "outputs": [],
   "source": [
    "def get_main_code_section(sections, base_of_code):\n",
    "    addresses = []\n",
    "    for section in sections: \n",
    "        addresses.append(section.VirtualAddress)\n",
    "    if base_of_code in addresses:\n",
    "        #if sections[addresses.index(base_of_code)].Characteristics == int(0x60000020):\n",
    "        if 1==1:    \n",
    "            return sections[addresses.index(base_of_code)]\n",
    "        else:\n",
    "            return None\n",
    "    else:\n",
    "        addresses.append(base_of_code)\n",
    "        addresses.sort()\n",
    "        if addresses.index(base_of_code)!= 0:\n",
    "            #if sections[addresses.index(base_of_code)-1].Characteristics == int(0x60000020):\n",
    "            if 1==1: \n",
    "                return sections[addresses.index(base_of_code)-1]\n",
    "            else:\n",
    "                return None\n",
    "        else:\n",
    "            return None"
   ]
  },
  {
   "cell_type": "code",
   "execution_count": 7,
   "metadata": {},
   "outputs": [],
   "source": [
    "def fine_disassemble(exe):\n",
    "    main_code = get_main_code_section(exe.sections, exe.OPTIONAL_HEADER.BaseOfCode)\n",
    "    md = Cs(CS_ARCH_X86, CS_MODE_32)\n",
    "    md.detail = True\n",
    "    last_address = 0\n",
    "    last_size = 0\n",
    "    begin = main_code.PointerToRawData\n",
    "    end = begin+main_code.SizeOfRawData\n",
    "    ins_count = 0\n",
    "    size_count = 0\n",
    "    instructions = {}\n",
    "    sequence = []\n",
    "    pred_name = None\n",
    "    while True:\n",
    "        data = exe.get_memory_mapped_image()[begin:end]\n",
    "        for i in md.disasm(data, begin):\n",
    "            if i.mnemonic in instructions.keys():\n",
    "                instructions[i.mnemonic]['count'] += 1\n",
    "                instructions[i.mnemonic]['frequence'] += 1\n",
    "                if ins_count - instructions[i.mnemonic]['count'] > instructions[i.mnemonic]['largest_period']:\n",
    "                    instructions[i.mnemonic]['largest_period'] = instructions[i.mnemonic]['count'] \n",
    "                elif ins_count - instructions[i.mnemonic]['count'] < instructions[i.mnemonic]['smallest_period']:\n",
    "                    instructions[i.mnemonic]['smallest_period'] = instructions[i.mnemonic]['count']\n",
    "                instructions[i.mnemonic]['count'] = ins_count\n",
    "            else:\n",
    "                instructions[i.mnemonic]={\n",
    "                           'registers':{}, \n",
    "                           'count':0,\n",
    "                           'largest_period':0, \n",
    "                           'smallest_period':1000000,\n",
    "                           'frequence':1,\n",
    "                           'preds':{},\n",
    "                           'sucs':{},}        \n",
    "            if pred_name is not None and pred_name in instructions[i.mnemonic]['preds'].keys():\n",
    "                instructions[i.mnemonic]['preds'][pred_name] += 1\n",
    "            elif pred_name is not None:\n",
    "                instructions[i.mnemonic]['preds'][pred_name] = 1\n",
    "            if pred_name is not None and i.mnemonic in instructions[pred_name]['sucs'].keys():\n",
    "                instructions[pred_name]['sucs'][i.mnemonic] += 1\n",
    "            elif pred_name is not None:\n",
    "                instructions[pred_name]['sucs'][i.mnemonic] = 1\n",
    "            for op in i.operands:\n",
    "                if op.type == X86_OP_REG:\n",
    "                    if i.reg_name(op.reg) in instructions[i.mnemonic]['registers'].keys():\n",
    "                        instructions[i.mnemonic]['registers'][i.reg_name(op.reg)] += 1\n",
    "                    else:\n",
    "                        instructions[i.mnemonic]['registers'][i.reg_name(op.reg)] = 1\n",
    "            pred_name = i.mnemonic\n",
    "            sequence.append(i.mnemonic)\n",
    "            last_address = int(i.address)\n",
    "            last_size = i.size\n",
    "            ins_count += 1\n",
    "            size_count += last_size\n",
    "        begin = max(int(last_address),begin)+last_size+1\n",
    "        if begin >= end:\n",
    "            break\n",
    "    return instructions, sequence"
   ]
  },
  {
   "cell_type": "code",
   "execution_count": null,
   "metadata": {},
   "outputs": [],
   "source": [
    "def extract_sequence(path):\n",
    "    labels = [\"cdt\", \"udt\", \"sdt\", \"adt\", \"cmpdt\", \"cvt\", \"bai\", \"iai\",\n",
    "              \"dai\", \"fai\", \"fci\", \"sai\", \"li\", \"sri\", \"bii\", \"byi\",\n",
    "              \"cj\", \"uj\", \"int\", \"si\", \"io\", \"flg\", \"seg\", \"misc\", \"sr\",\n",
    "              \"rng\", \"arr\", \"pmi\", \"pci\", \"mmxt\", \"mmxc\", \"mmxa\",\n",
    "              \"mmxcmp\", \"mmxl\", \"mmxsr\", \"mmxsm\", \"sset\", \"ssea\",\n",
    "              \"ssecmp\", \"ssel\", \"ssesu\", \"ssecvt\", \"fdt\", \"ftrdt\", \"flc\",\n",
    "              \"tse\", \"ssebi\", \"vmx\", \"other\"]\n",
    "\n",
    "    labels_array = np.array(labels).reshape(-1, 1)\n",
    "    hot_encoder = OneHotEncoder(sparse=False)\n",
    "    encoded_labels = hot_encoder.fit_transform(labels_array)\n",
    "\n",
    "    encode_dict = {}\n",
    "    for l, e in zip(labels, encoded_labels):\n",
    "        encode_dict[l] = e\n",
    "\n",
    "    count = 0\n",
    "    sequence = quick_disassemble(path)\n",
    "    if sequence is not None:\n",
    "        del sequence[0]\n",
    "        for s in sequence:\n",
    "            if isinstance(s, str):\n",
    "                count += 1\n",
    "            else:\n",
    "                count += s[1]\n",
    "        steps = 128\n",
    "        vect = 49\n",
    "        data_array = np.zeros((int(count / steps) + 1, steps, vect), dtype='float32')\n",
    "        length = steps\n",
    "        i, j, k = (0, 0, 0)\n",
    "        for s in sequence:\n",
    "            if isinstance(s, str):\n",
    "                data_array[i, j] = encode_dict[s] + 0.\n",
    "                j += 1\n",
    "                if j > length - 1:\n",
    "                    j = 0\n",
    "                    i += 1\n",
    "            else:\n",
    "                for _ in range(s[1]):\n",
    "                    data_array[i, j] = encode_dict[s[0]] + 0.\n",
    "                    j += 1\n",
    "                    if j > length - 1:\n",
    "                        j = 0\n",
    "                        i += 1\n",
    "        return data_array\n",
    "    else:\n",
    "        return None"
   ]
  },
  {
   "cell_type": "code",
   "execution_count": 14,
   "metadata": {},
   "outputs": [
    {
     "name": "stdout",
     "output_type": "stream",
     "text": [
      "{'outsd': {'registers': {'dx': 18}, 'count': 1045, 'largest_period': 224, 'smallest_period': 946, 'frequence': 18, 'preds': {'lcall': 1, 'loope': 1, 'and': 2, 'aam': 1, 'imul': 1, 'jb': 1, 'mov': 1, 'fld': 1, 'push': 1, 'test': 1, 'pop': 1, 'jle': 2, 'ret': 1, 'popal': 1, 'jg': 1}, 'sucs': {'push': 2, 'or': 3, 'dec': 1, 'imul': 1, 'fdiv': 2, 'scasd': 1, 'out': 1, 'salc': 1, 'pop': 1, 'fst': 1, 'js': 1, 'jo': 1, 'mov': 1, 'inc': 1}}, 'push': {'registers': {'esi': 8, 'eax': 9, 'edi': 3, 'ecx': 7, 'ds': 3, 'ebx': 4, 'ss': 13, 'cs': 6, 'edx': 2, 'esp': 1, 'ebp': 3, 'fs': 1, 'es': 2}, 'count': 1195, 'largest_period': 123, 'smallest_period': 1188, 'frequence': 86, 'preds': {'outsd': 2, 'push': 13, 'add': 4, 'lea': 2, 'mov': 9, 'xor': 3, 'cmp': 3, 'je': 5, 'idiv': 1, 'ret': 2, 'movzx': 1, 'inc': 5, 'fist': 2, 'pop': 4, 'adc': 5, 'hlt': 2, 'or': 4, 'shr': 1, 'jns': 1, 'ja': 1, 'cli': 1, 'aas': 1, 'sbb': 1, 'xchg': 2, 'ljmp': 1, 'sti': 1, 'jb': 1, 'fsubr': 1, 'and': 2, 'out': 1, 'sub': 1, 'cwde': 1, 'clc': 1, 'bound': 1}, 'sucs': {'push': 13, 'add': 4, 'call': 2, 'mov': 6, 'xor': 6, 'dec': 5, 'je': 1, 'sbb': 2, 'cmp': 1, 'or': 3, 'inc': 3, 'in': 3, 'daa': 1, 'fmul': 2, 'punpcklwd': 1, 'pop': 6, 'lcall': 1, 'and': 2, 'adc': 4, 'leave': 1, 'fidivr': 1, 'jb': 1, 'popfd': 1, 'rcr': 1, 'pushal': 1, 'xchg': 1, 'outsd': 1, 'clc': 1, 'lodsb': 1, 'test': 2, 'sub': 1, 'fdivr': 2, 'into': 1, 'neg': 1, 'fstp': 1, 'int1': 1, 'int3': 1}}, 'add': {'registers': {'cl': 3, 'ah': 2, 'bl': 3, 'ch': 1, 'esp': 4, 'ebp': 3, 'al': 2055, 'dl': 1, 'edx': 9, 'eax': 17, 'esi': 6, 'ecx': 3, 'edi': 4, 'ebx': 4, 'bh': 1}, 'count': 3249, 'largest_period': 753, 'smallest_period': 3249, 'frequence': 2101, 'preds': {'push': 4, 'sbb': 2, 'cmp': 1, 'xchg': 2, 'or': 3, 'adc': 4, 'fmul': 1, 'mov': 10, 'movzx': 1, 'jge': 1, 'dec': 1, 'std': 1, 'movsb': 1, 'jg': 1, 'add': 2051, 'rol': 3, 'ror': 1, 'lock xchg': 1, 'shl': 1, 'in': 1, 'xor': 1, 'hlt': 1, 'lcall': 2, 'stosb': 1, 'jno': 1, 'insd': 1, 'test': 1, 'movsd': 1, 'js': 1}, 'sucs': {'push': 4, 'pop': 8, 'lahf': 1, 'xor': 2, 'adc': 1, 'or': 2, 'dec': 2, 'lea': 2, 'ret': 1, 'mov': 7, 'test': 1, 'lodsd': 1, 'sbb': 1, 'add': 2051, 'rol': 1, 'and': 5, 'inc': 1, 'xchg': 1, 'aam': 1, 'hlt': 1, 'leave': 1, 'loopne': 1, 'nop': 1, 'int': 1, 'insd': 1, 'sar': 1}}, 'call': {'registers': {}, 'count': 793, 'largest_period': 409, 'smallest_period': 1000000, 'frequence': 5, 'preds': {'push': 2, 'int1': 1, 'mov': 1, 'loop': 1}, 'sucs': {'sbb': 1, 'sal': 1, 'jge': 1, 'out': 1, 'or': 1}}, 'sbb': {'registers': {'edx': 2, 'al': 8, 'esp': 3, 'ebx': 3, 'eax': 12, 'cl': 2, 'ecx': 3, 'edi': 2, 'bh': 1, 'dh': 2, 'ah': 1}, 'count': 1168, 'largest_period': 346, 'smallest_period': 1153, 'frequence': 32, 'preds': {'call': 1, 'clc': 1, 'push': 2, 'and': 2, 'or': 1, 'jmp': 1, 'add': 1, 'mov': 3, 'stc': 1, 'jbe': 1, 'repne lodsd': 1, 'js': 2, 'xor': 2, 'out': 1, 'dec': 1, 'adc': 1, 'jne': 1, 'sbb': 1, 'ret': 1, 'in': 1, 'rol': 1, 'lea': 1, 'movsb': 1, 'leave': 1, 'insd': 1, 'pop': 1}, 'sucs': {'mov': 4, 'add': 2, 'ret': 1, 'frstor': 1, 'ja': 1, 'or': 1, 'idiv': 1, 'les': 1, 'iretd': 1, 'cmp': 2, 'aam': 1, 'ljmp': 1, 'popal': 2, 'push': 1, 'hlt': 1, 'fild': 1, 'loop': 1, 'sbb': 1, 'and': 1, 'pop': 1, 'salc': 1, 'insd': 1, 'cld': 1, 'xchg': 1, 'dec': 1, 'inc': 1}}, 'mov': {'registers': {'eax': 21, 'esi': 9, 'ebx': 8, 'edi': 13, 'dh': 4, 'gs': 2, 'esp': 9, 'ecx': 11, 'bh': 10, 'bl': 7, 'ebp': 9, 'al': 12, 'edx': 6, 'cs': 1, 'ah': 7, 'dl': 3, 'cl': 8, 'es': 1, 'ch': 2, 'ds': 1}, 'count': 1200, 'largest_period': 584, 'smallest_period': 1200, 'frequence': 134, 'preds': {'sbb': 4, 'mov': 19, 'push': 6, 'sal': 1, 'pop': 10, 'ffree': 1, 'dec': 2, 'xor': 3, 'ret': 5, 'or': 3, 'jne': 1, 'neg': 1, 'retf': 1, 'jmp': 3, 'je': 1, 'inc': 3, 'in': 3, 'add': 7, 'sub': 2, 'and': 9, 'insb': 1, 'lodsd': 1, 'loope': 2, 'out': 2, 'into': 1, 'cmp': 3, 'fcomp': 1, 'test': 4, 'imul': 2, 'js': 2, 'cmpsd': 1, 'clc': 1, 'stosb': 1, 'salc': 1, 'cmpxchg': 1, 'cmpsb': 1, 'rcr': 1, 'insd': 2, 'ud2': 1, 'nop': 2, 'adc': 1, 'popal': 1, 'outsd': 1, 'sti': 2, 'std': 1, 'pushal': 1, 'jp': 1, 'jbe': 1, 'jnp': 1, 'fsubr': 1, 'aas': 1, 'rol': 1, 'femms': 1, 'loopne': 1, 'stc': 1, 'fdivr': 1, 'lea': 1}, 'sucs': {'mov': 19, 'and': 6, 'push': 9, 'jmp': 2, 'daa': 2, 'pop': 4, 'aas': 1, 'arpl': 2, 'salc': 2, 'jne': 2, 'xchg': 3, 'fist': 2, 'or': 5, 'nop': 2, 'add': 10, 'in': 1, 'iretd': 1, 'shr': 1, 'pushfd': 1, 'xor': 1, 'outsb': 2, 'not': 1, 'dec': 3, 'cmp': 5, 'sbb': 3, 'out': 2, 'insb': 1, 'ljmp': 1, 'sal': 1, 'imul': 1, 'js': 1, 'into': 1, 'cmpsb': 1, 'cmpsd': 1, 'call': 1, 'shl': 2, 'wait': 1, 'stosb': 1, 'cmpxchg': 1, 'jno': 1, 'outsd': 1, 'xabort': 1, 'pushal': 1, 'retf': 1, 'ret': 4, 'int3': 1, 'sar': 2, 'idiv': 1, 'sti': 1, 'inc': 2, 'jbe': 1, 'jnp': 1, 'insd': 1, 'fisub': 1, 'std': 1, 'lahf': 1, 'test': 1, 'adc': 1, 'f2xm1': 1, 'sub': 1, 'fcomp': 1, 'bound': 1}}, 'and': {'registers': {'eax': 12, 'ecx': 7, 'ch': 2, 'dl': 1, 'cl': 2, 'bl': 2, 'al': 3, 'esi': 5, 'ebx': 4, 'edi': 2, 'edx': 4, 'dh': 1, 'ah': 1, 'bh': 1}, 'count': 1192, 'largest_period': 464, 'smallest_period': 1172, 'frequence': 38, 'preds': {'mov': 6, 'dec': 3, 'int': 1, 'xchg': 1, 'sub': 1, 'in': 1, 'cmp': 3, 'push': 2, 'not': 1, 'add': 5, 'les': 1, 'pop': 1, 'imul': 1, 'jbe': 1, 'jl': 1, 'cmpsd': 1, 'inc': 1, 'or': 1, 'sbb': 1, 'arpl': 1, 'je': 1, 'jecxz': 1, 'sar': 1, 'outsb': 1}, 'sucs': {'lea': 2, 'cmp': 1, 'outsb': 1, 'sbb': 2, 'retf': 1, 'std': 1, 'pop': 2, 'ljmp': 1, 'mov': 9, 'outsd': 2, 'stc': 1, 'lock xchg': 1, 'or': 2, 'das': 1, 'hlt': 1, 'push': 2, 'sub': 1, 'xor': 1, 'arpl': 1, 'aas': 1, 'jmp': 1, 'jg': 1, 'xchg': 1, 'loopne': 1}}, 'lea': {'registers': {'eax': 2, 'ecx': 2, 'edx': 1, 'edi': 2, 'esi': 1, 'ebx': 2}, 'count': 1198, 'largest_period': 297, 'smallest_period': 1125, 'frequence': 10, 'preds': {'and': 2, 'jmp': 1, 'add': 2, 'jno': 1, 'fsubr': 1, 'dec': 1, 'jne': 1, 'loope': 1}, 'sucs': {'push': 2, 'shl': 1, 'stosb': 1, 'ja': 1, 'in': 1, 'jmp': 1, 'sbb': 1, 'shr': 1, 'mov': 1}}, 'xor': {'registers': {'edi': 4, 'eax': 12, 'al': 4, 'dl': 2, 'esi': 6, 'ebx': 4, 'ecx': 6, 'edx': 5, 'bl': 2, 'ebp': 1, 'dh': 1, 'cl': 1}, 'count': 1188, 'largest_period': 266, 'smallest_period': 1163, 'frequence': 35, 'preds': {'push': 6, 'lahf': 1, 'add': 2, 'mov': 1, 'iretd': 1, 'or': 1, 'in': 1, 'xor': 2, 'dec': 1, 'into': 1, 'fistp': 1, 'retf': 1, 'pop': 1, 'xlatb': 1, 'ret': 1, 'int1': 1, 'jmp': 1, 'adc': 2, 'and': 1, 'pushfd': 1, 'jae': 1, 'sahf': 1, 'popal': 1, 'f2xm1': 1, 'cmp': 1, 'ror': 1, 'sar': 1}, 'sucs': {'push': 3, 'mov': 3, 'jo': 1, 'movsb': 1, 'cmp': 3, 'in': 1, 'xor': 2, 'add': 1, 'jnp': 1, 'loop': 1, 'jle': 1, 'sbb': 2, 'fild': 1, 'lodsd': 2, 'jge': 1, 'jmp': 1, 'test': 1, 'std': 1, 'inc': 1, 'jne': 1, 'sub': 1, 'ret': 1, 'adc': 1, 'popal': 1, 'imul': 1, 'or': 1}}, 'sal': {'registers': {'edi': 1, 'cl': 2, 'bh': 1}, 'count': 960, 'largest_period': 371, 'smallest_period': 836, 'frequence': 8, 'preds': {'call': 1, 'mov': 1, 'xlatb': 1, 'enter': 1, 'dec': 2, 'cmc': 1, 'or': 1}, 'sucs': {'mov': 1, 'pop': 2, 'sar': 1, 'cmp': 1, 'sub': 1, 'jp': 1, 'or': 1}}, 'pop': {'registers': {'ecx': 10, 'ebp': 8, 'ds': 9, 'edi': 5, 'esp': 5, 'esi': 6, 'es': 5, 'eax': 2, 'edx': 4, 'ebx': 5, 'ss': 4}, 'count': 1167, 'largest_period': 126, 'smallest_period': 1166, 'frequence': 63, 'preds': {'add': 8, 'mov': 4, 'or': 4, 'daa': 2, 'pop': 6, 'jmp': 1, 'in': 1, 'push': 6, 'and': 2, 'leave': 1, 'xlatb': 1, 'sal': 2, 'inc': 2, 'salc': 2, 'adc': 2, 'xchg': 1, 'outsd': 1, 'lcall': 1, 'ret': 1, 'jg': 1, 'sub': 1, 'fild': 1, 'wait': 1, 'ljmp': 1, 'std': 1, 'fdivr': 1, 'sbb': 1, 'dec': 1, 'int': 1, 'jecxz': 1, 'fcomp': 1, 'fcomi': 1, 'je': 1, 'neg': 1}, 'sucs': {'mov': 10, 'sub': 2, 'insd': 1, 'nop': 1, 'push': 4, 'pop': 6, 'clc': 2, 'fcom': 1, 'lodsb': 1, 'inc': 1, 'cmp': 1, 'retf': 1, 'and': 1, 'adc': 4, 'jmp': 3, 'aaa': 1, 'test': 2, 'xor': 1, 'xlatb': 1, 'or': 1, 'cmpsd': 1, 'fdiv': 1, 'outsd': 1, 'jle': 1, 'aad': 1, 'wait': 1, 'jne': 1, 'stosb': 1, 'movsd': 1, 'jno': 1, 'fistp': 1, 'dec': 1, 'in': 1, 'lodsd': 1, 'shl': 1, 'xchg': 1, 'neg': 1, 'sbb': 1}}, 'jmp': {'registers': {}, 'count': 1136, 'largest_period': 517, 'smallest_period': 1070, 'frequence': 18, 'preds': {'mov': 2, 'dec': 1, 'std': 1, 'int3': 1, 'or': 2, 'jl': 1, 'pop': 3, 'popal': 1, 'outsb': 1, 'lea': 1, 'xor': 1, 'stosb': 1, 'and': 1, 'insd': 1}, 'sucs': {'ffree': 1, 'lea': 1, 'mov': 3, 'sbb': 1, 'pop': 1, 'int3': 1, 'imul': 1, 'salc': 1, 'ret': 1, 'cmp': 2, 'outsb': 1, 'xor': 1, 'rol': 1, 'or': 1, 'daa': 1}}, 'ffree': {'registers': {'st(7)': 1}, 'count': 0, 'largest_period': 0, 'smallest_period': 1000000, 'frequence': 1, 'preds': {'jmp': 1}, 'sucs': {'mov': 1}}, 'daa': {'registers': {}, 'count': 1159, 'largest_period': 457, 'smallest_period': 1138, 'frequence': 7, 'preds': {'mov': 2, 'xchg': 1, 'push': 1, 'out': 1, 'int1': 1, 'jmp': 1}, 'sucs': {'clc': 1, 'fdiv': 1, 'pop': 2, 'ret': 1, 'adc': 1, 'rcl': 1}}, 'clc': {'registers': {}, 'count': 1126, 'largest_period': 417, 'smallest_period': 1099, 'frequence': 10, 'preds': {'daa': 1, 'pop': 2, 'nop': 1, 'out': 1, 'or': 1, 'push': 1, 'sub': 1, 'fld': 1, 'shr': 1}, 'sucs': {'sbb': 1, 'or': 1, 'cmp': 1, 'ror': 1, 'test': 2, 'mov': 1, 'je': 1, 'inc': 1, 'push': 1}}, 'sub': {'registers': {'ecx': 3, 'esp': 2, 'eax': 8, 'dl': 1, 'dh': 4, 'al': 2, 'esi': 1, 'ebx': 2, 'ch': 1, 'edi': 1, 'ah': 1}, 'count': 1178, 'largest_period': 238, 'smallest_period': 1093, 'frequence': 22, 'preds': {'pop': 2, 'xchg': 1, 'std': 1, 'cmp': 1, 'fcom': 1, 'fstp': 1, 'or': 1, 'in': 1, 'inc': 2, 'jle': 1, 'dec': 1, 'sal': 1, 'push': 1, 'and': 1, 'stc': 1, 'movsb': 1, 'imul': 1, 'salc': 1, 'xor': 1, 'mov': 1}, 'sucs': {'dec': 1, 'inc': 1, 'je': 1, 'and': 1, 'test': 1, 'idiv': 1, 'mov': 2, 'xchg': 2, 'into': 1, 'leave': 1, 'pop': 1, 'cmc': 1, 'sti': 1, 'clc': 1, 'arpl': 1, 'fsubr': 1, 'push': 1, 'stosb': 1, 'enter': 1, 'ret': 1}}, 'dec': {'registers': {'edx': 2, 'eax': 3, 'ebp': 4, 'esi': 4, 'ecx': 1, 'edi': 5, 'ebx': 6, 'esp': 2}, 'count': 1181, 'largest_period': 326, 'smallest_period': 1174, 'frequence': 27, 'preds': {'sub': 1, 'aas': 1, 'push': 5, 'add': 2, 'ret': 1, 'fadd': 1, 'mov': 3, 'outsd': 1, 'pushal': 1, 'fcom': 1, 'jo': 1, 'idiv': 1, 'pushfd': 1, 'outsb': 1, 'cdq': 1, 'loopne': 1, 'pop': 1, 'cmp': 1, 'sbb': 1, 'hlt': 1}, 'sucs': {'mov': 2, 'jmp': 1, 'and': 3, 'shr': 1, 'add': 1, 'rol': 1, 'out': 1, 'enter': 1, 'xor': 1, 'jl': 1, 'lcall': 1, 'stc': 1, 'pushfd': 1, 'sbb': 1, 'sub': 1, 'cwde': 1, 'sal': 2, 'lodsb': 1, 'pop': 1, 'lea': 1, 'xchg': 1, 'adc': 1, 'hlt': 1}}, 'aas': {'registers': {}, 'count': 987, 'largest_period': 568, 'smallest_period': 952, 'frequence': 5, 'preds': {'mov': 1, 'retf': 1, 'test': 1, 'cmp': 1, 'and': 1}, 'sucs': {'dec': 1, 'fisub': 1, 'push': 1, 'or': 1, 'mov': 1}}, 'cmp': {'registers': {'ecx': 4, 'esp': 1, 'edi': 4, 'eax': 10, 'bl': 1, 'edx': 1, 'ah': 2, 'ch': 1, 'dh': 2, 'esi': 1, 'ebp': 2}, 'count': 1139, 'largest_period': 342, 'smallest_period': 1114, 'frequence': 24, 'preds': {'and': 1, 'push': 1, 'xlatb': 1, 'clc': 1, 'pop': 1, 'mov': 5, 'sbb': 2, 'xor': 3, 'cmp': 1, 'rcl': 2, 'jmp': 2, 'sal': 1, 'inc': 1, 'lodsb': 1, 'test': 1}, 'sucs': {'push': 3, 'add': 1, 'sub': 1, 'and': 3, 'jb': 2, 'mov': 3, 'cmp': 1, 'std': 1, 'enter': 1, 'fsubr': 1, 'cdq': 1, 'je': 1, 'aas': 1, 'xor': 1, 'femms': 1, 'dec': 1, 'fcomi': 1}}, 'je': {'registers': {}, 'count': 1164, 'largest_period': 173, 'smallest_period': 1028, 'frequence': 9, 'preds': {'push': 1, 'sub': 1, 'test': 1, 'lcall': 1, 'clc': 1, 'cmp': 1, 'fld': 1, 'salc': 1, 'imul': 1}, 'sucs': {'push': 5, 'mov': 1, 'int': 1, 'and': 1, 'pop': 1}}, 'lahf': {'registers': {}, 'count': 992, 'largest_period': 1, 'smallest_period': 1000000, 'frequence': 2, 'preds': {'add': 1, 'mov': 1}, 'sucs': {'xor': 1, 'or': 1}}, 'arpl': {'registers': {'bp': 1, 'sp': 1, 'si': 1, 'cx': 2, 'di': 1}, 'count': 957, 'largest_period': 695, 'smallest_period': 909, 'frequence': 6, 'preds': {'mov': 2, 'lodsd': 1, 'and': 1, 'sub': 1, 'cwde': 1}, 'sucs': {'neg': 1, 'in': 1, 'inc': 1, 'stc': 1, 'and': 1, 'or': 1}}, 'neg': {'registers': {'edi': 1, 'eax': 1}, 'count': 1166, 'largest_period': 930, 'smallest_period': 1000000, 'frequence': 4, 'preds': {'arpl': 1, 'or': 1, 'push': 1, 'pop': 1}, 'sucs': {'int': 1, 'mov': 1, 'imul': 1, 'pop': 1}}, 'int': {'registers': {}, 'count': 1033, 'largest_period': 878, 'smallest_period': 973, 'frequence': 4, 'preds': {'neg': 1, 'je': 1, 'loopne': 1, 'add': 1}, 'sucs': {'and': 1, 'inc': 1, 'adc': 1, 'pop': 1}}, 'outsb': {'registers': {'dx': 8}, 'count': 1191, 'largest_period': 756, 'smallest_period': 690, 'frequence': 8, 'preds': {'and': 1, 'shr': 1, 'mov': 2, 'cbw': 1, 'into': 1, 'jmp': 1, 'jo': 1}, 'sucs': {'leave': 1, 'fucomi': 1, 'jno': 1, 'insb': 1, 'inc': 1, 'jmp': 1, 'dec': 1, 'and': 1}}, 'leave': {'registers': {}, 'count': 1107, 'largest_period': 582, 'smallest_period': 944, 'frequence': 5, 'preds': {'outsb': 1, 'push': 1, 'sub': 1, 'add': 1, 'lodsd': 1}, 'sucs': {'ret': 1, 'pop': 1, 'test': 1, 'jle': 1, 'sbb': 1}}, 'ret': {'registers': {}, 'count': 1179, 'largest_period': 213, 'smallest_period': 1147, 'frequence': 19, 'preds': {'leave': 1, 'ja': 1, 'sbb': 1, 'add': 1, 'imul': 1, 'inc': 1, 'xchg': 1, 'daa': 1, 'aaa': 2, 'mov': 4, 'jmp': 1, 'loop': 1, 'xor': 1, 'popal': 1, 'sub': 1}, 'sucs': {'mov': 5, 'push': 2, 'adc': 1, 'dec': 1, 'out': 1, 'shl': 1, 'hlt': 2, 'pop': 1, 'popal': 1, 'xor': 1, 'outsd': 1, 'sbb': 1, 'or': 1}}, 'salc': {'registers': {}, 'count': 1026, 'largest_period': 447, 'smallest_period': 940, 'frequence': 8, 'preds': {'mov': 2, 'das': 1, 'outsd': 1, 'jmp': 1, 'cli': 1, 'sbb': 1, 'fidivr': 1}, 'sucs': {'adc': 2, 'mov': 1, 'pop': 2, 'jno': 1, 'sub': 1, 'je': 1}}, 'adc': {'registers': {'al': 12, 'eax': 9, 'bh': 3, 'bl': 3, 'cl': 4, 'ah': 1, 'ebx': 2, 'edx': 1, 'esp': 1, 'ecx': 1, 'dl': 1, 'esi': 1}, 'count': 1174, 'largest_period': 395, 'smallest_period': 1162, 'frequence': 36, 'preds': {'salc': 2, 'ret': 1, 'or': 3, 'jo': 1, 'add': 1, 'push': 4, 'pushal': 1, 'pop': 4, 'hlt': 1, 'in': 1, 'fild': 1, 'out': 1, 'test': 1, 'sar': 1, 'stc': 1, 'aad': 1, 'loop': 1, 'adc': 2, 'int': 1, 'jl': 1, 'imul': 1, 'mov': 1, 'xor': 1, 'jge': 1, 'daa': 1, 'dec': 1}, 'sucs': {'idiv': 1, 'fild': 1, 'nop': 1, 'add': 4, 'push': 5, 'jl': 1, 'jo': 1, 'inc': 2, 'pop': 2, 'retf': 1, 'mov': 1, 'or': 1, 'sbb': 1, 'xor': 2, 'adc': 2, 'ljmp': 1, 'lcall': 1, 'jae': 1, 'rcr': 1, 'jns': 1, 'sahf': 1, 'jno': 1, 'js': 1, 'iretd': 1, 'in': 1}}, 'idiv': {'registers': {'dh': 1, 'edi': 1, 'ebx': 1}, 'count': 720, 'largest_period': 288, 'smallest_period': 1000000, 'frequence': 4, 'preds': {'adc': 1, 'sub': 1, 'sbb': 1, 'mov': 1}, 'sucs': {'push': 1, 'in': 1, 'jg': 1, 'dec': 1}}, 'insd': {'registers': {'dx': 10}, 'count': 1151, 'largest_period': 545, 'smallest_period': 1136, 'frequence': 10, 'preds': {'pop': 1, 'punpcklwd': 1, 'hlt': 1, 'popfd': 1, 'mov': 1, 'jge': 1, 'sbb': 1, 'cmc': 1, 'add': 1, 'xchg': 1}, 'sucs': {'ja': 1, 'retf': 1, 'cld': 1, 'mov': 2, 'jae': 1, 'hlt': 1, 'add': 1, 'jmp': 1, 'sbb': 1}}, 'ja': {'registers': {}, 'count': 297, 'largest_period': 136, 'smallest_period': 1000000, 'frequence': 3, 'preds': {'insd': 1, 'sbb': 1, 'lea': 1}, 'sucs': {'ret': 1, 'or': 1, 'push': 1}}, 'or': {'registers': {'al': 18, 'eax': 8, 'ebp': 4, 'edi': 2, 'bl': 3, 'edx': 5, 'ecx': 2, 'esi': 1, 'dh': 3, 'esp': 4, 'cl': 2, 'dl': 2, 'bh': 3, 'ch': 3}, 'count': 1189, 'largest_period': 252, 'smallest_period': 1158, 'frequence': 55, 'preds': {'push': 3, 'fild': 1, 'or': 6, 'inc': 1, 'mov': 5, 'clc': 1, 'ja': 1, 'xchg': 4, 'sbb': 1, 'add': 2, 'shl': 1, 'outsd': 3, 'fisub': 1, 'sar': 1, 'in': 2, 'and': 2, 'wait': 1, 'jb': 1, 'fst': 1, 'pop': 1, 'int3': 1, 'adc': 1, 'fcom': 1, 'sti': 1, 'call': 1, 'jns': 1, 'test': 1, 'aas': 1, 'arpl': 1, 'sal': 1, 'stosb': 1, 'lahf': 1, 'jmp': 1, 'iretd': 1, 'ret': 1, 'xor': 1}, 'sucs': {'mov': 3, 'or': 6, 'sbb': 1, 'neg': 1, 'pop': 4, 'imul': 2, 'xchg': 3, 'in': 3, 'adc': 3, 'add': 3, 'jmp': 2, 'int1': 2, 'push': 4, 'sub': 1, 'pushal': 1, 'clc': 1, 'aam': 1, 'ror': 1, 'xlatb': 1, 'cmpsb': 1, 'xor': 1, 'fistp': 1, 'sti': 1, 'and': 1, 'loopne': 1, 'jge': 1, 'sal': 1, 'rol': 2, 'stc': 1, 'jo': 1}}, 'jne': {'registers': {}, 'count': 1123, 'largest_period': 376, 'smallest_period': 926, 'frequence': 6, 'preds': {'mov': 2, 'imul': 1, 'pop': 1, 'out': 1, 'xor': 1}, 'sucs': {'mov': 1, 'imul': 1, 'sbb': 1, 'cdq': 1, 'out': 1, 'lea': 1}}, 'xchg': {'registers': {'eax': 16, 'ebx': 2, 'cl': 2, 'esp': 2, 'ebp': 2, 'edx': 2, 'al': 2, 'ecx': 3, 'esi': 4, 'edi': 3, 'bl': 1}, 'count': 1156, 'largest_period': 804, 'smallest_period': 1151, 'frequence': 21, 'preds': {'mov': 3, 'in': 1, 'wait': 1, 'or': 3, 'sub': 2, 'aaa': 1, 'popfd': 1, 'ljmp': 1, 'push': 1, 'add': 1, 'test': 2, 'and': 1, 'sbb': 1, 'dec': 1, 'pop': 1}, 'sucs': {'and': 1, 'sub': 1, 'daa': 1, 'add': 2, 'or': 4, 'ret': 1, 'jbe': 1, 'js': 2, 'stc': 1, 'pop': 1, 'push': 2, 'ljmp': 1, 'enter': 1, 'retf': 1, 'insd': 1}}, 'fild': {'registers': {}, 'count': 797, 'largest_period': 601, 'smallest_period': 1000000, 'frequence': 3, 'preds': {'adc': 1, 'xor': 1, 'sbb': 1}, 'sucs': {'or': 1, 'adc': 1, 'pop': 1}}, 'frstor': {'registers': {}, 'count': 0, 'largest_period': 0, 'smallest_period': 1000000, 'frequence': 1, 'preds': {'sbb': 1}, 'sucs': {'movzx': 1}}, 'movzx': {'registers': {'eax': 1, 'ecx': 1}, 'count': 181, 'largest_period': 1, 'smallest_period': 1000000, 'frequence': 2, 'preds': {'frstor': 1, 'inc': 1}, 'sucs': {'push': 1, 'add': 1}}, 'inc': {'registers': {'esi': 5, 'eax': 5, 'edx': 2, 'ebp': 4, 'ebx': 4, 'edi': 1, 'ecx': 3}, 'count': 1186, 'largest_period': 243, 'smallest_period': 1178, 'frequence': 26, 'preds': {'sub': 1, 'push': 3, 'jns': 1, 'pop': 1, 'ljmp': 2, 'fstp': 1, 'outsb': 1, 'adc': 2, 'add': 1, 'std': 1, 'arpl': 1, 'jbe': 1, 'mov': 2, 'movsd': 1, 'xor': 1, 'int': 1, 'fisub': 1, 'outsd': 1, 'clc': 1, 'sbb': 1, 'fmul': 1}, 'sucs': {'push': 5, 'or': 1, 'movzx': 1, 'mov': 3, 'ret': 1, 'pop': 2, 'jg': 1, 'sub': 2, 'hlt': 1, 'ljmp': 1, 'std': 1, 'pushal': 1, 'and': 1, 'pushfd': 1, 'cmp': 1, 'jecxz': 1, 'movsd': 1, 'cli': 1}}, 'fist': {'registers': {}, 'count': 980, 'largest_period': 852, 'smallest_period': 1000000, 'frequence': 3, 'preds': {'mov': 2, 'enter': 1}, 'sucs': {'push': 2, 'in': 1}}, 'nop': {'registers': {}, 'count': 1003, 'largest_period': 648, 'smallest_period': 990, 'frequence': 7, 'preds': {'pop': 1, 'adc': 1, 'mov': 2, 'iretd': 1, 'fdiv': 1, 'add': 1}, 'sucs': {'in': 1, 'clc': 1, 'int3': 1, 'imul': 1, 'mov': 2, 'lcall': 1}}, 'in': {'registers': {'al': 10, 'dx': 16, 'eax': 11}, 'count': 1141, 'largest_period': 696, 'smallest_period': 1080, 'frequence': 21, 'preds': {'nop': 1, 'push': 3, 'or': 3, 'idiv': 1, 'mov': 1, 'aam': 1, 'ror': 1, 'jg': 1, 'xor': 1, 'in': 1, 'rol': 1, 'lea': 1, 'arpl': 1, 'fist': 1, 'fistp': 1, 'pop': 1, 'adc': 1}, 'sucs': {'fcmove': 1, 'xchg': 1, 'and': 1, 'pop': 1, 'mov': 3, 'or': 2, 'sub': 1, 'add': 1, 'adc': 1, 'in': 1, 'xor': 1, 'int1': 1, 'out': 1, 'cli': 1, 'sbb': 1, 'cwde': 1, 'hlt': 1, 'jp': 1}}, 'fcmove': {'registers': {'st(0)': 1, 'st(6)': 1}, 'count': 0, 'largest_period': 0, 'smallest_period': 1000000, 'frequence': 1, 'preds': {'in': 1}, 'sucs': {'std': 1}}, 'std': {'registers': {}, 'count': 935, 'largest_period': 211, 'smallest_period': 858, 'frequence': 8, 'preds': {'fcmove': 1, 'and': 1, 'retf': 1, 'std': 1, 'cmp': 1, 'inc': 1, 'xor': 1, 'mov': 1}, 'sucs': {'sub': 1, 'jmp': 1, 'std': 1, 'add': 1, 'inc': 1, 'mov': 1, 'pop': 1, 'popal': 1}}, 'fdiv': {'registers': {'st(3)': 2, 'st(0)': 2}, 'count': 670, 'largest_period': 351, 'smallest_period': 647, 'frequence': 4, 'preds': {'daa': 1, 'outsd': 2, 'pop': 1}, 'sucs': {'wait': 1, 'jno': 1, 'nop': 1, 'fmul': 1}}, 'wait': {'registers': {}, 'count': 808, 'largest_period': 426, 'smallest_period': 425, 'frequence': 4, 'preds': {'fdiv': 1, 'mov': 1, 'wait': 1, 'pop': 1}, 'sucs': {'xchg': 1, 'wait': 1, 'or': 1, 'pop': 1}}, 'imul': {'registers': {'ebx': 1, 'edi': 4, 'eax': 4, 'ebp': 1, 'esp': 1, 'ecx': 2, 'esi': 2}, 'count': 1163, 'largest_period': 444, 'smallest_period': 1025, 'frequence': 11, 'preds': {'or': 2, 'nop': 1, 'outsd': 1, 'mov': 1, 'jne': 1, 'jmp': 1, 'jae': 1, 'neg': 1, 'lcall': 1, 'xor': 1}, 'sucs': {'xlatb': 1, 'ret': 1, 'outsd': 1, 'jne': 1, 'mov': 2, 'and': 1, 'sub': 1, 'adc': 1, 'fidivr': 1, 'je': 1}}, 'xlatb': {'registers': {}, 'count': 598, 'largest_period': 367, 'smallest_period': 485, 'frequence': 5, 'preds': {'imul': 1, 'jb': 1, 'jge': 1, 'or': 1, 'pop': 1}, 'sucs': {'cmp': 1, 'pop': 1, 'sal': 1, 'cbw': 1, 'xor': 1}}, 'retf': {'registers': {}, 'count': 1050, 'largest_period': 603, 'smallest_period': 578, 'frequence': 7, 'preds': {'and': 1, 'insd': 1, 'pop': 1, 'jno': 1, 'mov': 1, 'adc': 1, 'xchg': 1}, 'sucs': {'mov': 1, 'std': 1, 'aas': 1, 'out': 1, 'xor': 1, 'rol': 1, 'cmc': 1}}, 'int3': {'registers': {}, 'count': 1196, 'largest_period': 650, 'smallest_period': 1000000, 'frequence': 4, 'preds': {'nop': 1, 'jmp': 1, 'mov': 1, 'push': 1}, 'sucs': {'jmp': 1, 'js': 1, 'or': 1, 'loope': 1}}, 'jo': {'registers': {}, 'count': 1190, 'largest_period': 706, 'smallest_period': 1000000, 'frequence': 4, 'preds': {'xor': 1, 'adc': 1, 'outsd': 1, 'or': 1}, 'sucs': {'adc': 1, 'jge': 1, 'dec': 1, 'outsb': 1}}, 'fmul': {'registers': {}, 'count': 1176, 'largest_period': 672, 'smallest_period': 1000000, 'frequence': 3, 'preds': {'push': 2, 'fdiv': 1}, 'sucs': {'add': 1, 'test': 1, 'inc': 1}}, 'fcom': {'registers': {'st(0)': 2}, 'count': 713, 'largest_period': 618, 'smallest_period': 1000000, 'frequence': 3, 'preds': {'pop': 1, 'les': 1, 'jge': 1}, 'sucs': {'sub': 1, 'dec': 1, 'or': 1}}, 'test': {'registers': {'esi': 4, 'ebp': 1, 'bl': 1, 'cl': 1, 'eax': 4, 'edi': 1, 'al': 2, 'dh': 1, 'ch': 1, 'bh': 1}, 'count': 1155, 'largest_period': 256, 'smallest_period': 1083, 'frequence': 17, 'preds': {'sub': 1, 'add': 1, 'scasd': 1, 'ljmp': 1, 'clc': 2, 'stc': 1, 'leave': 1, 'pop': 2, 'push': 2, 'rcr': 1, 'fmul': 1, 'xor': 1, 'mov': 1, 'out': 1}, 'sucs': {'je': 1, 'insb': 1, 'mov': 4, 'aas': 1, 'out': 2, 'outsd': 1, 'jg': 1, 'adc': 1, 'xchg': 2, 'or': 1, 'add': 1, 'cmp': 1}}, 'shr': {'registers': {'esi': 1, 'ecx': 1}, 'count': 1125, 'largest_period': 229, 'smallest_period': 1000000, 'frequence': 3, 'preds': {'dec': 1, 'mov': 1, 'lea': 1}, 'sucs': {'outsb': 1, 'push': 1, 'clc': 1}}, 'fucomi': {'registers': {'st(7)': 1}, 'count': 0, 'largest_period': 0, 'smallest_period': 1000000, 'frequence': 1, 'preds': {'outsb': 1}, 'sucs': {'jns': 1}}, 'jns': {'registers': {}, 'count': 915, 'largest_period': 275, 'smallest_period': 1000000, 'frequence': 3, 'preds': {'fucomi': 1, 'stosb': 1, 'adc': 1}, 'sucs': {'inc': 1, 'push': 1, 'or': 1}}, 'shl': {'registers': {'ecx': 1, 'edi': 1, 'cl': 1, 'eax': 1}, 'count': 1105, 'largest_period': 459, 'smallest_period': 1010, 'frequence': 5, 'preds': {'lea': 1, 'mov': 2, 'ret': 1, 'pop': 1}, 'sucs': {'or': 1, 'add': 1, 'stc': 1, 'stosb': 1, 'lodsd': 1}}, 'int1': {'registers': {}, 'count': 1128, 'largest_period': 606, 'smallest_period': 711, 'frequence': 4, 'preds': {'or': 2, 'in': 1, 'push': 1}, 'sucs': {'call': 1, 'into': 1, 'xor': 1, 'daa': 1}}, 'jge': {'registers': {}, 'count': 1077, 'largest_period': 397, 'smallest_period': 954, 'frequence': 6, 'preds': {'call': 1, 'jo': 1, 'jno': 1, 'xor': 1, 'or': 1, 'fstp': 1}, 'sucs': {'add': 1, 'xlatb': 1, 'jb': 1, 'fcom': 1, 'insd': 1, 'adc': 1}}, 'lodsb': {'registers': {'al': 4}, 'count': 949, 'largest_period': 477, 'smallest_period': 616, 'frequence': 4, 'preds': {'pop': 1, 'cld': 1, 'push': 1, 'dec': 1}, 'sucs': {'fstp': 1, 'popal': 1, 'les': 1, 'cmp': 1}}, 'fstp': {'registers': {}, 'count': 1076, 'largest_period': 389, 'smallest_period': 1000000, 'frequence': 3, 'preds': {'lodsb': 1, 'stc': 1, 'push': 1}, 'sucs': {'sub': 1, 'inc': 1, 'jge': 1}}, 'punpcklwd': {'registers': {'mm6': 2}, 'count': 0, 'largest_period': 0, 'smallest_period': 1000000, 'frequence': 1, 'preds': {'push': 1}, 'sucs': {'insd': 1}}, 'iretd': {'registers': {}, 'count': 1073, 'largest_period': 504, 'smallest_period': 849, 'frequence': 5, 'preds': {'mov': 1, 'sbb': 1, 'popfd': 1, 'pushfd': 1, 'adc': 1}, 'sucs': {'hlt': 1, 'nop': 1, 'xor': 1, 'packuswb': 1, 'or': 1}}, 'hlt': {'registers': {}, 'count': 1182, 'largest_period': 394, 'smallest_period': 1181, 'frequence': 11, 'preds': {'iretd': 1, 'cmpsb': 1, 'ret': 2, 'inc': 1, 'and': 1, 'sbb': 1, 'add': 1, 'insd': 1, 'in': 1, 'dec': 1}, 'sucs': {'push': 2, 'adc': 1, 'insd': 1, 'add': 1, 'rcl': 1, 'out': 1, 'into': 1, 'cwde': 1, 'jecxz': 1, 'dec': 1}}, 'lcall': {'registers': {}, 'count': 1004, 'largest_period': 591, 'smallest_period': 822, 'frequence': 6, 'preds': {'push': 1, 'aam': 1, 'into': 1, 'dec': 1, 'adc': 1, 'nop': 1}, 'sucs': {'outsd': 1, 'add': 2, 'pop': 1, 'je': 1, 'imul': 1}}, 'jb': {'registers': {}, 'count': 741, 'largest_period': 356, 'smallest_period': 483, 'frequence': 5, 'preds': {'cmp': 2, 'insb': 1, 'push': 1, 'jge': 1}, 'sucs': {'loope': 1, 'outsd': 1, 'xlatb': 1, 'or': 1, 'push': 1}}, 'loope': {'registers': {}, 'count': 1197, 'largest_period': 467, 'smallest_period': 1000000, 'frequence': 4, 'preds': {'jb': 1, 'fidivr': 1, 'out': 1, 'int3': 1}, 'sucs': {'outsd': 1, 'mov': 2, 'lea': 1}}, 'ljmp': {'registers': {}, 'count': 816, 'largest_period': 361, 'smallest_period': 632, 'frequence': 7, 'preds': {'and': 1, 'mov': 1, 'sbb': 1, 'loop': 1, 'xchg': 1, 'inc': 1, 'adc': 1}, 'sucs': {'inc': 2, 'test': 1, 'fld': 1, 'xchg': 1, 'push': 1, 'pop': 1}}, 'fisub': {'registers': {}, 'count': 911, 'largest_period': 1, 'smallest_period': 1000000, 'frequence': 2, 'preds': {'aas': 1, 'mov': 1}, 'sucs': {'or': 1, 'inc': 1}}, 'pushal': {'registers': {}, 'count': 760, 'largest_period': 519, 'smallest_period': 570, 'frequence': 4, 'preds': {'or': 1, 'mov': 1, 'push': 1, 'inc': 1}, 'sucs': {'adc': 1, 'cli': 1, 'dec': 1, 'mov': 1}}, 'insb': {'registers': {'dx': 4}, 'count': 487, 'largest_period': 263, 'smallest_period': 355, 'frequence': 4, 'preds': {'test': 1, 'pushfd': 1, 'mov': 1, 'outsb': 1}, 'sucs': {'fadd': 1, 'mov': 1, 'jb': 1, 'into': 1}}, 'fadd': {'registers': {'st(7)': 1}, 'count': 0, 'largest_period': 0, 'smallest_period': 1000000, 'frequence': 1, 'preds': {'insb': 1}, 'sucs': {'dec': 1}}, 'pushfd': {'registers': {}, 'count': 861, 'largest_period': 723, 'smallest_period': 848, 'frequence': 4, 'preds': {'mov': 1, 'dec': 1, 'cdq': 1, 'inc': 1}, 'sucs': {'insb': 1, 'dec': 1, 'iretd': 1, 'xor': 1}}, 'movsb': {'registers': {}, 'count': 1064, 'largest_period': 907, 'smallest_period': 1000000, 'frequence': 3, 'preds': {'xor': 1, 'into': 1, 'lodsd': 1}, 'sucs': {'add': 1, 'sub': 1, 'sbb': 1}}, 'lodsd': {'registers': {'eax': 5}, 'count': 1106, 'largest_period': 694, 'smallest_period': 1097, 'frequence': 5, 'preds': {'add': 1, 'xor': 2, 'pop': 1, 'shl': 1}, 'sucs': {'mov': 1, 'arpl': 1, 'movsb': 1, 'fld': 1, 'leave': 1}}, 'jno': {'registers': {}, 'count': 974, 'largest_period': 481, 'smallest_period': 970, 'frequence': 6, 'preds': {'outsb': 1, 'fdiv': 1, 'mov': 1, 'salc': 1, 'pop': 1, 'adc': 1}, 'sucs': {'lea': 1, 'fcomp': 1, 'retf': 1, 'jge': 1, 'add': 1, 'jl': 1}}, 'stosb': {'registers': {'al': 5}, 'count': 1010, 'largest_period': 437, 'smallest_period': 967, 'frequence': 5, 'preds': {'lea': 1, 'mov': 1, 'pop': 1, 'sub': 1, 'shl': 1}, 'sucs': {'jns': 1, 'mov': 1, 'add': 1, 'or': 1, 'jmp': 1}}, 'fidivr': {'registers': {}, 'count': 1025, 'largest_period': 1, 'smallest_period': 1000000, 'frequence': 2, 'preds': {'push': 1, 'imul': 1}, 'sucs': {'loope': 1, 'salc': 1}}, 'not': {'registers': {'ecx': 1}, 'count': 0, 'largest_period': 0, 'smallest_period': 1000000, 'frequence': 1, 'preds': {'mov': 1}, 'sucs': {'and': 1}}, 'jg': {'registers': {}, 'count': 1044, 'largest_period': 492, 'smallest_period': 792, 'frequence': 5, 'preds': {'idiv': 1, 'inc': 1, 'test': 1, 'jbe': 1, 'and': 1}, 'sucs': {'add': 1, 'in': 1, 'pop': 1, 'loop': 1, 'outsd': 1}}, 'rol': {'registers': {'edx': 1, 'esi': 1}, 'count': 1031, 'largest_period': 604, 'smallest_period': 1013, 'frequence': 7, 'preds': {'add': 1, 'dec': 1, 'rol': 1, 'retf': 1, 'or': 2, 'jmp': 1}, 'sucs': {'add': 3, 'rol': 1, 'in': 1, 'sbb': 1, 'mov': 1}}, 'out': {'registers': {'dx': 8, 'al': 9, 'eax': 7}, 'count': 1081, 'largest_period': 322, 'smallest_period': 927, 'frequence': 16, 'preds': {'dec': 1, 'ret': 1, 'enter': 1, 'mov': 2, 'call': 1, 'retf': 1, 'outsd': 1, 'test': 2, 'js': 1, 'hlt': 1, 'in': 1, 'jnp': 1, 'jne': 1, 'jp': 1}, 'sucs': {'mov': 2, 'into': 1, 'clc': 1, 'repne lodsd': 1, 'daa': 1, 'loope': 1, 'aam': 1, 'adc': 1, 'sbb': 1, 'fsubr': 1, 'popal': 1, 'jne': 1, 'jnp': 1, 'push': 1, 'test': 1}}, 'les': {'registers': {'eax': 1, 'edi': 1}, 'count': 616, 'largest_period': 1, 'smallest_period': 1000000, 'frequence': 2, 'preds': {'sbb': 1, 'lodsb': 1}, 'sucs': {'and': 1, 'fcom': 1}}, 'stc': {'registers': {}, 'count': 1119, 'largest_period': 388, 'smallest_period': 874, 'frequence': 8, 'preds': {'and': 1, 'cmpsb': 1, 'shl': 1, 'xchg': 1, 'dec': 1, 'arpl': 1, 'into': 1, 'or': 1}, 'sucs': {'sbb': 1, 'fstp': 1, 'aaa': 1, 'test': 1, 'adc': 1, 'jbe': 1, 'sub': 1, 'mov': 1}}, 'into': {'registers': {}, 'count': 905, 'largest_period': 386, 'smallest_period': 873, 'frequence': 7, 'preds': {'out': 1, 'mov': 1, 'insb': 1, 'sub': 1, 'int1': 1, 'hlt': 1, 'push': 1}, 'sucs': {'mov': 1, 'cmpsb': 1, 'outsb': 1, 'xor': 1, 'lcall': 1, 'stc': 1, 'movsb': 1}}, 'enter': {'registers': {}, 'count': 1093, 'largest_period': 702, 'smallest_period': 851, 'frequence': 5, 'preds': {'dec': 1, 'cmp': 1, 'xchg': 1, 'packuswb': 1, 'sub': 1}, 'sucs': {'out': 1, 'aaa': 1, 'sal': 1, 'fist': 1, 'ror': 1}}, 'ror': {'registers': {'ebx': 1, 'bl': 1, 'cl': 2, 'eax': 1}, 'count': 1094, 'largest_period': 428, 'smallest_period': 1000000, 'frequence': 3, 'preds': {'clc': 1, 'or': 1, 'enter': 1}, 'sucs': {'add': 1, 'in': 1, 'xor': 1}}, 'jl': {'registers': {}, 'count': 975, 'largest_period': 572, 'smallest_period': 1000000, 'frequence': 3, 'preds': {'adc': 1, 'dec': 1, 'jno': 1}, 'sucs': {'jmp': 1, 'and': 1, 'adc': 1}}, 'js': {'registers': {}, 'count': 1133, 'largest_period': 379, 'smallest_period': 1112, 'frequence': 7, 'preds': {'int3': 1, 'mov': 1, 'xchg': 2, 'outsd': 1, 'adc': 1, 'cli': 1}, 'sucs': {'jbe': 1, 'mov': 2, 'sbb': 2, 'out': 1, 'add': 1}}, 'jbe': {'registers': {}, 'count': 868, 'largest_period': 463, 'smallest_period': 791, 'frequence': 5, 'preds': {'js': 1, 'xchg': 1, 'cwde': 1, 'mov': 1, 'stc': 1}, 'sucs': {'sbb': 1, 'and': 1, 'inc': 1, 'jg': 1, 'mov': 1}}, 'repne lodsd': {'registers': {'eax': 1}, 'count': 0, 'largest_period': 0, 'smallest_period': 1000000, 'frequence': 1, 'preds': {'out': 1}, 'sucs': {'sbb': 1}}, 'aam': {'registers': {}, 'count': 675, 'largest_period': 422, 'smallest_period': 590, 'frequence': 4, 'preds': {'sbb': 1, 'or': 1, 'out': 1, 'add': 1}, 'sucs': {'outsd': 1, 'in': 1, 'lcall': 1, 'sti': 1}}, 'fcomp': {'registers': {}, 'count': 1103, 'largest_period': 1, 'smallest_period': 1000000, 'frequence': 2, 'preds': {'jno': 1, 'mov': 1}, 'sucs': {'mov': 1, 'pop': 1}}, 'scasd': {'registers': {'eax': 1}, 'count': 0, 'largest_period': 0, 'smallest_period': 1000000, 'frequence': 1, 'preds': {'outsd': 1}, 'sucs': {'test': 1}}, 'lock xchg': {'registers': {'ch': 1}, 'count': 0, 'largest_period': 0, 'smallest_period': 1000000, 'frequence': 1, 'preds': {'and': 1}, 'sucs': {'add': 1}}, 'cmpsb': {'registers': {}, 'count': 551, 'largest_period': 393, 'smallest_period': 500, 'frequence': 4, 'preds': {'into': 1, 'mov': 1, 'or': 1, 'jnp': 1}, 'sucs': {'stc': 1, 'hlt': 1, 'mov': 1, 'rcl': 1}}, 'sar': {'registers': {'cl': 2, 'ch': 1}, 'count': 1170, 'largest_period': 680, 'smallest_period': 1144, 'frequence': 4, 'preds': {'sal': 1, 'mov': 2, 'add': 1}, 'sucs': {'or': 1, 'adc': 1, 'xor': 1, 'and': 1}}, 'cmpsd': {'registers': {}, 'count': 636, 'largest_period': 1, 'smallest_period': 1000000, 'frequence': 2, 'preds': {'mov': 1, 'pop': 1}, 'sucs': {'mov': 1, 'and': 1}}, 'das': {'registers': {}, 'count': 0, 'largest_period': 0, 'smallest_period': 1000000, 'frequence': 1, 'preds': {'and': 1}, 'sucs': {'salc': 1}}, 'cmpxchg': {'registers': {'bl': 1, 'al': 1}, 'count': 0, 'largest_period': 0, 'smallest_period': 1000000, 'frequence': 1, 'preds': {'mov': 1}, 'sucs': {'mov': 1}}, 'aaa': {'registers': {}, 'count': 702, 'largest_period': 472, 'smallest_period': 1000000, 'frequence': 3, 'preds': {'stc': 1, 'pop': 1, 'enter': 1}, 'sucs': {'xchg': 1, 'ret': 2}}, 'cld': {'registers': {}, 'count': 1038, 'largest_period': 1, 'smallest_period': 1000000, 'frequence': 2, 'preds': {'insd': 1, 'sbb': 1}, 'sucs': {'lodsb': 1, 'loop': 1}}, 'popal': {'registers': {}, 'count': 1145, 'largest_period': 543, 'smallest_period': 937, 'frequence': 7, 'preds': {'lodsb': 1, 'sbb': 2, 'out': 1, 'ret': 1, 'std': 1, 'xor': 1}, 'sucs': {'jmp': 1, 'popfd': 1, 'rcr': 1, 'mov': 1, 'outsd': 1, 'xor': 1, 'ret': 1}}, 'cbw': {'registers': {}, 'count': 0, 'largest_period': 0, 'smallest_period': 1000000, 'frequence': 1, 'preds': {'xlatb': 1}, 'sucs': {'outsb': 1}}, 'xabort': {'registers': {}, 'count': 0, 'largest_period': 0, 'smallest_period': 1000000, 'frequence': 1, 'preds': {'mov': 1}, 'sucs': {'popfd': 1}}, 'popfd': {'registers': {}, 'count': 543, 'largest_period': 522, 'smallest_period': 1000000, 'frequence': 3, 'preds': {'xabort': 1, 'push': 1, 'popal': 1}, 'sucs': {'iretd': 1, 'xchg': 1, 'insd': 1}}, 'fld': {'registers': {}, 'count': 1097, 'largest_period': 902, 'smallest_period': 1000000, 'frequence': 3, 'preds': {'ljmp': 1, 'rcr': 1, 'lodsd': 1}, 'sucs': {'outsd': 1, 'je': 1, 'clc': 1}}, 'cli': {'registers': {}, 'count': 1132, 'largest_period': 697, 'smallest_period': 1000000, 'frequence': 3, 'preds': {'pushal': 1, 'in': 1, 'inc': 1}, 'sucs': {'push': 1, 'salc': 1, 'js': 1}}, 'rcr': {'registers': {}, 'count': 900, 'largest_period': 664, 'smallest_period': 1000000, 'frequence': 3, 'preds': {'push': 1, 'popal': 1, 'adc': 1}, 'sucs': {'mov': 1, 'test': 1, 'fld': 1}}, 'jnp': {'registers': {}, 'count': 881, 'largest_period': 831, 'smallest_period': 1000000, 'frequence': 3, 'preds': {'xor': 1, 'mov': 1, 'out': 1}, 'sucs': {'cmpsb': 1, 'out': 1, 'mov': 1}}, 'rcl': {'registers': {}, 'count': 1138, 'largest_period': 640, 'smallest_period': 1000000, 'frequence': 3, 'preds': {'cmpsb': 1, 'hlt': 1, 'daa': 1}, 'sucs': {'cmp': 2, 'ud2': 1}}, 'fistp': {'registers': {}, 'count': 1021, 'largest_period': 1, 'smallest_period': 1000000, 'frequence': 2, 'preds': {'or': 1, 'pop': 1}, 'sucs': {'xor': 1, 'in': 1}}, 'loop': {'registers': {}, 'count': 1039, 'largest_period': 793, 'smallest_period': 813, 'frequence': 4, 'preds': {'xor': 1, 'jg': 1, 'sbb': 1, 'cld': 1}, 'sucs': {'ljmp': 1, 'call': 1, 'adc': 1, 'ret': 1}}, 'jle': {'registers': {}, 'count': 944, 'largest_period': 669, 'smallest_period': 668, 'frequence': 4, 'preds': {'xor': 1, 'pop': 1, 'jle': 1, 'leave': 1}, 'sucs': {'sub': 1, 'jle': 1, 'outsd': 2}}, 'fst': {'registers': {}, 'count': 0, 'largest_period': 0, 'smallest_period': 1000000, 'frequence': 1, 'preds': {'outsd': 1}, 'sucs': {'or': 1}}, 'ud2': {'registers': {}, 'count': 0, 'largest_period': 0, 'smallest_period': 1000000, 'frequence': 1, 'preds': {'rcl': 1}, 'sucs': {'mov': 1}}, 'fsubr': {'registers': {'st(4)': 1, 'st(0)': 1}, 'count': 932, 'largest_period': 766, 'smallest_period': 1000000, 'frequence': 3, 'preds': {'out': 1, 'cmp': 1, 'sub': 1}, 'sucs': {'lea': 1, 'push': 1, 'mov': 1}}, 'sti': {'registers': {}, 'count': 828, 'largest_period': 733, 'smallest_period': 745, 'frequence': 4, 'preds': {'aam': 1, 'or': 1, 'mov': 1, 'sub': 1}, 'sucs': {'push': 1, 'mov': 2, 'or': 1}}, 'cwde': {'registers': {}, 'count': 982, 'largest_period': 957, 'smallest_period': 1000000, 'frequence': 3, 'preds': {'dec': 1, 'hlt': 1, 'in': 1}, 'sucs': {'jbe': 1, 'arpl': 1, 'push': 1}}, 'cmc': {'registers': {}, 'count': 1051, 'largest_period': 1, 'smallest_period': 1000000, 'frequence': 2, 'preds': {'sub': 1, 'retf': 1}, 'sucs': {'sal': 1, 'insd': 1}}, 'jp': {'registers': {}, 'count': 1080, 'largest_period': 1, 'smallest_period': 1000000, 'frequence': 2, 'preds': {'sal': 1, 'in': 1}, 'sucs': {'mov': 1, 'out': 1}}, 'aad': {'registers': {}, 'count': 0, 'largest_period': 0, 'smallest_period': 1000000, 'frequence': 1, 'preds': {'pop': 1}, 'sucs': {'adc': 1}}, 'cdq': {'registers': {}, 'count': 846, 'largest_period': 1, 'smallest_period': 1000000, 'frequence': 2, 'preds': {'jne': 1, 'cmp': 1}, 'sucs': {'dec': 1, 'pushfd': 1}}, 'packuswb': {'registers': {'mm3': 1}, 'count': 0, 'largest_period': 0, 'smallest_period': 1000000, 'frequence': 1, 'preds': {'iretd': 1}, 'sucs': {'enter': 1}}, 'movsd': {'registers': {}, 'count': 1100, 'largest_period': 1, 'smallest_period': 1000000, 'frequence': 2, 'preds': {'pop': 1, 'inc': 1}, 'sucs': {'inc': 1, 'add': 1}}, 'fdivr': {'registers': {}, 'count': 1184, 'largest_period': 1, 'smallest_period': 1000000, 'frequence': 2, 'preds': {'push': 2}, 'sucs': {'pop': 1, 'mov': 1}}, 'jae': {'registers': {}, 'count': 894, 'largest_period': 1, 'smallest_period': 1000000, 'frequence': 2, 'preds': {'insd': 1, 'adc': 1}, 'sucs': {'imul': 1, 'xor': 1}}, 'sahf': {'registers': {}, 'count': 0, 'largest_period': 0, 'smallest_period': 1000000, 'frequence': 1, 'preds': {'adc': 1}, 'sucs': {'xor': 1}}, 'loopne': {'registers': {}, 'count': 1090, 'largest_period': 972, 'smallest_period': 1000000, 'frequence': 3, 'preds': {'or': 1, 'add': 1, 'and': 1}, 'sucs': {'dec': 1, 'int': 1, 'mov': 1}}, 'jecxz': {'registers': {}, 'count': 1061, 'largest_period': 1, 'smallest_period': 1000000, 'frequence': 2, 'preds': {'inc': 1, 'hlt': 1}, 'sucs': {'and': 1, 'pop': 1}}, 'f2xm1': {'registers': {}, 'count': 0, 'largest_period': 0, 'smallest_period': 1000000, 'frequence': 1, 'preds': {'mov': 1}, 'sucs': {'xor': 1}}, 'femms': {'registers': {}, 'count': 0, 'largest_period': 0, 'smallest_period': 1000000, 'frequence': 1, 'preds': {'cmp': 1}, 'sucs': {'mov': 1}}, 'fcomi': {'registers': {'st(0)': 1}, 'count': 0, 'largest_period': 0, 'smallest_period': 1000000, 'frequence': 1, 'preds': {'cmp': 1}, 'sucs': {'pop': 1}}, 'bound': {'registers': {'eax': 1}, 'count': 0, 'largest_period': 0, 'smallest_period': 1000000, 'frequence': 1, 'preds': {'mov': 1}, 'sucs': {'push': 1}}}\n"
     ]
    }
   ],
   "source": [
    "#Paths For Files\n",
    "exceptions_counter = 0\n",
    "exceptions = []\n",
    "stats = {}\n",
    "\n",
    "path = \"../data/samples/\"\n",
    "file = \"pink.exe\"\n",
    "\n",
    "try:\n",
    "    exe = pefile.PE(path+file)\n",
    "    try:\n",
    "        inst, seq = fine_disassemble(exe)\n",
    "        stats[hash(file)] = {'stats':inst, 'sequence':seq} \n",
    "        inst = None\n",
    "        seq = None\n",
    "    except:\n",
    "        exceptions.append([f[:-1],\"code section not found\"])\n",
    "except Exception:\n",
    "    exceptions_counter += 1\n",
    "    exceptions.append([hash(file)] )\n",
    "    \n",
    "print(stats[hash(file)]['stats'])"
   ]
  },
  {
   "cell_type": "code",
   "execution_count": null,
   "metadata": {},
   "outputs": [],
   "source": []
  },
  {
   "cell_type": "code",
   "execution_count": null,
   "metadata": {},
   "outputs": [],
   "source": []
  }
 ],
 "metadata": {
  "kernelspec": {
   "display_name": "Python 3 (ipykernel)",
   "language": "python",
   "name": "python3"
  },
  "language_info": {
   "codemirror_mode": {
    "name": "ipython",
    "version": 3
   },
   "file_extension": ".py",
   "mimetype": "text/x-python",
   "name": "python",
   "nbconvert_exporter": "python",
   "pygments_lexer": "ipython3",
   "version": "3.10.4"
  }
 },
 "nbformat": 4,
 "nbformat_minor": 1
}
