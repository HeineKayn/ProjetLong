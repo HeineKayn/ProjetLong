{
 "cells": [
  {
   "cell_type": "markdown",
   "metadata": {},
   "source": [
    "****Import Table Extractor****\n",
    "* Extract imported functions (only includes functions linked at compile time)"
   ]
  },
  {
   "cell_type": "markdown",
   "metadata": {},
   "source": [
    "*This is just a dumb piece of code, we didn't give any particular attention to the beauty, the optimization or the conventions of python when writing this notebook. If you have any remarks about that please leave a comment we'd love to enhance our coding skills.*"
   ]
  },
  {
   "cell_type": "code",
   "execution_count": null,
   "metadata": {},
   "outputs": [],
   "source": [
    "!pip install pefile"
   ]
  },
  {
   "cell_type": "code",
   "execution_count": 1,
   "metadata": {
    "_cell_guid": "79c7e3d0-c299-4dcb-8224-4455121ee9b0",
    "_uuid": "d629ff2d2480ee46fbb7e2d37f6b5fab8052498a"
   },
   "outputs": [],
   "source": [
    "import sys\n",
    "import pefile\n",
    "import pandas as pd\n",
    "import os.path\n",
    "from os import listdir\n",
    "import pprint\n",
    "import json"
   ]
  },
  {
   "cell_type": "code",
   "execution_count": 2,
   "metadata": {},
   "outputs": [],
   "source": [
    "path = \"../data/samples/\"\n",
    "file = \"pink.exe\"\n",
    "\n",
    "exe  = pefile.PE(path+file)\n",
    "rows = {}\n",
    "try:\n",
    "    for entry in exe.DIRECTORY_ENTRY_IMPORT:\n",
    "        rows[entry.dll.decode('utf-8')]=[]\n",
    "        for func in entry.imports:\n",
    "            if func.name is not None:\n",
    "                rows[entry.dll.decode('utf-8')].append({\n",
    "                    'name':func.name.decode('utf-8'), 'ordinal':func.ordinal\n",
    "                })\n",
    "            else:\n",
    "                rows[entry.dll.decode('utf-8')].append({\n",
    "                    'name':None, 'ordinal':func.ordinal\n",
    "                })\n",
    "except:\n",
    "    exceptions.append([f,'No imports'])"
   ]
  },
  {
   "cell_type": "code",
   "execution_count": 3,
   "metadata": {},
   "outputs": [
    {
     "name": "stdout",
     "output_type": "stream",
     "text": [
      "{'api-ms-win-crt-heap-l1-1-0.dll': [{'name': 'free', 'ordinal': None}], 'api-ms-win-crt-locale-l1-1-0.dll': [{'name': '_configthreadlocale', 'ordinal': None}], 'api-ms-win-crt-math-l1-1-0.dll': [{'name': '__setusermatherr', 'ordinal': None}], 'api-ms-win-crt-runtime-l1-1-0.dll': [{'name': 'exit', 'ordinal': None}], 'api-ms-win-crt-stdio-l1-1-0.dll': [{'name': '_set_fmode', 'ordinal': None}], 'api-ms-win-crt-string-l1-1-0.dll': [{'name': 'strnlen', 'ordinal': None}], 'CRYPT32.dll': [{'name': 'CryptBinaryToStringA', 'ordinal': None}], 'KERNEL32.DLL': [{'name': 'LoadLibraryA', 'ordinal': None}, {'name': 'ExitProcess', 'ordinal': None}, {'name': 'GetProcAddress', 'ordinal': None}, {'name': 'VirtualProtect', 'ordinal': None}], 'VCRUNTIME140.dll': [{'name': 'memset', 'ordinal': None}]}\n"
     ]
    }
   ],
   "source": [
    "print(rows)"
   ]
  },
  {
   "cell_type": "code",
   "execution_count": null,
   "metadata": {},
   "outputs": [],
   "source": [
    "with open('imports.json', 'a') as imports:\n",
    "    #json.dump(rows,imports)\n",
    "    pass"
   ]
  }
 ],
 "metadata": {
  "kernelspec": {
   "display_name": "Python 3 (ipykernel)",
   "language": "python",
   "name": "python3"
  },
  "language_info": {
   "codemirror_mode": {
    "name": "ipython",
    "version": 3
   },
   "file_extension": ".py",
   "mimetype": "text/x-python",
   "name": "python",
   "nbconvert_exporter": "python",
   "pygments_lexer": "ipython3",
   "version": "3.10.4"
  }
 },
 "nbformat": 4,
 "nbformat_minor": 1
}
