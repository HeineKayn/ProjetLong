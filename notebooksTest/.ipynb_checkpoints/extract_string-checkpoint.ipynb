{
 "cells": [
  {
   "cell_type": "code",
   "execution_count": 1,
   "metadata": {},
   "outputs": [],
   "source": [
    "import sys\n",
    "import pandas as pd\n",
    "import os.path\n",
    "from os import listdir\n",
    "import pprint\n",
    "import json\n",
    "import pandas as pd"
   ]
  },
  {
   "cell_type": "code",
   "execution_count": 2,
   "metadata": {},
   "outputs": [],
   "source": [
    "from mmap import mmap, PROT_READ\n",
    "import re\n",
    "import sys\n",
    "import string\n",
    "\n",
    "def strings(filename, min=5):\n",
    "    with open(filename, errors=\"ignore\") as f:\n",
    "        result = \"\"\n",
    "        for c in f.read():\n",
    "            if c in string.printable:\n",
    "                result += c\n",
    "                continue\n",
    "            if len(result) >= min:\n",
    "                yield result\n",
    "            result = \"\"\n",
    "        if len(result) >= min:  # catch result at EOF\n",
    "            yield result"
   ]
  },
  {
   "cell_type": "code",
   "execution_count": 4,
   "metadata": {},
   "outputs": [
    {
     "name": "stdout",
     "output_type": "stream",
     "text": [
      "{'memset': 1}\n"
     ]
    }
   ],
   "source": [
    "path = \"../data/samples/\"\n",
    "file = \"pink.exe\"\n",
    "\n",
    "strings_dist={}\n",
    "for word in strings(path+file):\n",
    "    if word in strings_dist.keys():\n",
    "        strings_dist[word] += 1\n",
    "    else :\n",
    "        strings_dist={word:1}\n",
    "print(s)"
   ]
  },
  {
   "cell_type": "code",
   "execution_count": null,
   "metadata": {},
   "outputs": [],
   "source": [
    "df = open('strings.json','a')\n",
    "json.dump(strings_dist,df)\n",
    "df.close()"
   ]
  }
 ],
 "metadata": {
  "kernelspec": {
   "display_name": "Python 3 (ipykernel)",
   "language": "python",
   "name": "python3"
  },
  "language_info": {
   "codemirror_mode": {
    "name": "ipython",
    "version": 3
   },
   "file_extension": ".py",
   "mimetype": "text/x-python",
   "name": "python",
   "nbconvert_exporter": "python",
   "pygments_lexer": "ipython3",
   "version": "3.10.4"
  }
 },
 "nbformat": 4,
 "nbformat_minor": 1
}
