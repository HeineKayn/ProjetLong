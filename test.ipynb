{
 "cells": [
  {
   "cell_type": "code",
   "execution_count": 2,
   "metadata": {},
   "outputs": [],
   "source": [
    "import projetLib as proj\n",
    "from torch.utils.data import DataLoader\n",
    "import torch\n",
    "import sys\n",
    "from torch.nn import BCEWithLogitsLoss, HingeEmbeddingLoss\n",
    "from statistics import mean"
   ]
  },
  {
   "cell_type": "code",
   "execution_count": 3,
   "metadata": {},
   "outputs": [
    {
     "name": "stdout",
     "output_type": "stream",
     "text": [
      "[5000, 5000] 10000\n",
      "[1000, 1000] 2000\n"
     ]
    }
   ],
   "source": [
    "batch_size = 16\n",
    "limit = 10000\n",
    "sizeTrain = [5000,5000]\n",
    "sizeTest = [1000,1000]\n",
    "\n",
    "trainDataset, testDataset = proj.image.getTrainTest(\n",
    "    resize=(224,224), batch_size=batch_size, trainSize=sizeTrain, testSize=sizeTest,\n",
    "    extensions=[\"pe\"], seed=1, doRGB=True)\n",
    "\n",
    "print(sizeTrain,len(trainDataset))\n",
    "print(sizeTest,len(testDataset))"
   ]
  },
  {
   "cell_type": "code",
   "execution_count": 5,
   "metadata": {},
   "outputs": [
    {
     "name": "stdout",
     "output_type": "stream",
     "text": [
      "[5000, 5000] 10000\n",
      "[1000, 1000] 2000\n"
     ]
    }
   ],
   "source": []
  }
 ],
 "metadata": {
  "kernelspec": {
   "display_name": "base",
   "language": "python",
   "name": "python3"
  },
  "language_info": {
   "codemirror_mode": {
    "name": "ipython",
    "version": 3
   },
   "file_extension": ".py",
   "mimetype": "text/x-python",
   "name": "python",
   "nbconvert_exporter": "python",
   "pygments_lexer": "ipython3",
   "version": "3.9.12"
  },
  "orig_nbformat": 4,
  "vscode": {
   "interpreter": {
    "hash": "0650c59a78a128c748f8aadfab5692cc08be5aacb695e9a8f2efcdc6dbedda40"
   }
  }
 },
 "nbformat": 4,
 "nbformat_minor": 2
}
