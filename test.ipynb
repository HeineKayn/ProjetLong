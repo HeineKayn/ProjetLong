{
 "cells": [
  {
   "cell_type": "code",
   "execution_count": 2,
   "metadata": {},
   "outputs": [],
   "source": [
    "import projetLib as proj\n",
    "from torch.utils.data import DataLoader\n",
    "import torch\n",
    "import sys\n",
    "from torch.nn import BCEWithLogitsLoss, HingeEmbeddingLoss\n",
    "from statistics import mean"
   ]
  },
  {
   "cell_type": "code",
   "execution_count": 11,
   "metadata": {},
   "outputs": [
    {
     "name": "stdout",
     "output_type": "stream",
     "text": [
      "[10000, 10000] 20000\n",
      "[3000, 3000] 6000\n"
     ]
    }
   ],
   "source": [
    "batch_size = 16\n",
    "limit = 10000\n",
    "sizeTrain = [10000,10000]\n",
    "sizeTest = [2000,2000]\n",
    "\n",
    "trainDataset, testDataset = proj.image.getTrainTest(\n",
    "    resize=(224,224), batch_size=batch_size, trainSize=sizeTrain, testSize=sizeTest,\n",
    "    extensions=[\"pe\"], seed=1, doRGB=True)\n",
    "\n",
    "print(sizeTrain,len(trainDataset))\n",
    "print(sizeTest,len(testDataset))"
   ]
  },
  {
   "cell_type": "code",
   "execution_count": 19,
   "metadata": {},
   "outputs": [
    {
     "name": "stdout",
     "output_type": "stream",
     "text": [
      "1.0E-03\n"
     ]
    }
   ],
   "source": [
    "b = 0.001\n",
    "a = f\"{b:.1E}\"\n",
    "print(a)"
   ]
  }
 ],
 "metadata": {
  "kernelspec": {
   "display_name": "Python 3",
   "language": "python",
   "name": "python3"
  },
  "language_info": {
   "codemirror_mode": {
    "name": "ipython",
    "version": 3
   },
   "file_extension": ".py",
   "mimetype": "text/x-python",
   "name": "python",
   "nbconvert_exporter": "python",
   "pygments_lexer": "ipython3",
   "version": "3.10.3"
  },
  "orig_nbformat": 4,
  "vscode": {
   "interpreter": {
    "hash": "2d27e3483a68ae9ee9392c1ae8c113dfd1d356d2ea26a62edcaca8c39a69f0c5"
   }
  }
 },
 "nbformat": 4,
 "nbformat_minor": 2
}
